{
  "metadata": {
    "kernelspec": {
      "language": "python",
      "display_name": "Python 3",
      "name": "python3"
    },
    "language_info": {
      "name": "python",
      "version": "3.10.13",
      "mimetype": "text/x-python",
      "codemirror_mode": {
        "name": "ipython",
        "version": 3
      },
      "pygments_lexer": "ipython3",
      "nbconvert_exporter": "python",
      "file_extension": ".py"
    },
    "kaggle": {
      "accelerator": "none",
      "dataSources": [
        {
          "sourceId": 3004,
          "databundleVersionId": 861823,
          "sourceType": "competition"
        }
      ],
      "dockerImageVersionId": 30746,
      "isInternetEnabled": false,
      "language": "python",
      "sourceType": "notebook",
      "isGpuEnabled": false
    },
    "colab": {
      "name": "VGG16_digits_recognition",
      "provenance": [],
      "include_colab_link": true
    }
  },
  "nbformat_minor": 0,
  "nbformat": 4,
  "cells": [
    {
      "cell_type": "markdown",
      "metadata": {
        "id": "view-in-github",
        "colab_type": "text"
      },
      "source": [
        "<a href=\"https://colab.research.google.com/github/Ox03bb/Digits_Recognition/blob/main/transfer_learning.ipynb\" target=\"_parent\"><img src=\"https://colab.research.google.com/assets/colab-badge.svg\" alt=\"Open In Colab\"/></a>"
      ]
    },
    {
      "source": [
        "\n",
        "# IMPORTANT: RUN THIS CELL IN ORDER TO IMPORT YOUR KAGGLE DATA SOURCES\n",
        "# TO THE CORRECT LOCATION (/kaggle/input) IN YOUR NOTEBOOK,\n",
        "# THEN FEEL FREE TO DELETE THIS CELL.\n",
        "# NOTE: THIS NOTEBOOK ENVIRONMENT DIFFERS FROM KAGGLE'S PYTHON\n",
        "# ENVIRONMENT SO THERE MAY BE MISSING LIBRARIES USED BY YOUR\n",
        "# NOTEBOOK.\n",
        "\n",
        "import os\n",
        "import sys\n",
        "from tempfile import NamedTemporaryFile\n",
        "from urllib.request import urlopen\n",
        "from urllib.parse import unquote, urlparse\n",
        "from urllib.error import HTTPError\n",
        "from zipfile import ZipFile\n",
        "import tarfile\n",
        "import shutil\n",
        "\n",
        "CHUNK_SIZE = 40960\n",
        "DATA_SOURCE_MAPPING = 'digit-recognizer:https%3A%2F%2Fstorage.googleapis.com%2Fkaggle-competitions-data%2Fkaggle-v2%2F3004%2F861823%2Fbundle%2Farchive.zip%3FX-Goog-Algorithm%3DGOOG4-RSA-SHA256%26X-Goog-Credential%3Dgcp-kaggle-com%2540kaggle-161607.iam.gserviceaccount.com%252F20240711%252Fauto%252Fstorage%252Fgoog4_request%26X-Goog-Date%3D20240711T234709Z%26X-Goog-Expires%3D259200%26X-Goog-SignedHeaders%3Dhost%26X-Goog-Signature%3D13decdca4b7a855624b1c6d94c021b67ff1b1bf32a8e7c26686a2397487193bb3c4eb4fa4c04ce8901e5b9f10039b88bb2b95b85a6889fba28fd4cdfb51d64eace12cee621bc74e3b87d46d558d634ad29098ce71e2631d31640e0a57132334166345e3ab71e6b5a3f9d87b6982994b31fbe3f2fd9ca3cb55540ec935d1b0edc6c0afa7558f1776cd848e29239e4b30b640ce0e1ec15dce16780d953d1b073266d24761c35804c6c75e671e20b5790ca3e1e8fe216ed4df26744b9b478446fe6b8567f6ea786424b34255c08f7d224781fbbdf5907cacf84bea0698107c68df14813ccb3eb5a7895a871bffb07673ef785bf2405764d17e7473b6cfdbc3886e8'\n",
        "\n",
        "KAGGLE_INPUT_PATH='/kaggle/input'\n",
        "KAGGLE_WORKING_PATH='/kaggle/working'\n",
        "KAGGLE_SYMLINK='kaggle'\n",
        "\n",
        "!umount /kaggle/input/ 2> /dev/null\n",
        "shutil.rmtree('/kaggle/input', ignore_errors=True)\n",
        "os.makedirs(KAGGLE_INPUT_PATH, 0o777, exist_ok=True)\n",
        "os.makedirs(KAGGLE_WORKING_PATH, 0o777, exist_ok=True)\n",
        "\n",
        "try:\n",
        "  os.symlink(KAGGLE_INPUT_PATH, os.path.join(\"..\", 'input'), target_is_directory=True)\n",
        "except FileExistsError:\n",
        "  pass\n",
        "try:\n",
        "  os.symlink(KAGGLE_WORKING_PATH, os.path.join(\"..\", 'working'), target_is_directory=True)\n",
        "except FileExistsError:\n",
        "  pass\n",
        "\n",
        "for data_source_mapping in DATA_SOURCE_MAPPING.split(','):\n",
        "    directory, download_url_encoded = data_source_mapping.split(':')\n",
        "    download_url = unquote(download_url_encoded)\n",
        "    filename = urlparse(download_url).path\n",
        "    destination_path = os.path.join(KAGGLE_INPUT_PATH, directory)\n",
        "    try:\n",
        "        with urlopen(download_url) as fileres, NamedTemporaryFile() as tfile:\n",
        "            total_length = fileres.headers['content-length']\n",
        "            print(f'Downloading {directory}, {total_length} bytes compressed')\n",
        "            dl = 0\n",
        "            data = fileres.read(CHUNK_SIZE)\n",
        "            while len(data) > 0:\n",
        "                dl += len(data)\n",
        "                tfile.write(data)\n",
        "                done = int(50 * dl / int(total_length))\n",
        "                sys.stdout.write(f\"\\r[{'=' * done}{' ' * (50-done)}] {dl} bytes downloaded\")\n",
        "                sys.stdout.flush()\n",
        "                data = fileres.read(CHUNK_SIZE)\n",
        "            if filename.endswith('.zip'):\n",
        "              with ZipFile(tfile) as zfile:\n",
        "                zfile.extractall(destination_path)\n",
        "            else:\n",
        "              with tarfile.open(tfile.name) as tarfile:\n",
        "                tarfile.extractall(destination_path)\n",
        "            print(f'\\nDownloaded and uncompressed: {directory}')\n",
        "    except HTTPError as e:\n",
        "        print(f'Failed to load (likely expired) {download_url} to path {destination_path}')\n",
        "        continue\n",
        "    except OSError as e:\n",
        "        print(f'Failed to load {download_url} to path {destination_path}')\n",
        "        continue\n",
        "\n",
        "print('Data source import complete.')\n"
      ],
      "metadata": {
        "colab": {
          "base_uri": "https://localhost:8080/"
        },
        "id": "iCmB4pdDMZif",
        "outputId": "7ebb9e75-4d96-4b20-8255-636f043b5cd3"
      },
      "cell_type": "code",
      "outputs": [
        {
          "output_type": "stream",
          "name": "stdout",
          "text": [
            "Downloading digit-recognizer, 16054568 bytes compressed\n",
            "[==================================================] 16054568 bytes downloaded\n",
            "Downloaded and uncompressed: digit-recognizer\n",
            "Data source import complete.\n"
          ]
        }
      ],
      "execution_count": 2
    },
    {
      "cell_type": "code",
      "source": [
        "# This Python 3 environment comes with many helpful analytics libraries installed\n",
        "# It is defined by the kaggle/python Docker image: https://github.com/kaggle/docker-python\n",
        "# For example, here's several helpful packages to load\n",
        "\n",
        "import numpy as np # linear algebra\n",
        "import pandas as pd # data processing, CSV file I/O (e.g. pd.read_csv)\n",
        "\n",
        "# Input data files are available in the read-only \"../input/\" directory\n",
        "# For example, running this (by clicking run or pressing Shift+Enter) will list all files under the input directory\n",
        "\n",
        "import os\n",
        "for dirname, _, filenames in os.walk('/kaggle/input'):\n",
        "    for filename in filenames:\n",
        "        print(os.path.join(dirname, filename))\n",
        "\n",
        "# You can write up to 20GB to the current directory (/kaggle/working/) that gets preserved as output when you create a version using \"Save & Run All\"\n",
        "# You can also write temporary files to /kaggle/temp/, but they won't be saved outside of the current session"
      ],
      "metadata": {
        "_uuid": "8f2839f25d086af736a60e9eeb907d3b93b6e0e5",
        "_cell_guid": "b1076dfc-b9ad-4769-8c92-a6c4dae69d19",
        "execution": {
          "iopub.status.busy": "2024-07-11T23:25:21.443457Z",
          "iopub.execute_input": "2024-07-11T23:25:21.443823Z",
          "iopub.status.idle": "2024-07-11T23:25:23.026891Z",
          "shell.execute_reply.started": "2024-07-11T23:25:21.443793Z",
          "shell.execute_reply": "2024-07-11T23:25:23.02552Z"
        },
        "trusted": true,
        "colab": {
          "base_uri": "https://localhost:8080/"
        },
        "id": "nKNaWJyeMZih",
        "outputId": "4b652fa2-43ec-4509-b3b7-6af911e41276"
      },
      "execution_count": 3,
      "outputs": [
        {
          "output_type": "stream",
          "name": "stdout",
          "text": [
            "/kaggle/input/digit-recognizer/train.csv\n",
            "/kaggle/input/digit-recognizer/test.csv\n",
            "/kaggle/input/digit-recognizer/sample_submission.csv\n"
          ]
        }
      ]
    },
    {
      "cell_type": "markdown",
      "source": [
        "# I- Packages :"
      ],
      "metadata": {
        "id": "13Q4Gx6zxYwo"
      }
    },
    {
      "cell_type": "code",
      "source": [
        "import pandas as pd\n",
        "import numpy as np\n",
        "import matplotlib.pyplot as plt\n",
        "from PIL import Image\n",
        "import seaborn as sns\n",
        "\n",
        "\n",
        "import tensorflow as tf\n",
        "\n",
        "from tensorflow.keras.layers import Layer\n",
        "from tensorflow.keras.layers import Conv2D, MaxPooling2D, Flatten, Dense,Resizing,Reshape,Dropout\n",
        "\n",
        "from tensorflow.keras.applications import VGG16,InceptionV3\n",
        "from tensorflow.keras.preprocessing import image\n",
        "from tensorflow.keras.preprocessing.image import ImageDataGenerator\n",
        "from tensorflow.keras.callbacks import EarlyStopping\n",
        "\n",
        "\n",
        "from tensorflow.keras.models import Sequential\n",
        "\n",
        "from tensorflow.keras.datasets import mnist\n",
        "\n",
        "\n",
        "from sklearn.model_selection import GridSearchCV\n",
        "\n",
        "from IPython.display import clear_output"
      ],
      "metadata": {
        "execution": {
          "iopub.status.busy": "2024-07-11T23:41:16.734072Z",
          "iopub.execute_input": "2024-07-11T23:41:16.735064Z",
          "iopub.status.idle": "2024-07-11T23:41:16.743Z",
          "shell.execute_reply.started": "2024-07-11T23:41:16.734929Z",
          "shell.execute_reply": "2024-07-11T23:41:16.741023Z"
        },
        "trusted": true,
        "id": "FfROEV39MZii"
      },
      "execution_count": 172,
      "outputs": []
    },
    {
      "cell_type": "markdown",
      "source": [
        "# II- Data:"
      ],
      "metadata": {
        "id": "w8Vpn-moxoXh"
      }
    },
    {
      "cell_type": "code",
      "source": [
        "(x_train, y_train), (x_test, y_test) = mnist.load_data()\n",
        "x_train= x_train.reshape(-1,28,28,1).astype('float32') / 255.0\n",
        "x_test = x_test.reshape(-1,28,28,1).astype('float32') / 255.0"
      ],
      "metadata": {
        "id": "6CuosFksXbTX"
      },
      "execution_count": 144,
      "outputs": []
    },
    {
      "cell_type": "code",
      "source": [
        "print(\"x_train : \",x_train.shape)\n",
        "print(\"x_train[0]: \",x_train[0].shape)\n",
        "print(\"y_train : \",y_train.shape)\n",
        "print(\"y_test : \",y_test.shape)"
      ],
      "metadata": {
        "colab": {
          "base_uri": "https://localhost:8080/"
        },
        "id": "SpGgBhDJV6hd",
        "outputId": "22e8f4c2-b69c-493d-f607-ba7e62f38a6d"
      },
      "execution_count": 145,
      "outputs": [
        {
          "output_type": "stream",
          "name": "stdout",
          "text": [
            "x_train :  (60000, 28, 28, 1)\n",
            "x_train[0]:  (28, 28, 1)\n",
            "y_train :  (60000,)\n",
            "y_test :  (10000,)\n"
          ]
        }
      ]
    },
    {
      "cell_type": "code",
      "source": [
        "y_train = tf.keras.utils.to_categorical(y_train,10 )\n",
        "y_test = tf.keras.utils.to_categorical(y_test,10 )\n",
        "\n",
        "print(\"y_train : \",y_train.shape)\n",
        "print(\"y_test : \",y_test.shape)\n",
        "\n",
        "print(\"y_train : \",y_train[0])\n"
      ],
      "metadata": {
        "colab": {
          "base_uri": "https://localhost:8080/"
        },
        "id": "pmBt6vneYVPL",
        "outputId": "fcf58661-1068-4741-8c5c-746d0ce1a51a"
      },
      "execution_count": 146,
      "outputs": [
        {
          "output_type": "stream",
          "name": "stdout",
          "text": [
            "y_train :  (60000, 10)\n",
            "y_test :  (10000, 10)\n",
            "y_train :  [0. 0. 0. 0. 0. 1. 0. 0. 0. 0.]\n"
          ]
        }
      ]
    },
    {
      "cell_type": "code",
      "source": [
        "fig, ax = plt.subplots(nrows=3, ncols=3)\n",
        "cnt = 0\n",
        "for i in range(0,3):\n",
        "    for j in range(0,3):\n",
        "        ax[i,j].imshow(x_train[np.random.randint(0, 60000)].reshape(28,28),cmap='Greys')"
      ],
      "metadata": {
        "colab": {
          "base_uri": "https://localhost:8080/",
          "height": 433
        },
        "id": "-WeYGsNpV9Rr",
        "outputId": "fb081fbf-bab1-41d2-e522-7a9461547832"
      },
      "execution_count": 125,
      "outputs": [
        {
          "output_type": "display_data",
          "data": {
            "text/plain": [
              "<Figure size 640x480 with 9 Axes>"
            ],
            "image/png": "[encoded data removed]"
          },
          "metadata": {}
        }
      ]
    },
    {
      "cell_type": "markdown",
      "source": [
        "# III- VGG-16"
      ],
      "metadata": {
        "id": "xqBAyOnhxv9d"
      }
    },
    {
      "cell_type": "code",
      "source": [
        "vgg_base = VGG16(weights='imagenet', include_top=False, input_shape=(32, 32, 3))\n",
        "vgg_base.trainable = False\n",
        "vgg_base.summary()"
      ],
      "metadata": {
        "execution": {
          "iopub.status.busy": "2024-07-11T23:43:00.380888Z",
          "iopub.execute_input": "2024-07-11T23:43:00.381349Z",
          "iopub.status.idle": "2024-07-11T23:43:20.860084Z",
          "shell.execute_reply.started": "2024-07-11T23:43:00.381318Z",
          "shell.execute_reply": "2024-07-11T23:43:20.858204Z"
        },
        "trusted": true,
        "colab": {
          "base_uri": "https://localhost:8080/"
        },
        "collapsed": true,
        "id": "gPJ88kTsMZik",
        "outputId": "1ecc0934-6f37-4f08-ef20-a87bfdbca4f5"
      },
      "execution_count": 126,
      "outputs": [
        {
          "output_type": "stream",
          "name": "stdout",
          "text": [
            "Model: \"vgg16\"\n",
            "_________________________________________________________________\n",
            " Layer (type)                Output Shape              Param #   \n",
            "=================================================================\n",
            " input_20 (InputLayer)       [(None, 32, 32, 3)]       0         \n",
            "                                                                 \n",
            " block1_conv1 (Conv2D)       (None, 32, 32, 64)        1792      \n",
            "                                                                 \n",
            " block1_conv2 (Conv2D)       (None, 32, 32, 64)        36928     \n",
            "                                                                 \n",
            " block1_pool (MaxPooling2D)  (None, 16, 16, 64)        0         \n",
            "                                                                 \n",
            " block2_conv1 (Conv2D)       (None, 16, 16, 128)       73856     \n",
            "                                                                 \n",
            " block2_conv2 (Conv2D)       (None, 16, 16, 128)       147584    \n",
            "                                                                 \n",
            " block2_pool (MaxPooling2D)  (None, 8, 8, 128)         0         \n",
            "                                                                 \n",
            " block3_conv1 (Conv2D)       (None, 8, 8, 256)         295168    \n",
            "                                                                 \n",
            " block3_conv2 (Conv2D)       (None, 8, 8, 256)         590080    \n",
            "                                                                 \n",
            " block3_conv3 (Conv2D)       (None, 8, 8, 256)         590080    \n",
            "                                                                 \n",
            " block3_pool (MaxPooling2D)  (None, 4, 4, 256)         0         \n",
            "                                                                 \n",
            " block4_conv1 (Conv2D)       (None, 4, 4, 512)         1180160   \n",
            "                                                                 \n",
            " block4_conv2 (Conv2D)       (None, 4, 4, 512)         2359808   \n",
            "                                                                 \n",
            " block4_conv3 (Conv2D)       (None, 4, 4, 512)         2359808   \n",
            "                                                                 \n",
            " block4_pool (MaxPooling2D)  (None, 2, 2, 512)         0         \n",
            "                                                                 \n",
            " block5_conv1 (Conv2D)       (None, 2, 2, 512)         2359808   \n",
            "                                                                 \n",
            " block5_conv2 (Conv2D)       (None, 2, 2, 512)         2359808   \n",
            "                                                                 \n",
            " block5_conv3 (Conv2D)       (None, 2, 2, 512)         2359808   \n",
            "                                                                 \n",
            " block5_pool (MaxPooling2D)  (None, 1, 1, 512)         0         \n",
            "                                                                 \n",
            "=================================================================\n",
            "Total params: 14714688 (56.13 MB)\n",
            "Trainable params: 0 (0.00 Byte)\n",
            "Non-trainable params: 14714688 (56.13 MB)\n",
            "_________________________________________________________________\n"
          ]
        }
      ]
    },
    {
      "cell_type": "code",
      "source": [
        "class GrayscaleToRGB(Layer):\n",
        "    def __init__(self, **kwargs):\n",
        "        super(GrayscaleToRGB, self).__init__(**kwargs)\n",
        "\n",
        "    def call(self, inputs):\n",
        "        return tf.image.grayscale_to_rgb(inputs)"
      ],
      "metadata": {
        "id": "33QFeiYaPriV"
      },
      "execution_count": 147,
      "outputs": []
    },
    {
      "cell_type": "code",
      "source": [
        "\n",
        "model = Sequential([\n",
        "    tf.keras.Input(shape=(28, 28, 1)),\n",
        "    Resizing(width=32, height=32),\n",
        "    GrayscaleToRGB(),\n",
        "    vgg_base,\n",
        "    Flatten(),\n",
        "    # Dense(256, activation='relu'),\n",
        "    # Dropout(0.5),\n",
        "    Dense(10, activation='Softmax')\n",
        "])"
      ],
      "metadata": {
        "id": "LKwLg8jvMZil"
      },
      "execution_count": 152,
      "outputs": []
    },
    {
      "cell_type": "code",
      "source": [
        "model.summary()"
      ],
      "metadata": {
        "colab": {
          "base_uri": "https://localhost:8080/"
        },
        "collapsed": true,
        "id": "RF1x0arBQJNL",
        "outputId": "64027dd3-ad9a-46f2-c535-8acdbcfb271c"
      },
      "execution_count": 153,
      "outputs": [
        {
          "output_type": "stream",
          "name": "stdout",
          "text": [
            "Model: \"sequential_14\"\n",
            "_________________________________________________________________\n",
            " Layer (type)                Output Shape              Param #   \n",
            "=================================================================\n",
            " resizing_15 (Resizing)      (None, 32, 32, 1)         0         \n",
            "                                                                 \n",
            " grayscale_to_rgb_15 (Grays  (None, 32, 32, 3)         0         \n",
            " caleToRGB)                                                      \n",
            "                                                                 \n",
            " vgg16 (Functional)          (None, 1, 1, 512)         14714688  \n",
            "                                                                 \n",
            " flatten_15 (Flatten)        (None, 512)               0         \n",
            "                                                                 \n",
            " dense_29 (Dense)            (None, 10)                5130      \n",
            "                                                                 \n",
            "=================================================================\n",
            "Total params: 14719818 (56.15 MB)\n",
            "Trainable params: 5130 (20.04 KB)\n",
            "Non-trainable params: 14714688 (56.13 MB)\n",
            "_________________________________________________________________\n"
          ]
        }
      ]
    },
    {
      "cell_type": "code",
      "source": [
        "model.compile(optimizer='adam', loss='categorical_crossentropy', metrics=['accuracy'])"
      ],
      "metadata": {
        "id": "r4l8HoCnQ9qE"
      },
      "execution_count": 154,
      "outputs": []
    },
    {
      "cell_type": "code",
      "source": [
        "early_stopping = EarlyStopping(monitor='accuracy',min_delta=0.3, patience=1, restore_best_weights=True)\n",
        "\n",
        "history = model.fit(x_train, y_train, epochs=3, validation_data=(x_test, y_test), callbacks=[early_stopping])\n"
      ],
      "metadata": {
        "colab": {
          "base_uri": "https://localhost:8080/"
        },
        "id": "ZvykklzCRQUG",
        "outputId": "4b1c0e69-8f5c-4fc7-d136-e7c01492d693"
      },
      "execution_count": 173,
      "outputs": [
        {
          "output_type": "stream",
          "name": "stdout",
          "text": [
            "Epoch 1/3\n",
            "1875/1875 [==============================] - 924s 493ms/step - loss: 0.2994 - accuracy: 0.9211 - val_loss: 0.2435 - val_accuracy: 0.9369\n",
            "Epoch 2/3\n",
            "1875/1875 [==============================] - 930s 496ms/step - loss: 0.2313 - accuracy: 0.9381 - val_loss: 0.1987 - val_accuracy: 0.9464\n"
          ]
        }
      ]
    },
    {
      "cell_type": "code",
      "source": [
        "print(history.history.keys())\n",
        "print(history.history['loss'])\n",
        "print(history.history['accuracy'])\n",
        "print(history.history['val_loss'])\n",
        "print(history.history['val_accuracy'])"
      ],
      "metadata": {
        "colab": {
          "base_uri": "https://localhost:8080/"
        },
        "id": "JkPyzm7-iZDP",
        "outputId": "63a144a4-d2bb-4b8d-da0c-006c1a35f720"
      },
      "execution_count": 174,
      "outputs": [
        {
          "output_type": "stream",
          "name": "stdout",
          "text": [
            "dict_keys(['loss', 'accuracy', 'val_loss', 'val_accuracy'])\n",
            "[0.2993886470794678, 0.23128467798233032]\n",
            "[0.9211166501045227, 0.9380833506584167]\n",
            "[0.24352888762950897, 0.19873583316802979]\n",
            "[0.9369000196456909, 0.946399986743927]\n"
          ]
        }
      ]
    },
    {
      "cell_type": "code",
      "source": [
        "val_loss, val_accuracy = model.evaluate(x_test, y_test)\n",
        "print(\"val_loss: \", val_loss)\n",
        "print(\"val_accuracy: \", val_accuracy)"
      ],
      "metadata": {
        "id": "bE93RL8ZEC-N",
        "outputId": "c46f5fcb-73af-4860-e13b-4c4a24fbd6ed",
        "colab": {
          "base_uri": "https://localhost:8080/"
        }
      },
      "execution_count": 193,
      "outputs": [
        {
          "output_type": "stream",
          "name": "stdout",
          "text": [
            "313/313 [==============================] - 130s 414ms/step - loss: 0.2435 - accuracy: 0.9369\n",
            "val_loss:  0.24352888762950897\n",
            "val_accuracy:  0.9369000196456909\n"
          ]
        }
      ]
    },
    {
      "cell_type": "markdown",
      "source": [
        "> this model is too slow on trainig, but offer a hight accuracy"
      ],
      "metadata": {
        "id": "TqK1UYG0x5qO"
      }
    },
    {
      "cell_type": "markdown",
      "source": [
        "# IV- InceptionV3"
      ],
      "metadata": {
        "id": "1VVnGA6IyK4L"
      }
    },
    {
      "cell_type": "code",
      "source": [
        "ins3 = InceptionV3(weights='imagenet', include_top=False, input_shape=(75, 75, 3))\n",
        "ins3.trainable = False\n",
        "ins3.summary()"
      ],
      "metadata": {
        "collapsed": true,
        "colab": {
          "base_uri": "https://localhost:8080/"
        },
        "id": "Bnga8RMZh1xM",
        "outputId": "5c0f4f7e-3b49-452f-8bb1-f2e14a4274ad"
      },
      "execution_count": 177,
      "outputs": [
        {
          "output_type": "stream",
          "name": "stdout",
          "text": [
            "Model: \"inception_v3\"\n",
            "__________________________________________________________________________________________________\n",
            " Layer (type)                Output Shape                 Param #   Connected to                  \n",
            "==================================================================================================\n",
            " input_28 (InputLayer)       [(None, 75, 75, 3)]          0         []                            \n",
            "                                                                                                  \n",
            " conv2d_188 (Conv2D)         (None, 37, 37, 32)           864       ['input_28[0][0]']            \n",
            "                                                                                                  \n",
            " batch_normalization_188 (B  (None, 37, 37, 32)           96        ['conv2d_188[0][0]']          \n",
            " atchNormalization)                                                                               \n",
            "                                                                                                  \n",
            " activation_188 (Activation  (None, 37, 37, 32)           0         ['batch_normalization_188[0][0\n",
            " )                                                                  ]']                           \n",
            "                                                                                                  \n",
            " conv2d_189 (Conv2D)         (None, 35, 35, 32)           9216      ['activation_188[0][0]']      \n",
            "                                                                                                  \n",
            " batch_normalization_189 (B  (None, 35, 35, 32)           96        ['conv2d_189[0][0]']          \n",
            " atchNormalization)                                                                               \n",
            "                                                                                                  \n",
            " activation_189 (Activation  (None, 35, 35, 32)           0         ['batch_normalization_189[0][0\n",
            " )                                                                  ]']                           \n",
            "                                                                                                  \n",
            " conv2d_190 (Conv2D)         (None, 35, 35, 64)           18432     ['activation_189[0][0]']      \n",
            "                                                                                                  \n",
            " batch_normalization_190 (B  (None, 35, 35, 64)           192       ['conv2d_190[0][0]']          \n",
            " atchNormalization)                                                                               \n",
            "                                                                                                  \n",
            " activation_190 (Activation  (None, 35, 35, 64)           0         ['batch_normalization_190[0][0\n",
            " )                                                                  ]']                           \n",
            "                                                                                                  \n",
            " max_pooling2d_8 (MaxPoolin  (None, 17, 17, 64)           0         ['activation_190[0][0]']      \n",
            " g2D)                                                                                             \n",
            "                                                                                                  \n",
            " conv2d_191 (Conv2D)         (None, 17, 17, 80)           5120      ['max_pooling2d_8[0][0]']     \n",
            "                                                                                                  \n",
            " batch_normalization_191 (B  (None, 17, 17, 80)           240       ['conv2d_191[0][0]']          \n",
            " atchNormalization)                                                                               \n",
            "                                                                                                  \n",
            " activation_191 (Activation  (None, 17, 17, 80)           0         ['batch_normalization_191[0][0\n",
            " )                                                                  ]']                           \n",
            "                                                                                                  \n",
            " conv2d_192 (Conv2D)         (None, 15, 15, 192)          138240    ['activation_191[0][0]']      \n",
            "                                                                                                  \n",
            " batch_normalization_192 (B  (None, 15, 15, 192)          576       ['conv2d_192[0][0]']          \n",
            " atchNormalization)                                                                               \n",
            "                                                                                                  \n",
            " activation_192 (Activation  (None, 15, 15, 192)          0         ['batch_normalization_192[0][0\n",
            " )                                                                  ]']                           \n",
            "                                                                                                  \n",
            " max_pooling2d_9 (MaxPoolin  (None, 7, 7, 192)            0         ['activation_192[0][0]']      \n",
            " g2D)                                                                                             \n",
            "                                                                                                  \n",
            " conv2d_196 (Conv2D)         (None, 7, 7, 64)             12288     ['max_pooling2d_9[0][0]']     \n",
            "                                                                                                  \n",
            " batch_normalization_196 (B  (None, 7, 7, 64)             192       ['conv2d_196[0][0]']          \n",
            " atchNormalization)                                                                               \n",
            "                                                                                                  \n",
            " activation_196 (Activation  (None, 7, 7, 64)             0         ['batch_normalization_196[0][0\n",
            " )                                                                  ]']                           \n",
            "                                                                                                  \n",
            " conv2d_194 (Conv2D)         (None, 7, 7, 48)             9216      ['max_pooling2d_9[0][0]']     \n",
            "                                                                                                  \n",
            " conv2d_197 (Conv2D)         (None, 7, 7, 96)             55296     ['activation_196[0][0]']      \n",
            "                                                                                                  \n",
            " batch_normalization_194 (B  (None, 7, 7, 48)             144       ['conv2d_194[0][0]']          \n",
            " atchNormalization)                                                                               \n",
            "                                                                                                  \n",
            " batch_normalization_197 (B  (None, 7, 7, 96)             288       ['conv2d_197[0][0]']          \n",
            " atchNormalization)                                                                               \n",
            "                                                                                                  \n",
            " activation_194 (Activation  (None, 7, 7, 48)             0         ['batch_normalization_194[0][0\n",
            " )                                                                  ]']                           \n",
            "                                                                                                  \n",
            " activation_197 (Activation  (None, 7, 7, 96)             0         ['batch_normalization_197[0][0\n",
            " )                                                                  ]']                           \n",
            "                                                                                                  \n",
            " average_pooling2d_18 (Aver  (None, 7, 7, 192)            0         ['max_pooling2d_9[0][0]']     \n",
            " agePooling2D)                                                                                    \n",
            "                                                                                                  \n",
            " conv2d_193 (Conv2D)         (None, 7, 7, 64)             12288     ['max_pooling2d_9[0][0]']     \n",
            "                                                                                                  \n",
            " conv2d_195 (Conv2D)         (None, 7, 7, 64)             76800     ['activation_194[0][0]']      \n",
            "                                                                                                  \n",
            " conv2d_198 (Conv2D)         (None, 7, 7, 96)             82944     ['activation_197[0][0]']      \n",
            "                                                                                                  \n",
            " conv2d_199 (Conv2D)         (None, 7, 7, 32)             6144      ['average_pooling2d_18[0][0]']\n",
            "                                                                                                  \n",
            " batch_normalization_193 (B  (None, 7, 7, 64)             192       ['conv2d_193[0][0]']          \n",
            " atchNormalization)                                                                               \n",
            "                                                                                                  \n",
            " batch_normalization_195 (B  (None, 7, 7, 64)             192       ['conv2d_195[0][0]']          \n",
            " atchNormalization)                                                                               \n",
            "                                                                                                  \n",
            " batch_normalization_198 (B  (None, 7, 7, 96)             288       ['conv2d_198[0][0]']          \n",
            " atchNormalization)                                                                               \n",
            "                                                                                                  \n",
            " batch_normalization_199 (B  (None, 7, 7, 32)             96        ['conv2d_199[0][0]']          \n",
            " atchNormalization)                                                                               \n",
            "                                                                                                  \n",
            " activation_193 (Activation  (None, 7, 7, 64)             0         ['batch_normalization_193[0][0\n",
            " )                                                                  ]']                           \n",
            "                                                                                                  \n",
            " activation_195 (Activation  (None, 7, 7, 64)             0         ['batch_normalization_195[0][0\n",
            " )                                                                  ]']                           \n",
            "                                                                                                  \n",
            " activation_198 (Activation  (None, 7, 7, 96)             0         ['batch_normalization_198[0][0\n",
            " )                                                                  ]']                           \n",
            "                                                                                                  \n",
            " activation_199 (Activation  (None, 7, 7, 32)             0         ['batch_normalization_199[0][0\n",
            " )                                                                  ]']                           \n",
            "                                                                                                  \n",
            " mixed0 (Concatenate)        (None, 7, 7, 256)            0         ['activation_193[0][0]',      \n",
            "                                                                     'activation_195[0][0]',      \n",
            "                                                                     'activation_198[0][0]',      \n",
            "                                                                     'activation_199[0][0]']      \n",
            "                                                                                                  \n",
            " conv2d_203 (Conv2D)         (None, 7, 7, 64)             16384     ['mixed0[0][0]']              \n",
            "                                                                                                  \n",
            " batch_normalization_203 (B  (None, 7, 7, 64)             192       ['conv2d_203[0][0]']          \n",
            " atchNormalization)                                                                               \n",
            "                                                                                                  \n",
            " activation_203 (Activation  (None, 7, 7, 64)             0         ['batch_normalization_203[0][0\n",
            " )                                                                  ]']                           \n",
            "                                                                                                  \n",
            " conv2d_201 (Conv2D)         (None, 7, 7, 48)             12288     ['mixed0[0][0]']              \n",
            "                                                                                                  \n",
            " conv2d_204 (Conv2D)         (None, 7, 7, 96)             55296     ['activation_203[0][0]']      \n",
            "                                                                                                  \n",
            " batch_normalization_201 (B  (None, 7, 7, 48)             144       ['conv2d_201[0][0]']          \n",
            " atchNormalization)                                                                               \n",
            "                                                                                                  \n",
            " batch_normalization_204 (B  (None, 7, 7, 96)             288       ['conv2d_204[0][0]']          \n",
            " atchNormalization)                                                                               \n",
            "                                                                                                  \n",
            " activation_201 (Activation  (None, 7, 7, 48)             0         ['batch_normalization_201[0][0\n",
            " )                                                                  ]']                           \n",
            "                                                                                                  \n",
            " activation_204 (Activation  (None, 7, 7, 96)             0         ['batch_normalization_204[0][0\n",
            " )                                                                  ]']                           \n",
            "                                                                                                  \n",
            " average_pooling2d_19 (Aver  (None, 7, 7, 256)            0         ['mixed0[0][0]']              \n",
            " agePooling2D)                                                                                    \n",
            "                                                                                                  \n",
            " conv2d_200 (Conv2D)         (None, 7, 7, 64)             16384     ['mixed0[0][0]']              \n",
            "                                                                                                  \n",
            " conv2d_202 (Conv2D)         (None, 7, 7, 64)             76800     ['activation_201[0][0]']      \n",
            "                                                                                                  \n",
            " conv2d_205 (Conv2D)         (None, 7, 7, 96)             82944     ['activation_204[0][0]']      \n",
            "                                                                                                  \n",
            " conv2d_206 (Conv2D)         (None, 7, 7, 64)             16384     ['average_pooling2d_19[0][0]']\n",
            "                                                                                                  \n",
            " batch_normalization_200 (B  (None, 7, 7, 64)             192       ['conv2d_200[0][0]']          \n",
            " atchNormalization)                                                                               \n",
            "                                                                                                  \n",
            " batch_normalization_202 (B  (None, 7, 7, 64)             192       ['conv2d_202[0][0]']          \n",
            " atchNormalization)                                                                               \n",
            "                                                                                                  \n",
            " batch_normalization_205 (B  (None, 7, 7, 96)             288       ['conv2d_205[0][0]']          \n",
            " atchNormalization)                                                                               \n",
            "                                                                                                  \n",
            " batch_normalization_206 (B  (None, 7, 7, 64)             192       ['conv2d_206[0][0]']          \n",
            " atchNormalization)                                                                               \n",
            "                                                                                                  \n",
            " activation_200 (Activation  (None, 7, 7, 64)             0         ['batch_normalization_200[0][0\n",
            " )                                                                  ]']                           \n",
            "                                                                                                  \n",
            " activation_202 (Activation  (None, 7, 7, 64)             0         ['batch_normalization_202[0][0\n",
            " )                                                                  ]']                           \n",
            "                                                                                                  \n",
            " activation_205 (Activation  (None, 7, 7, 96)             0         ['batch_normalization_205[0][0\n",
            " )                                                                  ]']                           \n",
            "                                                                                                  \n",
            " activation_206 (Activation  (None, 7, 7, 64)             0         ['batch_normalization_206[0][0\n",
            " )                                                                  ]']                           \n",
            "                                                                                                  \n",
            " mixed1 (Concatenate)        (None, 7, 7, 288)            0         ['activation_200[0][0]',      \n",
            "                                                                     'activation_202[0][0]',      \n",
            "                                                                     'activation_205[0][0]',      \n",
            "                                                                     'activation_206[0][0]']      \n",
            "                                                                                                  \n",
            " conv2d_210 (Conv2D)         (None, 7, 7, 64)             18432     ['mixed1[0][0]']              \n",
            "                                                                                                  \n",
            " batch_normalization_210 (B  (None, 7, 7, 64)             192       ['conv2d_210[0][0]']          \n",
            " atchNormalization)                                                                               \n",
            "                                                                                                  \n",
            " activation_210 (Activation  (None, 7, 7, 64)             0         ['batch_normalization_210[0][0\n",
            " )                                                                  ]']                           \n",
            "                                                                                                  \n",
            " conv2d_208 (Conv2D)         (None, 7, 7, 48)             13824     ['mixed1[0][0]']              \n",
            "                                                                                                  \n",
            " conv2d_211 (Conv2D)         (None, 7, 7, 96)             55296     ['activation_210[0][0]']      \n",
            "                                                                                                  \n",
            " batch_normalization_208 (B  (None, 7, 7, 48)             144       ['conv2d_208[0][0]']          \n",
            " atchNormalization)                                                                               \n",
            "                                                                                                  \n",
            " batch_normalization_211 (B  (None, 7, 7, 96)             288       ['conv2d_211[0][0]']          \n",
            " atchNormalization)                                                                               \n",
            "                                                                                                  \n",
            " activation_208 (Activation  (None, 7, 7, 48)             0         ['batch_normalization_208[0][0\n",
            " )                                                                  ]']                           \n",
            "                                                                                                  \n",
            " activation_211 (Activation  (None, 7, 7, 96)             0         ['batch_normalization_211[0][0\n",
            " )                                                                  ]']                           \n",
            "                                                                                                  \n",
            " average_pooling2d_20 (Aver  (None, 7, 7, 288)            0         ['mixed1[0][0]']              \n",
            " agePooling2D)                                                                                    \n",
            "                                                                                                  \n",
            " conv2d_207 (Conv2D)         (None, 7, 7, 64)             18432     ['mixed1[0][0]']              \n",
            "                                                                                                  \n",
            " conv2d_209 (Conv2D)         (None, 7, 7, 64)             76800     ['activation_208[0][0]']      \n",
            "                                                                                                  \n",
            " conv2d_212 (Conv2D)         (None, 7, 7, 96)             82944     ['activation_211[0][0]']      \n",
            "                                                                                                  \n",
            " conv2d_213 (Conv2D)         (None, 7, 7, 64)             18432     ['average_pooling2d_20[0][0]']\n",
            "                                                                                                  \n",
            " batch_normalization_207 (B  (None, 7, 7, 64)             192       ['conv2d_207[0][0]']          \n",
            " atchNormalization)                                                                               \n",
            "                                                                                                  \n",
            " batch_normalization_209 (B  (None, 7, 7, 64)             192       ['conv2d_209[0][0]']          \n",
            " atchNormalization)                                                                               \n",
            "                                                                                                  \n",
            " batch_normalization_212 (B  (None, 7, 7, 96)             288       ['conv2d_212[0][0]']          \n",
            " atchNormalization)                                                                               \n",
            "                                                                                                  \n",
            " batch_normalization_213 (B  (None, 7, 7, 64)             192       ['conv2d_213[0][0]']          \n",
            " atchNormalization)                                                                               \n",
            "                                                                                                  \n",
            " activation_207 (Activation  (None, 7, 7, 64)             0         ['batch_normalization_207[0][0\n",
            " )                                                                  ]']                           \n",
            "                                                                                                  \n",
            " activation_209 (Activation  (None, 7, 7, 64)             0         ['batch_normalization_209[0][0\n",
            " )                                                                  ]']                           \n",
            "                                                                                                  \n",
            " activation_212 (Activation  (None, 7, 7, 96)             0         ['batch_normalization_212[0][0\n",
            " )                                                                  ]']                           \n",
            "                                                                                                  \n",
            " activation_213 (Activation  (None, 7, 7, 64)             0         ['batch_normalization_213[0][0\n",
            " )                                                                  ]']                           \n",
            "                                                                                                  \n",
            " mixed2 (Concatenate)        (None, 7, 7, 288)            0         ['activation_207[0][0]',      \n",
            "                                                                     'activation_209[0][0]',      \n",
            "                                                                     'activation_212[0][0]',      \n",
            "                                                                     'activation_213[0][0]']      \n",
            "                                                                                                  \n",
            " conv2d_215 (Conv2D)         (None, 7, 7, 64)             18432     ['mixed2[0][0]']              \n",
            "                                                                                                  \n",
            " batch_normalization_215 (B  (None, 7, 7, 64)             192       ['conv2d_215[0][0]']          \n",
            " atchNormalization)                                                                               \n",
            "                                                                                                  \n",
            " activation_215 (Activation  (None, 7, 7, 64)             0         ['batch_normalization_215[0][0\n",
            " )                                                                  ]']                           \n",
            "                                                                                                  \n",
            " conv2d_216 (Conv2D)         (None, 7, 7, 96)             55296     ['activation_215[0][0]']      \n",
            "                                                                                                  \n",
            " batch_normalization_216 (B  (None, 7, 7, 96)             288       ['conv2d_216[0][0]']          \n",
            " atchNormalization)                                                                               \n",
            "                                                                                                  \n",
            " activation_216 (Activation  (None, 7, 7, 96)             0         ['batch_normalization_216[0][0\n",
            " )                                                                  ]']                           \n",
            "                                                                                                  \n",
            " conv2d_214 (Conv2D)         (None, 3, 3, 384)            995328    ['mixed2[0][0]']              \n",
            "                                                                                                  \n",
            " conv2d_217 (Conv2D)         (None, 3, 3, 96)             82944     ['activation_216[0][0]']      \n",
            "                                                                                                  \n",
            " batch_normalization_214 (B  (None, 3, 3, 384)            1152      ['conv2d_214[0][0]']          \n",
            " atchNormalization)                                                                               \n",
            "                                                                                                  \n",
            " batch_normalization_217 (B  (None, 3, 3, 96)             288       ['conv2d_217[0][0]']          \n",
            " atchNormalization)                                                                               \n",
            "                                                                                                  \n",
            " activation_214 (Activation  (None, 3, 3, 384)            0         ['batch_normalization_214[0][0\n",
            " )                                                                  ]']                           \n",
            "                                                                                                  \n",
            " activation_217 (Activation  (None, 3, 3, 96)             0         ['batch_normalization_217[0][0\n",
            " )                                                                  ]']                           \n",
            "                                                                                                  \n",
            " max_pooling2d_10 (MaxPooli  (None, 3, 3, 288)            0         ['mixed2[0][0]']              \n",
            " ng2D)                                                                                            \n",
            "                                                                                                  \n",
            " mixed3 (Concatenate)        (None, 3, 3, 768)            0         ['activation_214[0][0]',      \n",
            "                                                                     'activation_217[0][0]',      \n",
            "                                                                     'max_pooling2d_10[0][0]']    \n",
            "                                                                                                  \n",
            " conv2d_222 (Conv2D)         (None, 3, 3, 128)            98304     ['mixed3[0][0]']              \n",
            "                                                                                                  \n",
            " batch_normalization_222 (B  (None, 3, 3, 128)            384       ['conv2d_222[0][0]']          \n",
            " atchNormalization)                                                                               \n",
            "                                                                                                  \n",
            " activation_222 (Activation  (None, 3, 3, 128)            0         ['batch_normalization_222[0][0\n",
            " )                                                                  ]']                           \n",
            "                                                                                                  \n",
            " conv2d_223 (Conv2D)         (None, 3, 3, 128)            114688    ['activation_222[0][0]']      \n",
            "                                                                                                  \n",
            " batch_normalization_223 (B  (None, 3, 3, 128)            384       ['conv2d_223[0][0]']          \n",
            " atchNormalization)                                                                               \n",
            "                                                                                                  \n",
            " activation_223 (Activation  (None, 3, 3, 128)            0         ['batch_normalization_223[0][0\n",
            " )                                                                  ]']                           \n",
            "                                                                                                  \n",
            " conv2d_219 (Conv2D)         (None, 3, 3, 128)            98304     ['mixed3[0][0]']              \n",
            "                                                                                                  \n",
            " conv2d_224 (Conv2D)         (None, 3, 3, 128)            114688    ['activation_223[0][0]']      \n",
            "                                                                                                  \n",
            " batch_normalization_219 (B  (None, 3, 3, 128)            384       ['conv2d_219[0][0]']          \n",
            " atchNormalization)                                                                               \n",
            "                                                                                                  \n",
            " batch_normalization_224 (B  (None, 3, 3, 128)            384       ['conv2d_224[0][0]']          \n",
            " atchNormalization)                                                                               \n",
            "                                                                                                  \n",
            " activation_219 (Activation  (None, 3, 3, 128)            0         ['batch_normalization_219[0][0\n",
            " )                                                                  ]']                           \n",
            "                                                                                                  \n",
            " activation_224 (Activation  (None, 3, 3, 128)            0         ['batch_normalization_224[0][0\n",
            " )                                                                  ]']                           \n",
            "                                                                                                  \n",
            " conv2d_220 (Conv2D)         (None, 3, 3, 128)            114688    ['activation_219[0][0]']      \n",
            "                                                                                                  \n",
            " conv2d_225 (Conv2D)         (None, 3, 3, 128)            114688    ['activation_224[0][0]']      \n",
            "                                                                                                  \n",
            " batch_normalization_220 (B  (None, 3, 3, 128)            384       ['conv2d_220[0][0]']          \n",
            " atchNormalization)                                                                               \n",
            "                                                                                                  \n",
            " batch_normalization_225 (B  (None, 3, 3, 128)            384       ['conv2d_225[0][0]']          \n",
            " atchNormalization)                                                                               \n",
            "                                                                                                  \n",
            " activation_220 (Activation  (None, 3, 3, 128)            0         ['batch_normalization_220[0][0\n",
            " )                                                                  ]']                           \n",
            "                                                                                                  \n",
            " activation_225 (Activation  (None, 3, 3, 128)            0         ['batch_normalization_225[0][0\n",
            " )                                                                  ]']                           \n",
            "                                                                                                  \n",
            " average_pooling2d_21 (Aver  (None, 3, 3, 768)            0         ['mixed3[0][0]']              \n",
            " agePooling2D)                                                                                    \n",
            "                                                                                                  \n",
            " conv2d_218 (Conv2D)         (None, 3, 3, 192)            147456    ['mixed3[0][0]']              \n",
            "                                                                                                  \n",
            " conv2d_221 (Conv2D)         (None, 3, 3, 192)            172032    ['activation_220[0][0]']      \n",
            "                                                                                                  \n",
            " conv2d_226 (Conv2D)         (None, 3, 3, 192)            172032    ['activation_225[0][0]']      \n",
            "                                                                                                  \n",
            " conv2d_227 (Conv2D)         (None, 3, 3, 192)            147456    ['average_pooling2d_21[0][0]']\n",
            "                                                                                                  \n",
            " batch_normalization_218 (B  (None, 3, 3, 192)            576       ['conv2d_218[0][0]']          \n",
            " atchNormalization)                                                                               \n",
            "                                                                                                  \n",
            " batch_normalization_221 (B  (None, 3, 3, 192)            576       ['conv2d_221[0][0]']          \n",
            " atchNormalization)                                                                               \n",
            "                                                                                                  \n",
            " batch_normalization_226 (B  (None, 3, 3, 192)            576       ['conv2d_226[0][0]']          \n",
            " atchNormalization)                                                                               \n",
            "                                                                                                  \n",
            " batch_normalization_227 (B  (None, 3, 3, 192)            576       ['conv2d_227[0][0]']          \n",
            " atchNormalization)                                                                               \n",
            "                                                                                                  \n",
            " activation_218 (Activation  (None, 3, 3, 192)            0         ['batch_normalization_218[0][0\n",
            " )                                                                  ]']                           \n",
            "                                                                                                  \n",
            " activation_221 (Activation  (None, 3, 3, 192)            0         ['batch_normalization_221[0][0\n",
            " )                                                                  ]']                           \n",
            "                                                                                                  \n",
            " activation_226 (Activation  (None, 3, 3, 192)            0         ['batch_normalization_226[0][0\n",
            " )                                                                  ]']                           \n",
            "                                                                                                  \n",
            " activation_227 (Activation  (None, 3, 3, 192)            0         ['batch_normalization_227[0][0\n",
            " )                                                                  ]']                           \n",
            "                                                                                                  \n",
            " mixed4 (Concatenate)        (None, 3, 3, 768)            0         ['activation_218[0][0]',      \n",
            "                                                                     'activation_221[0][0]',      \n",
            "                                                                     'activation_226[0][0]',      \n",
            "                                                                     'activation_227[0][0]']      \n",
            "                                                                                                  \n",
            " conv2d_232 (Conv2D)         (None, 3, 3, 160)            122880    ['mixed4[0][0]']              \n",
            "                                                                                                  \n",
            " batch_normalization_232 (B  (None, 3, 3, 160)            480       ['conv2d_232[0][0]']          \n",
            " atchNormalization)                                                                               \n",
            "                                                                                                  \n",
            " activation_232 (Activation  (None, 3, 3, 160)            0         ['batch_normalization_232[0][0\n",
            " )                                                                  ]']                           \n",
            "                                                                                                  \n",
            " conv2d_233 (Conv2D)         (None, 3, 3, 160)            179200    ['activation_232[0][0]']      \n",
            "                                                                                                  \n",
            " batch_normalization_233 (B  (None, 3, 3, 160)            480       ['conv2d_233[0][0]']          \n",
            " atchNormalization)                                                                               \n",
            "                                                                                                  \n",
            " activation_233 (Activation  (None, 3, 3, 160)            0         ['batch_normalization_233[0][0\n",
            " )                                                                  ]']                           \n",
            "                                                                                                  \n",
            " conv2d_229 (Conv2D)         (None, 3, 3, 160)            122880    ['mixed4[0][0]']              \n",
            "                                                                                                  \n",
            " conv2d_234 (Conv2D)         (None, 3, 3, 160)            179200    ['activation_233[0][0]']      \n",
            "                                                                                                  \n",
            " batch_normalization_229 (B  (None, 3, 3, 160)            480       ['conv2d_229[0][0]']          \n",
            " atchNormalization)                                                                               \n",
            "                                                                                                  \n",
            " batch_normalization_234 (B  (None, 3, 3, 160)            480       ['conv2d_234[0][0]']          \n",
            " atchNormalization)                                                                               \n",
            "                                                                                                  \n",
            " activation_229 (Activation  (None, 3, 3, 160)            0         ['batch_normalization_229[0][0\n",
            " )                                                                  ]']                           \n",
            "                                                                                                  \n",
            " activation_234 (Activation  (None, 3, 3, 160)            0         ['batch_normalization_234[0][0\n",
            " )                                                                  ]']                           \n",
            "                                                                                                  \n",
            " conv2d_230 (Conv2D)         (None, 3, 3, 160)            179200    ['activation_229[0][0]']      \n",
            "                                                                                                  \n",
            " conv2d_235 (Conv2D)         (None, 3, 3, 160)            179200    ['activation_234[0][0]']      \n",
            "                                                                                                  \n",
            " batch_normalization_230 (B  (None, 3, 3, 160)            480       ['conv2d_230[0][0]']          \n",
            " atchNormalization)                                                                               \n",
            "                                                                                                  \n",
            " batch_normalization_235 (B  (None, 3, 3, 160)            480       ['conv2d_235[0][0]']          \n",
            " atchNormalization)                                                                               \n",
            "                                                                                                  \n",
            " activation_230 (Activation  (None, 3, 3, 160)            0         ['batch_normalization_230[0][0\n",
            " )                                                                  ]']                           \n",
            "                                                                                                  \n",
            " activation_235 (Activation  (None, 3, 3, 160)            0         ['batch_normalization_235[0][0\n",
            " )                                                                  ]']                           \n",
            "                                                                                                  \n",
            " average_pooling2d_22 (Aver  (None, 3, 3, 768)            0         ['mixed4[0][0]']              \n",
            " agePooling2D)                                                                                    \n",
            "                                                                                                  \n",
            " conv2d_228 (Conv2D)         (None, 3, 3, 192)            147456    ['mixed4[0][0]']              \n",
            "                                                                                                  \n",
            " conv2d_231 (Conv2D)         (None, 3, 3, 192)            215040    ['activation_230[0][0]']      \n",
            "                                                                                                  \n",
            " conv2d_236 (Conv2D)         (None, 3, 3, 192)            215040    ['activation_235[0][0]']      \n",
            "                                                                                                  \n",
            " conv2d_237 (Conv2D)         (None, 3, 3, 192)            147456    ['average_pooling2d_22[0][0]']\n",
            "                                                                                                  \n",
            " batch_normalization_228 (B  (None, 3, 3, 192)            576       ['conv2d_228[0][0]']          \n",
            " atchNormalization)                                                                               \n",
            "                                                                                                  \n",
            " batch_normalization_231 (B  (None, 3, 3, 192)            576       ['conv2d_231[0][0]']          \n",
            " atchNormalization)                                                                               \n",
            "                                                                                                  \n",
            " batch_normalization_236 (B  (None, 3, 3, 192)            576       ['conv2d_236[0][0]']          \n",
            " atchNormalization)                                                                               \n",
            "                                                                                                  \n",
            " batch_normalization_237 (B  (None, 3, 3, 192)            576       ['conv2d_237[0][0]']          \n",
            " atchNormalization)                                                                               \n",
            "                                                                                                  \n",
            " activation_228 (Activation  (None, 3, 3, 192)            0         ['batch_normalization_228[0][0\n",
            " )                                                                  ]']                           \n",
            "                                                                                                  \n",
            " activation_231 (Activation  (None, 3, 3, 192)            0         ['batch_normalization_231[0][0\n",
            " )                                                                  ]']                           \n",
            "                                                                                                  \n",
            " activation_236 (Activation  (None, 3, 3, 192)            0         ['batch_normalization_236[0][0\n",
            " )                                                                  ]']                           \n",
            "                                                                                                  \n",
            " activation_237 (Activation  (None, 3, 3, 192)            0         ['batch_normalization_237[0][0\n",
            " )                                                                  ]']                           \n",
            "                                                                                                  \n",
            " mixed5 (Concatenate)        (None, 3, 3, 768)            0         ['activation_228[0][0]',      \n",
            "                                                                     'activation_231[0][0]',      \n",
            "                                                                     'activation_236[0][0]',      \n",
            "                                                                     'activation_237[0][0]']      \n",
            "                                                                                                  \n",
            " conv2d_242 (Conv2D)         (None, 3, 3, 160)            122880    ['mixed5[0][0]']              \n",
            "                                                                                                  \n",
            " batch_normalization_242 (B  (None, 3, 3, 160)            480       ['conv2d_242[0][0]']          \n",
            " atchNormalization)                                                                               \n",
            "                                                                                                  \n",
            " activation_242 (Activation  (None, 3, 3, 160)            0         ['batch_normalization_242[0][0\n",
            " )                                                                  ]']                           \n",
            "                                                                                                  \n",
            " conv2d_243 (Conv2D)         (None, 3, 3, 160)            179200    ['activation_242[0][0]']      \n",
            "                                                                                                  \n",
            " batch_normalization_243 (B  (None, 3, 3, 160)            480       ['conv2d_243[0][0]']          \n",
            " atchNormalization)                                                                               \n",
            "                                                                                                  \n",
            " activation_243 (Activation  (None, 3, 3, 160)            0         ['batch_normalization_243[0][0\n",
            " )                                                                  ]']                           \n",
            "                                                                                                  \n",
            " conv2d_239 (Conv2D)         (None, 3, 3, 160)            122880    ['mixed5[0][0]']              \n",
            "                                                                                                  \n",
            " conv2d_244 (Conv2D)         (None, 3, 3, 160)            179200    ['activation_243[0][0]']      \n",
            "                                                                                                  \n",
            " batch_normalization_239 (B  (None, 3, 3, 160)            480       ['conv2d_239[0][0]']          \n",
            " atchNormalization)                                                                               \n",
            "                                                                                                  \n",
            " batch_normalization_244 (B  (None, 3, 3, 160)            480       ['conv2d_244[0][0]']          \n",
            " atchNormalization)                                                                               \n",
            "                                                                                                  \n",
            " activation_239 (Activation  (None, 3, 3, 160)            0         ['batch_normalization_239[0][0\n",
            " )                                                                  ]']                           \n",
            "                                                                                                  \n",
            " activation_244 (Activation  (None, 3, 3, 160)            0         ['batch_normalization_244[0][0\n",
            " )                                                                  ]']                           \n",
            "                                                                                                  \n",
            " conv2d_240 (Conv2D)         (None, 3, 3, 160)            179200    ['activation_239[0][0]']      \n",
            "                                                                                                  \n",
            " conv2d_245 (Conv2D)         (None, 3, 3, 160)            179200    ['activation_244[0][0]']      \n",
            "                                                                                                  \n",
            " batch_normalization_240 (B  (None, 3, 3, 160)            480       ['conv2d_240[0][0]']          \n",
            " atchNormalization)                                                                               \n",
            "                                                                                                  \n",
            " batch_normalization_245 (B  (None, 3, 3, 160)            480       ['conv2d_245[0][0]']          \n",
            " atchNormalization)                                                                               \n",
            "                                                                                                  \n",
            " activation_240 (Activation  (None, 3, 3, 160)            0         ['batch_normalization_240[0][0\n",
            " )                                                                  ]']                           \n",
            "                                                                                                  \n",
            " activation_245 (Activation  (None, 3, 3, 160)            0         ['batch_normalization_245[0][0\n",
            " )                                                                  ]']                           \n",
            "                                                                                                  \n",
            " average_pooling2d_23 (Aver  (None, 3, 3, 768)            0         ['mixed5[0][0]']              \n",
            " agePooling2D)                                                                                    \n",
            "                                                                                                  \n",
            " conv2d_238 (Conv2D)         (None, 3, 3, 192)            147456    ['mixed5[0][0]']              \n",
            "                                                                                                  \n",
            " conv2d_241 (Conv2D)         (None, 3, 3, 192)            215040    ['activation_240[0][0]']      \n",
            "                                                                                                  \n",
            " conv2d_246 (Conv2D)         (None, 3, 3, 192)            215040    ['activation_245[0][0]']      \n",
            "                                                                                                  \n",
            " conv2d_247 (Conv2D)         (None, 3, 3, 192)            147456    ['average_pooling2d_23[0][0]']\n",
            "                                                                                                  \n",
            " batch_normalization_238 (B  (None, 3, 3, 192)            576       ['conv2d_238[0][0]']          \n",
            " atchNormalization)                                                                               \n",
            "                                                                                                  \n",
            " batch_normalization_241 (B  (None, 3, 3, 192)            576       ['conv2d_241[0][0]']          \n",
            " atchNormalization)                                                                               \n",
            "                                                                                                  \n",
            " batch_normalization_246 (B  (None, 3, 3, 192)            576       ['conv2d_246[0][0]']          \n",
            " atchNormalization)                                                                               \n",
            "                                                                                                  \n",
            " batch_normalization_247 (B  (None, 3, 3, 192)            576       ['conv2d_247[0][0]']          \n",
            " atchNormalization)                                                                               \n",
            "                                                                                                  \n",
            " activation_238 (Activation  (None, 3, 3, 192)            0         ['batch_normalization_238[0][0\n",
            " )                                                                  ]']                           \n",
            "                                                                                                  \n",
            " activation_241 (Activation  (None, 3, 3, 192)            0         ['batch_normalization_241[0][0\n",
            " )                                                                  ]']                           \n",
            "                                                                                                  \n",
            " activation_246 (Activation  (None, 3, 3, 192)            0         ['batch_normalization_246[0][0\n",
            " )                                                                  ]']                           \n",
            "                                                                                                  \n",
            " activation_247 (Activation  (None, 3, 3, 192)            0         ['batch_normalization_247[0][0\n",
            " )                                                                  ]']                           \n",
            "                                                                                                  \n",
            " mixed6 (Concatenate)        (None, 3, 3, 768)            0         ['activation_238[0][0]',      \n",
            "                                                                     'activation_241[0][0]',      \n",
            "                                                                     'activation_246[0][0]',      \n",
            "                                                                     'activation_247[0][0]']      \n",
            "                                                                                                  \n",
            " conv2d_252 (Conv2D)         (None, 3, 3, 192)            147456    ['mixed6[0][0]']              \n",
            "                                                                                                  \n",
            " batch_normalization_252 (B  (None, 3, 3, 192)            576       ['conv2d_252[0][0]']          \n",
            " atchNormalization)                                                                               \n",
            "                                                                                                  \n",
            " activation_252 (Activation  (None, 3, 3, 192)            0         ['batch_normalization_252[0][0\n",
            " )                                                                  ]']                           \n",
            "                                                                                                  \n",
            " conv2d_253 (Conv2D)         (None, 3, 3, 192)            258048    ['activation_252[0][0]']      \n",
            "                                                                                                  \n",
            " batch_normalization_253 (B  (None, 3, 3, 192)            576       ['conv2d_253[0][0]']          \n",
            " atchNormalization)                                                                               \n",
            "                                                                                                  \n",
            " activation_253 (Activation  (None, 3, 3, 192)            0         ['batch_normalization_253[0][0\n",
            " )                                                                  ]']                           \n",
            "                                                                                                  \n",
            " conv2d_249 (Conv2D)         (None, 3, 3, 192)            147456    ['mixed6[0][0]']              \n",
            "                                                                                                  \n",
            " conv2d_254 (Conv2D)         (None, 3, 3, 192)            258048    ['activation_253[0][0]']      \n",
            "                                                                                                  \n",
            " batch_normalization_249 (B  (None, 3, 3, 192)            576       ['conv2d_249[0][0]']          \n",
            " atchNormalization)                                                                               \n",
            "                                                                                                  \n",
            " batch_normalization_254 (B  (None, 3, 3, 192)            576       ['conv2d_254[0][0]']          \n",
            " atchNormalization)                                                                               \n",
            "                                                                                                  \n",
            " activation_249 (Activation  (None, 3, 3, 192)            0         ['batch_normalization_249[0][0\n",
            " )                                                                  ]']                           \n",
            "                                                                                                  \n",
            " activation_254 (Activation  (None, 3, 3, 192)            0         ['batch_normalization_254[0][0\n",
            " )                                                                  ]']                           \n",
            "                                                                                                  \n",
            " conv2d_250 (Conv2D)         (None, 3, 3, 192)            258048    ['activation_249[0][0]']      \n",
            "                                                                                                  \n",
            " conv2d_255 (Conv2D)         (None, 3, 3, 192)            258048    ['activation_254[0][0]']      \n",
            "                                                                                                  \n",
            " batch_normalization_250 (B  (None, 3, 3, 192)            576       ['conv2d_250[0][0]']          \n",
            " atchNormalization)                                                                               \n",
            "                                                                                                  \n",
            " batch_normalization_255 (B  (None, 3, 3, 192)            576       ['conv2d_255[0][0]']          \n",
            " atchNormalization)                                                                               \n",
            "                                                                                                  \n",
            " activation_250 (Activation  (None, 3, 3, 192)            0         ['batch_normalization_250[0][0\n",
            " )                                                                  ]']                           \n",
            "                                                                                                  \n",
            " activation_255 (Activation  (None, 3, 3, 192)            0         ['batch_normalization_255[0][0\n",
            " )                                                                  ]']                           \n",
            "                                                                                                  \n",
            " average_pooling2d_24 (Aver  (None, 3, 3, 768)            0         ['mixed6[0][0]']              \n",
            " agePooling2D)                                                                                    \n",
            "                                                                                                  \n",
            " conv2d_248 (Conv2D)         (None, 3, 3, 192)            147456    ['mixed6[0][0]']              \n",
            "                                                                                                  \n",
            " conv2d_251 (Conv2D)         (None, 3, 3, 192)            258048    ['activation_250[0][0]']      \n",
            "                                                                                                  \n",
            " conv2d_256 (Conv2D)         (None, 3, 3, 192)            258048    ['activation_255[0][0]']      \n",
            "                                                                                                  \n",
            " conv2d_257 (Conv2D)         (None, 3, 3, 192)            147456    ['average_pooling2d_24[0][0]']\n",
            "                                                                                                  \n",
            " batch_normalization_248 (B  (None, 3, 3, 192)            576       ['conv2d_248[0][0]']          \n",
            " atchNormalization)                                                                               \n",
            "                                                                                                  \n",
            " batch_normalization_251 (B  (None, 3, 3, 192)            576       ['conv2d_251[0][0]']          \n",
            " atchNormalization)                                                                               \n",
            "                                                                                                  \n",
            " batch_normalization_256 (B  (None, 3, 3, 192)            576       ['conv2d_256[0][0]']          \n",
            " atchNormalization)                                                                               \n",
            "                                                                                                  \n",
            " batch_normalization_257 (B  (None, 3, 3, 192)            576       ['conv2d_257[0][0]']          \n",
            " atchNormalization)                                                                               \n",
            "                                                                                                  \n",
            " activation_248 (Activation  (None, 3, 3, 192)            0         ['batch_normalization_248[0][0\n",
            " )                                                                  ]']                           \n",
            "                                                                                                  \n",
            " activation_251 (Activation  (None, 3, 3, 192)            0         ['batch_normalization_251[0][0\n",
            " )                                                                  ]']                           \n",
            "                                                                                                  \n",
            " activation_256 (Activation  (None, 3, 3, 192)            0         ['batch_normalization_256[0][0\n",
            " )                                                                  ]']                           \n",
            "                                                                                                  \n",
            " activation_257 (Activation  (None, 3, 3, 192)            0         ['batch_normalization_257[0][0\n",
            " )                                                                  ]']                           \n",
            "                                                                                                  \n",
            " mixed7 (Concatenate)        (None, 3, 3, 768)            0         ['activation_248[0][0]',      \n",
            "                                                                     'activation_251[0][0]',      \n",
            "                                                                     'activation_256[0][0]',      \n",
            "                                                                     'activation_257[0][0]']      \n",
            "                                                                                                  \n",
            " conv2d_260 (Conv2D)         (None, 3, 3, 192)            147456    ['mixed7[0][0]']              \n",
            "                                                                                                  \n",
            " batch_normalization_260 (B  (None, 3, 3, 192)            576       ['conv2d_260[0][0]']          \n",
            " atchNormalization)                                                                               \n",
            "                                                                                                  \n",
            " activation_260 (Activation  (None, 3, 3, 192)            0         ['batch_normalization_260[0][0\n",
            " )                                                                  ]']                           \n",
            "                                                                                                  \n",
            " conv2d_261 (Conv2D)         (None, 3, 3, 192)            258048    ['activation_260[0][0]']      \n",
            "                                                                                                  \n",
            " batch_normalization_261 (B  (None, 3, 3, 192)            576       ['conv2d_261[0][0]']          \n",
            " atchNormalization)                                                                               \n",
            "                                                                                                  \n",
            " activation_261 (Activation  (None, 3, 3, 192)            0         ['batch_normalization_261[0][0\n",
            " )                                                                  ]']                           \n",
            "                                                                                                  \n",
            " conv2d_258 (Conv2D)         (None, 3, 3, 192)            147456    ['mixed7[0][0]']              \n",
            "                                                                                                  \n",
            " conv2d_262 (Conv2D)         (None, 3, 3, 192)            258048    ['activation_261[0][0]']      \n",
            "                                                                                                  \n",
            " batch_normalization_258 (B  (None, 3, 3, 192)            576       ['conv2d_258[0][0]']          \n",
            " atchNormalization)                                                                               \n",
            "                                                                                                  \n",
            " batch_normalization_262 (B  (None, 3, 3, 192)            576       ['conv2d_262[0][0]']          \n",
            " atchNormalization)                                                                               \n",
            "                                                                                                  \n",
            " activation_258 (Activation  (None, 3, 3, 192)            0         ['batch_normalization_258[0][0\n",
            " )                                                                  ]']                           \n",
            "                                                                                                  \n",
            " activation_262 (Activation  (None, 3, 3, 192)            0         ['batch_normalization_262[0][0\n",
            " )                                                                  ]']                           \n",
            "                                                                                                  \n",
            " conv2d_259 (Conv2D)         (None, 1, 1, 320)            552960    ['activation_258[0][0]']      \n",
            "                                                                                                  \n",
            " conv2d_263 (Conv2D)         (None, 1, 1, 192)            331776    ['activation_262[0][0]']      \n",
            "                                                                                                  \n",
            " batch_normalization_259 (B  (None, 1, 1, 320)            960       ['conv2d_259[0][0]']          \n",
            " atchNormalization)                                                                               \n",
            "                                                                                                  \n",
            " batch_normalization_263 (B  (None, 1, 1, 192)            576       ['conv2d_263[0][0]']          \n",
            " atchNormalization)                                                                               \n",
            "                                                                                                  \n",
            " activation_259 (Activation  (None, 1, 1, 320)            0         ['batch_normalization_259[0][0\n",
            " )                                                                  ]']                           \n",
            "                                                                                                  \n",
            " activation_263 (Activation  (None, 1, 1, 192)            0         ['batch_normalization_263[0][0\n",
            " )                                                                  ]']                           \n",
            "                                                                                                  \n",
            " max_pooling2d_11 (MaxPooli  (None, 1, 1, 768)            0         ['mixed7[0][0]']              \n",
            " ng2D)                                                                                            \n",
            "                                                                                                  \n",
            " mixed8 (Concatenate)        (None, 1, 1, 1280)           0         ['activation_259[0][0]',      \n",
            "                                                                     'activation_263[0][0]',      \n",
            "                                                                     'max_pooling2d_11[0][0]']    \n",
            "                                                                                                  \n",
            " conv2d_268 (Conv2D)         (None, 1, 1, 448)            573440    ['mixed8[0][0]']              \n",
            "                                                                                                  \n",
            " batch_normalization_268 (B  (None, 1, 1, 448)            1344      ['conv2d_268[0][0]']          \n",
            " atchNormalization)                                                                               \n",
            "                                                                                                  \n",
            " activation_268 (Activation  (None, 1, 1, 448)            0         ['batch_normalization_268[0][0\n",
            " )                                                                  ]']                           \n",
            "                                                                                                  \n",
            " conv2d_265 (Conv2D)         (None, 1, 1, 384)            491520    ['mixed8[0][0]']              \n",
            "                                                                                                  \n",
            " conv2d_269 (Conv2D)         (None, 1, 1, 384)            1548288   ['activation_268[0][0]']      \n",
            "                                                                                                  \n",
            " batch_normalization_265 (B  (None, 1, 1, 384)            1152      ['conv2d_265[0][0]']          \n",
            " atchNormalization)                                                                               \n",
            "                                                                                                  \n",
            " batch_normalization_269 (B  (None, 1, 1, 384)            1152      ['conv2d_269[0][0]']          \n",
            " atchNormalization)                                                                               \n",
            "                                                                                                  \n",
            " activation_265 (Activation  (None, 1, 1, 384)            0         ['batch_normalization_265[0][0\n",
            " )                                                                  ]']                           \n",
            "                                                                                                  \n",
            " activation_269 (Activation  (None, 1, 1, 384)            0         ['batch_normalization_269[0][0\n",
            " )                                                                  ]']                           \n",
            "                                                                                                  \n",
            " conv2d_266 (Conv2D)         (None, 1, 1, 384)            442368    ['activation_265[0][0]']      \n",
            "                                                                                                  \n",
            " conv2d_267 (Conv2D)         (None, 1, 1, 384)            442368    ['activation_265[0][0]']      \n",
            "                                                                                                  \n",
            " conv2d_270 (Conv2D)         (None, 1, 1, 384)            442368    ['activation_269[0][0]']      \n",
            "                                                                                                  \n",
            " conv2d_271 (Conv2D)         (None, 1, 1, 384)            442368    ['activation_269[0][0]']      \n",
            "                                                                                                  \n",
            " average_pooling2d_25 (Aver  (None, 1, 1, 1280)           0         ['mixed8[0][0]']              \n",
            " agePooling2D)                                                                                    \n",
            "                                                                                                  \n",
            " conv2d_264 (Conv2D)         (None, 1, 1, 320)            409600    ['mixed8[0][0]']              \n",
            "                                                                                                  \n",
            " batch_normalization_266 (B  (None, 1, 1, 384)            1152      ['conv2d_266[0][0]']          \n",
            " atchNormalization)                                                                               \n",
            "                                                                                                  \n",
            " batch_normalization_267 (B  (None, 1, 1, 384)            1152      ['conv2d_267[0][0]']          \n",
            " atchNormalization)                                                                               \n",
            "                                                                                                  \n",
            " batch_normalization_270 (B  (None, 1, 1, 384)            1152      ['conv2d_270[0][0]']          \n",
            " atchNormalization)                                                                               \n",
            "                                                                                                  \n",
            " batch_normalization_271 (B  (None, 1, 1, 384)            1152      ['conv2d_271[0][0]']          \n",
            " atchNormalization)                                                                               \n",
            "                                                                                                  \n",
            " conv2d_272 (Conv2D)         (None, 1, 1, 192)            245760    ['average_pooling2d_25[0][0]']\n",
            "                                                                                                  \n",
            " batch_normalization_264 (B  (None, 1, 1, 320)            960       ['conv2d_264[0][0]']          \n",
            " atchNormalization)                                                                               \n",
            "                                                                                                  \n",
            " activation_266 (Activation  (None, 1, 1, 384)            0         ['batch_normalization_266[0][0\n",
            " )                                                                  ]']                           \n",
            "                                                                                                  \n",
            " activation_267 (Activation  (None, 1, 1, 384)            0         ['batch_normalization_267[0][0\n",
            " )                                                                  ]']                           \n",
            "                                                                                                  \n",
            " activation_270 (Activation  (None, 1, 1, 384)            0         ['batch_normalization_270[0][0\n",
            " )                                                                  ]']                           \n",
            "                                                                                                  \n",
            " activation_271 (Activation  (None, 1, 1, 384)            0         ['batch_normalization_271[0][0\n",
            " )                                                                  ]']                           \n",
            "                                                                                                  \n",
            " batch_normalization_272 (B  (None, 1, 1, 192)            576       ['conv2d_272[0][0]']          \n",
            " atchNormalization)                                                                               \n",
            "                                                                                                  \n",
            " activation_264 (Activation  (None, 1, 1, 320)            0         ['batch_normalization_264[0][0\n",
            " )                                                                  ]']                           \n",
            "                                                                                                  \n",
            " mixed9_0 (Concatenate)      (None, 1, 1, 768)            0         ['activation_266[0][0]',      \n",
            "                                                                     'activation_267[0][0]']      \n",
            "                                                                                                  \n",
            " concatenate_4 (Concatenate  (None, 1, 1, 768)            0         ['activation_270[0][0]',      \n",
            " )                                                                   'activation_271[0][0]']      \n",
            "                                                                                                  \n",
            " activation_272 (Activation  (None, 1, 1, 192)            0         ['batch_normalization_272[0][0\n",
            " )                                                                  ]']                           \n",
            "                                                                                                  \n",
            " mixed9 (Concatenate)        (None, 1, 1, 2048)           0         ['activation_264[0][0]',      \n",
            "                                                                     'mixed9_0[0][0]',            \n",
            "                                                                     'concatenate_4[0][0]',       \n",
            "                                                                     'activation_272[0][0]']      \n",
            "                                                                                                  \n",
            " conv2d_277 (Conv2D)         (None, 1, 1, 448)            917504    ['mixed9[0][0]']              \n",
            "                                                                                                  \n",
            " batch_normalization_277 (B  (None, 1, 1, 448)            1344      ['conv2d_277[0][0]']          \n",
            " atchNormalization)                                                                               \n",
            "                                                                                                  \n",
            " activation_277 (Activation  (None, 1, 1, 448)            0         ['batch_normalization_277[0][0\n",
            " )                                                                  ]']                           \n",
            "                                                                                                  \n",
            " conv2d_274 (Conv2D)         (None, 1, 1, 384)            786432    ['mixed9[0][0]']              \n",
            "                                                                                                  \n",
            " conv2d_278 (Conv2D)         (None, 1, 1, 384)            1548288   ['activation_277[0][0]']      \n",
            "                                                                                                  \n",
            " batch_normalization_274 (B  (None, 1, 1, 384)            1152      ['conv2d_274[0][0]']          \n",
            " atchNormalization)                                                                               \n",
            "                                                                                                  \n",
            " batch_normalization_278 (B  (None, 1, 1, 384)            1152      ['conv2d_278[0][0]']          \n",
            " atchNormalization)                                                                               \n",
            "                                                                                                  \n",
            " activation_274 (Activation  (None, 1, 1, 384)            0         ['batch_normalization_274[0][0\n",
            " )                                                                  ]']                           \n",
            "                                                                                                  \n",
            " activation_278 (Activation  (None, 1, 1, 384)            0         ['batch_normalization_278[0][0\n",
            " )                                                                  ]']                           \n",
            "                                                                                                  \n",
            " conv2d_275 (Conv2D)         (None, 1, 1, 384)            442368    ['activation_274[0][0]']      \n",
            "                                                                                                  \n",
            " conv2d_276 (Conv2D)         (None, 1, 1, 384)            442368    ['activation_274[0][0]']      \n",
            "                                                                                                  \n",
            " conv2d_279 (Conv2D)         (None, 1, 1, 384)            442368    ['activation_278[0][0]']      \n",
            "                                                                                                  \n",
            " conv2d_280 (Conv2D)         (None, 1, 1, 384)            442368    ['activation_278[0][0]']      \n",
            "                                                                                                  \n",
            " average_pooling2d_26 (Aver  (None, 1, 1, 2048)           0         ['mixed9[0][0]']              \n",
            " agePooling2D)                                                                                    \n",
            "                                                                                                  \n",
            " conv2d_273 (Conv2D)         (None, 1, 1, 320)            655360    ['mixed9[0][0]']              \n",
            "                                                                                                  \n",
            " batch_normalization_275 (B  (None, 1, 1, 384)            1152      ['conv2d_275[0][0]']          \n",
            " atchNormalization)                                                                               \n",
            "                                                                                                  \n",
            " batch_normalization_276 (B  (None, 1, 1, 384)            1152      ['conv2d_276[0][0]']          \n",
            " atchNormalization)                                                                               \n",
            "                                                                                                  \n",
            " batch_normalization_279 (B  (None, 1, 1, 384)            1152      ['conv2d_279[0][0]']          \n",
            " atchNormalization)                                                                               \n",
            "                                                                                                  \n",
            " batch_normalization_280 (B  (None, 1, 1, 384)            1152      ['conv2d_280[0][0]']          \n",
            " atchNormalization)                                                                               \n",
            "                                                                                                  \n",
            " conv2d_281 (Conv2D)         (None, 1, 1, 192)            393216    ['average_pooling2d_26[0][0]']\n",
            "                                                                                                  \n",
            " batch_normalization_273 (B  (None, 1, 1, 320)            960       ['conv2d_273[0][0]']          \n",
            " atchNormalization)                                                                               \n",
            "                                                                                                  \n",
            " activation_275 (Activation  (None, 1, 1, 384)            0         ['batch_normalization_275[0][0\n",
            " )                                                                  ]']                           \n",
            "                                                                                                  \n",
            " activation_276 (Activation  (None, 1, 1, 384)            0         ['batch_normalization_276[0][0\n",
            " )                                                                  ]']                           \n",
            "                                                                                                  \n",
            " activation_279 (Activation  (None, 1, 1, 384)            0         ['batch_normalization_279[0][0\n",
            " )                                                                  ]']                           \n",
            "                                                                                                  \n",
            " activation_280 (Activation  (None, 1, 1, 384)            0         ['batch_normalization_280[0][0\n",
            " )                                                                  ]']                           \n",
            "                                                                                                  \n",
            " batch_normalization_281 (B  (None, 1, 1, 192)            576       ['conv2d_281[0][0]']          \n",
            " atchNormalization)                                                                               \n",
            "                                                                                                  \n",
            " activation_273 (Activation  (None, 1, 1, 320)            0         ['batch_normalization_273[0][0\n",
            " )                                                                  ]']                           \n",
            "                                                                                                  \n",
            " mixed9_1 (Concatenate)      (None, 1, 1, 768)            0         ['activation_275[0][0]',      \n",
            "                                                                     'activation_276[0][0]']      \n",
            "                                                                                                  \n",
            " concatenate_5 (Concatenate  (None, 1, 1, 768)            0         ['activation_279[0][0]',      \n",
            " )                                                                   'activation_280[0][0]']      \n",
            "                                                                                                  \n",
            " activation_281 (Activation  (None, 1, 1, 192)            0         ['batch_normalization_281[0][0\n",
            " )                                                                  ]']                           \n",
            "                                                                                                  \n",
            " mixed10 (Concatenate)       (None, 1, 1, 2048)           0         ['activation_273[0][0]',      \n",
            "                                                                     'mixed9_1[0][0]',            \n",
            "                                                                     'concatenate_5[0][0]',       \n",
            "                                                                     'activation_281[0][0]']      \n",
            "                                                                                                  \n",
            "==================================================================================================\n",
            "Total params: 21802784 (83.17 MB)\n",
            "Trainable params: 0 (0.00 Byte)\n",
            "Non-trainable params: 21802784 (83.17 MB)\n",
            "__________________________________________________________________________________________________\n"
          ]
        }
      ]
    },
    {
      "cell_type": "code",
      "source": [
        "\n",
        "model_ins3 = Sequential([\n",
        "    tf.keras.Input(shape=(28, 28, 1)),\n",
        "    Resizing(width=75, height=75),\n",
        "    GrayscaleToRGB(),\n",
        "    ins3,\n",
        "    Flatten(),\n",
        "    # Dense(256, activation='relu'),\n",
        "    # Dropout(0.5),\n",
        "    Dense(10, activation='Softmax')\n",
        "])"
      ],
      "metadata": {
        "id": "U47b_M2bdJSI"
      },
      "execution_count": 182,
      "outputs": []
    },
    {
      "cell_type": "code",
      "source": [
        "model_ins3.summary()"
      ],
      "metadata": {
        "colab": {
          "base_uri": "https://localhost:8080/"
        },
        "id": "Z7FLUOMezUKn",
        "outputId": "6ce3d0ad-9ae7-4b3b-9991-b9e38f29477d"
      },
      "execution_count": 184,
      "outputs": [
        {
          "output_type": "stream",
          "name": "stdout",
          "text": [
            "Model: \"sequential_16\"\n",
            "_________________________________________________________________\n",
            " Layer (type)                Output Shape              Param #   \n",
            "=================================================================\n",
            " resizing_17 (Resizing)      (None, 75, 75, 1)         0         \n",
            "                                                                 \n",
            " grayscale_to_rgb_17 (Grays  (None, 75, 75, 3)         0         \n",
            " caleToRGB)                                                      \n",
            "                                                                 \n",
            " inception_v3 (Functional)   (None, 1, 1, 2048)        21802784  \n",
            "                                                                 \n",
            " flatten_17 (Flatten)        (None, 2048)              0         \n",
            "                                                                 \n",
            " dense_31 (Dense)            (None, 10)                20490     \n",
            "                                                                 \n",
            "=================================================================\n",
            "Total params: 21823274 (83.25 MB)\n",
            "Trainable params: 20490 (80.04 KB)\n",
            "Non-trainable params: 21802784 (83.17 MB)\n",
            "_________________________________________________________________\n"
          ]
        }
      ]
    },
    {
      "cell_type": "code",
      "source": [
        "model_ins3.compile(optimizer='adam', loss='categorical_crossentropy', metrics=['accuracy'])"
      ],
      "metadata": {
        "id": "4qspeYZqyljK"
      },
      "execution_count": 185,
      "outputs": []
    },
    {
      "cell_type": "code",
      "source": [
        "early_stopping = EarlyStopping(monitor='accuracy',min_delta=0.01, patience=3, restore_best_weights=True)\n",
        "\n",
        "history_2 = model_ins3.fit(x_train, y_train, epochs=1, validation_data=(x_test, y_test), callbacks=[early_stopping])"
      ],
      "metadata": {
        "colab": {
          "base_uri": "https://localhost:8080/"
        },
        "id": "g0a90-3Oyp9L",
        "outputId": "88cf24f5-e1e4-4007-9cfa-c2b57386f570"
      },
      "execution_count": 187,
      "outputs": [
        {
          "output_type": "stream",
          "name": "stdout",
          "text": [
            "1875/1875 [==============================] - 713s 380ms/step - loss: 0.2273 - accuracy: 0.9280 - val_loss: 0.2202 - val_accuracy: 0.9316\n"
          ]
        }
      ]
    },
    {
      "cell_type": "code",
      "source": [
        "fig, ax = plt.subplots(nrows=3, ncols=3)\n",
        "cnt = 0\n",
        "for i in range(0,3):\n",
        "    for j in range(0,3):\n",
        "        ax[i,j].imshow(1-x_train[np.random.randint(0, 60000)].reshape(28,28),cmap='Greys')"
      ],
      "metadata": {
        "colab": {
          "base_uri": "https://localhost:8080/",
          "height": 433
        },
        "id": "y9fOKBMjy-ME",
        "outputId": "580777bc-b4fa-4a1a-a62d-5a8a77cc85f0"
      },
      "execution_count": 190,
      "outputs": [
        {
          "output_type": "display_data",
          "data": {
            "text/plain": [
              "<Figure size 640x480 with 9 Axes>"
            ],
            "image/png": "[encoded data removed]"
          },
          "metadata": {}
        }
      ]
    },
    {
      "cell_type": "code",
      "source": [
        "x_inv = 1-x_train"
      ],
      "metadata": {
        "id": "u7tO5t50BBIB"
      },
      "execution_count": 191,
      "outputs": []
    },
    {
      "cell_type": "code",
      "source": [
        "history_3 = model_ins3.fit(x_inv, y_train, epochs=1, validation_data=(x_test, y_test), callbacks=[early_stopping])"
      ],
      "metadata": {
        "id": "IB7jOxP1Bng_",
        "outputId": "fd3ef27e-d41b-483e-f072-020d84a36d43",
        "colab": {
          "base_uri": "https://localhost:8080/"
        }
      },
      "execution_count": 192,
      "outputs": [
        {
          "output_type": "stream",
          "name": "stdout",
          "text": [
            "1875/1875 [==============================] - 685s 365ms/step - loss: 0.3389 - accuracy: 0.8931 - val_loss: 0.7623 - val_accuracy: 0.7514\n"
          ]
        }
      ]
    },
    {
      "cell_type": "code",
      "source": [
        "val_loss, val_accuracy = model_ins3.evaluate(x_test, y_test)\n",
        "print(\"val_loss: \", val_loss)\n",
        "print(\"val_accuracy: \", val_accuracy)"
      ],
      "metadata": {
        "id": "k2Poj5J-BxV3",
        "outputId": "4d123ac1-f4a8-4438-e1aa-bd6d9b6e98f2",
        "colab": {
          "base_uri": "https://localhost:8080/"
        }
      },
      "execution_count": 194,
      "outputs": [
        {
          "output_type": "stream",
          "name": "stdout",
          "text": [
            "313/313 [==============================] - 96s 307ms/step - loss: 0.7623 - accuracy: 0.7514\n",
            "val_loss:  0.7622536420822144\n",
            "val_accuracy:  0.7513999938964844\n"
          ]
        }
      ]
    },
    {
      "cell_type": "code",
      "source": [
        "x_all = np.concatenate((x_train, x_inv))\n",
        "y_all = np.concatenate((y_train, y_train))"
      ],
      "metadata": {
        "id": "6_8SBQUrEpZX"
      },
      "execution_count": 195,
      "outputs": []
    },
    {
      "cell_type": "code",
      "source": [],
      "metadata": {
        "id": "ILCgFKGVFwD0",
        "outputId": "f3295be6-0338-4ca8-9212-3e007709e721",
        "colab": {
          "base_uri": "https://localhost:8080/"
        }
      },
      "execution_count": 196,
      "outputs": [
        {
          "output_type": "execute_result",
          "data": {
            "text/plain": [
              "(120000, 28, 28, 1)"
            ]
          },
          "metadata": {},
          "execution_count": 196
        }
      ]
    },
    {
      "cell_type": "code",
      "source": [],
      "metadata": {
        "id": "XaR37AsyFx3i"
      },
      "execution_count": null,
      "outputs": []
    }
  ]
}