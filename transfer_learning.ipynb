{
  "metadata": {
    "kernelspec": {
      "language": "python",
      "display_name": "Python 3",
      "name": "python3"
    },
    "language_info": {
      "name": "python",
      "version": "3.10.13",
      "mimetype": "text/x-python",
      "codemirror_mode": {
        "name": "ipython",
        "version": 3
      },
      "pygments_lexer": "ipython3",
      "nbconvert_exporter": "python",
      "file_extension": ".py"
    },
    "kaggle": {
      "accelerator": "none",
      "dataSources": [
        {
          "sourceId": 3004,
          "databundleVersionId": 861823,
          "sourceType": "competition"
        }
      ],
      "dockerImageVersionId": 30746,
      "isInternetEnabled": false,
      "language": "python",
      "sourceType": "notebook",
      "isGpuEnabled": false
    },
    "colab": {
      "name": "VGG16_digits_recognition",
      "provenance": [],
      "include_colab_link": true
    }
  },
  "nbformat_minor": 0,
  "nbformat": 4,
  "cells": [
    {
      "cell_type": "markdown",
      "metadata": {
        "id": "view-in-github",
        "colab_type": "text"
      },
      "source": [
        "<a href=\"https://colab.research.google.com/github/Ox03bb/Digits_Recognition/blob/main/transfer_learning.ipynb\" target=\"_parent\"><img src=\"https://colab.research.google.com/assets/colab-badge.svg\" alt=\"Open In Colab\"/></a>"
      ]
    },
    {
      "source": [
        "\n",
        "# IMPORTANT: RUN THIS CELL IN ORDER TO IMPORT YOUR KAGGLE DATA SOURCES\n",
        "# TO THE CORRECT LOCATION (/kaggle/input) IN YOUR NOTEBOOK,\n",
        "# THEN FEEL FREE TO DELETE THIS CELL.\n",
        "# NOTE: THIS NOTEBOOK ENVIRONMENT DIFFERS FROM KAGGLE'S PYTHON\n",
        "# ENVIRONMENT SO THERE MAY BE MISSING LIBRARIES USED BY YOUR\n",
        "# NOTEBOOK.\n",
        "\n",
        "import os\n",
        "import sys\n",
        "from tempfile import NamedTemporaryFile\n",
        "from urllib.request import urlopen\n",
        "from urllib.parse import unquote, urlparse\n",
        "from urllib.error import HTTPError\n",
        "from zipfile import ZipFile\n",
        "import tarfile\n",
        "import shutil\n",
        "\n",
        "CHUNK_SIZE = 40960\n",
        "DATA_SOURCE_MAPPING = 'digit-recognizer:https%3A%2F%2Fstorage.googleapis.com%2Fkaggle-competitions-data%2Fkaggle-v2%2F3004%2F861823%2Fbundle%2Farchive.zip%3FX-Goog-Algorithm%3DGOOG4-RSA-SHA256%26X-Goog-Credential%3Dgcp-kaggle-com%2540kaggle-161607.iam.gserviceaccount.com%252F20240711%252Fauto%252Fstorage%252Fgoog4_request%26X-Goog-Date%3D20240711T234709Z%26X-Goog-Expires%3D259200%26X-Goog-SignedHeaders%3Dhost%26X-Goog-Signature%3D13decdca4b7a855624b1c6d94c021b67ff1b1bf32a8e7c26686a2397487193bb3c4eb4fa4c04ce8901e5b9f10039b88bb2b95b85a6889fba28fd4cdfb51d64eace12cee621bc74e3b87d46d558d634ad29098ce71e2631d31640e0a57132334166345e3ab71e6b5a3f9d87b6982994b31fbe3f2fd9ca3cb55540ec935d1b0edc6c0afa7558f1776cd848e29239e4b30b640ce0e1ec15dce16780d953d1b073266d24761c35804c6c75e671e20b5790ca3e1e8fe216ed4df26744b9b478446fe6b8567f6ea786424b34255c08f7d224781fbbdf5907cacf84bea0698107c68df14813ccb3eb5a7895a871bffb07673ef785bf2405764d17e7473b6cfdbc3886e8'\n",
        "\n",
        "KAGGLE_INPUT_PATH='/kaggle/input'\n",
        "KAGGLE_WORKING_PATH='/kaggle/working'\n",
        "KAGGLE_SYMLINK='kaggle'\n",
        "\n",
        "!umount /kaggle/input/ 2> /dev/null\n",
        "shutil.rmtree('/kaggle/input', ignore_errors=True)\n",
        "os.makedirs(KAGGLE_INPUT_PATH, 0o777, exist_ok=True)\n",
        "os.makedirs(KAGGLE_WORKING_PATH, 0o777, exist_ok=True)\n",
        "\n",
        "try:\n",
        "  os.symlink(KAGGLE_INPUT_PATH, os.path.join(\"..\", 'input'), target_is_directory=True)\n",
        "except FileExistsError:\n",
        "  pass\n",
        "try:\n",
        "  os.symlink(KAGGLE_WORKING_PATH, os.path.join(\"..\", 'working'), target_is_directory=True)\n",
        "except FileExistsError:\n",
        "  pass\n",
        "\n",
        "for data_source_mapping in DATA_SOURCE_MAPPING.split(','):\n",
        "    directory, download_url_encoded = data_source_mapping.split(':')\n",
        "    download_url = unquote(download_url_encoded)\n",
        "    filename = urlparse(download_url).path\n",
        "    destination_path = os.path.join(KAGGLE_INPUT_PATH, directory)\n",
        "    try:\n",
        "        with urlopen(download_url) as fileres, NamedTemporaryFile() as tfile:\n",
        "            total_length = fileres.headers['content-length']\n",
        "            print(f'Downloading {directory}, {total_length} bytes compressed')\n",
        "            dl = 0\n",
        "            data = fileres.read(CHUNK_SIZE)\n",
        "            while len(data) > 0:\n",
        "                dl += len(data)\n",
        "                tfile.write(data)\n",
        "                done = int(50 * dl / int(total_length))\n",
        "                sys.stdout.write(f\"\\r[{'=' * done}{' ' * (50-done)}] {dl} bytes downloaded\")\n",
        "                sys.stdout.flush()\n",
        "                data = fileres.read(CHUNK_SIZE)\n",
        "            if filename.endswith('.zip'):\n",
        "              with ZipFile(tfile) as zfile:\n",
        "                zfile.extractall(destination_path)\n",
        "            else:\n",
        "              with tarfile.open(tfile.name) as tarfile:\n",
        "                tarfile.extractall(destination_path)\n",
        "            print(f'\\nDownloaded and uncompressed: {directory}')\n",
        "    except HTTPError as e:\n",
        "        print(f'Failed to load (likely expired) {download_url} to path {destination_path}')\n",
        "        continue\n",
        "    except OSError as e:\n",
        "        print(f'Failed to load {download_url} to path {destination_path}')\n",
        "        continue\n",
        "\n",
        "print('Data source import complete.')\n"
      ],
      "metadata": {
        "colab": {
          "base_uri": "https://localhost:8080/"
        },
        "id": "iCmB4pdDMZif",
        "outputId": "7ebb9e75-4d96-4b20-8255-636f043b5cd3"
      },
      "cell_type": "code",
      "outputs": [
        {
          "output_type": "stream",
          "name": "stdout",
          "text": [
            "Downloading digit-recognizer, 16054568 bytes compressed\n",
            "[==================================================] 16054568 bytes downloaded\n",
            "Downloaded and uncompressed: digit-recognizer\n",
            "Data source import complete.\n"
          ]
        }
      ],
      "execution_count": 2
    },
    {
      "cell_type": "code",
      "source": [
        "# This Python 3 environment comes with many helpful analytics libraries installed\n",
        "# It is defined by the kaggle/python Docker image: https://github.com/kaggle/docker-python\n",
        "# For example, here's several helpful packages to load\n",
        "\n",
        "import numpy as np # linear algebra\n",
        "import pandas as pd # data processing, CSV file I/O (e.g. pd.read_csv)\n",
        "\n",
        "# Input data files are available in the read-only \"../input/\" directory\n",
        "# For example, running this (by clicking run or pressing Shift+Enter) will list all files under the input directory\n",
        "\n",
        "import os\n",
        "for dirname, _, filenames in os.walk('/kaggle/input'):\n",
        "    for filename in filenames:\n",
        "        print(os.path.join(dirname, filename))\n",
        "\n",
        "# You can write up to 20GB to the current directory (/kaggle/working/) that gets preserved as output when you create a version using \"Save & Run All\"\n",
        "# You can also write temporary files to /kaggle/temp/, but they won't be saved outside of the current session"
      ],
      "metadata": {
        "_uuid": "8f2839f25d086af736a60e9eeb907d3b93b6e0e5",
        "_cell_guid": "b1076dfc-b9ad-4769-8c92-a6c4dae69d19",
        "execution": {
          "iopub.status.busy": "2024-07-11T23:25:21.443457Z",
          "iopub.execute_input": "2024-07-11T23:25:21.443823Z",
          "iopub.status.idle": "2024-07-11T23:25:23.026891Z",
          "shell.execute_reply.started": "2024-07-11T23:25:21.443793Z",
          "shell.execute_reply": "2024-07-11T23:25:23.02552Z"
        },
        "trusted": true,
        "colab": {
          "base_uri": "https://localhost:8080/"
        },
        "id": "nKNaWJyeMZih",
        "outputId": "4b652fa2-43ec-4509-b3b7-6af911e41276"
      },
      "execution_count": 3,
      "outputs": [
        {
          "output_type": "stream",
          "name": "stdout",
          "text": [
            "/kaggle/input/digit-recognizer/train.csv\n",
            "/kaggle/input/digit-recognizer/test.csv\n",
            "/kaggle/input/digit-recognizer/sample_submission.csv\n"
          ]
        }
      ]
    },
    {
      "cell_type": "markdown",
      "source": [
        "# I- Packages :"
      ],
      "metadata": {
        "id": "13Q4Gx6zxYwo"
      }
    },
    {
      "cell_type": "code",
      "source": [
        "import pandas as pd\n",
        "import numpy as np\n",
        "import matplotlib.pyplot as plt\n",
        "from PIL import Image\n",
        "import seaborn as sns\n",
        "\n",
        "\n",
        "import tensorflow as tf\n",
        "\n",
        "from tensorflow.keras.layers import Layer\n",
        "from tensorflow.keras.layers import Conv2D, MaxPooling2D, Flatten, Dense,Resizing,Reshape,Dropout\n",
        "\n",
        "from tensorflow.keras.applications import VGG16,InceptionV3\n",
        "from tensorflow.keras.preprocessing import image\n",
        "from tensorflow.keras.preprocessing.image import ImageDataGenerator\n",
        "from tensorflow.keras.callbacks import EarlyStopping\n",
        "\n",
        "\n",
        "from tensorflow.keras.models import Sequential\n",
        "\n",
        "from tensorflow.keras.datasets import mnist\n",
        "\n",
        "from sklearn.model_selection import train_test_split\n",
        "\n",
        "from IPython.display import clear_output"
      ],
      "metadata": {
        "execution": {
          "iopub.status.busy": "2024-07-11T23:41:16.734072Z",
          "iopub.execute_input": "2024-07-11T23:41:16.735064Z",
          "iopub.status.idle": "2024-07-11T23:41:16.743Z",
          "shell.execute_reply.started": "2024-07-11T23:41:16.734929Z",
          "shell.execute_reply": "2024-07-11T23:41:16.741023Z"
        },
        "trusted": true,
        "id": "FfROEV39MZii"
      },
      "execution_count": 231,
      "outputs": []
    },
    {
      "cell_type": "markdown",
      "source": [
        "# II- Data:"
      ],
      "metadata": {
        "id": "w8Vpn-moxoXh"
      }
    },
    {
      "cell_type": "code",
      "source": [
        "(x_train, y_train), (x_test, y_test) = mnist.load_data()\n",
        "x_train= x_train.reshape(-1,28,28,1).astype('float32') / 255.0\n",
        "x_test = x_test.reshape(-1,28,28,1).astype('float32') / 255.0"
      ],
      "metadata": {
        "id": "6CuosFksXbTX"
      },
      "execution_count": 144,
      "outputs": []
    },
    {
      "cell_type": "code",
      "source": [
        "print(\"x_train : \",x_train.shape)\n",
        "print(\"x_train[0]: \",x_train[0].shape)\n",
        "print(\"y_train : \",y_train.shape)\n",
        "print(\"y_test : \",y_test.shape)"
      ],
      "metadata": {
        "colab": {
          "base_uri": "https://localhost:8080/"
        },
        "id": "SpGgBhDJV6hd",
        "outputId": "22e8f4c2-b69c-493d-f607-ba7e62f38a6d"
      },
      "execution_count": 145,
      "outputs": [
        {
          "output_type": "stream",
          "name": "stdout",
          "text": [
            "x_train :  (60000, 28, 28, 1)\n",
            "x_train[0]:  (28, 28, 1)\n",
            "y_train :  (60000,)\n",
            "y_test :  (10000,)\n"
          ]
        }
      ]
    },
    {
      "cell_type": "code",
      "source": [
        "y_train = tf.keras.utils.to_categorical(y_train,10 )\n",
        "y_test = tf.keras.utils.to_categorical(y_test,10 )\n",
        "\n",
        "print(\"y_train : \",y_train.shape)\n",
        "print(\"y_test : \",y_test.shape)\n",
        "\n",
        "print(\"y_train : \",y_train[0])\n"
      ],
      "metadata": {
        "colab": {
          "base_uri": "https://localhost:8080/"
        },
        "id": "pmBt6vneYVPL",
        "outputId": "fcf58661-1068-4741-8c5c-746d0ce1a51a"
      },
      "execution_count": 146,
      "outputs": [
        {
          "output_type": "stream",
          "name": "stdout",
          "text": [
            "y_train :  (60000, 10)\n",
            "y_test :  (10000, 10)\n",
            "y_train :  [0. 0. 0. 0. 0. 1. 0. 0. 0. 0.]\n"
          ]
        }
      ]
    },
    {
      "cell_type": "code",
      "source": [
        "fig, ax = plt.subplots(nrows=3, ncols=3)\n",
        "cnt = 0\n",
        "for i in range(0,3):\n",
        "    for j in range(0,3):\n",
        "        ax[i,j].imshow(x_train[np.random.randint(0, 60000)].reshape(28,28),cmap='Greys')"
      ],
      "metadata": {
        "colab": {
          "base_uri": "https://localhost:8080/",
          "height": 433
        },
        "id": "-WeYGsNpV9Rr",
        "outputId": "fb081fbf-bab1-41d2-e522-7a9461547832"
      },
      "execution_count": 125,
      "outputs": [
        {
          "output_type": "display_data",
          "data": {
            "text/plain": [
              "<Figure size 640x480 with 9 Axes>"
            ],
            "image/png": "[encoded data removed]"
          },
          "metadata": {}
        }
      ]
    },
    {
      "cell_type": "markdown",
      "source": [
        "# III- VGG-16"
      ],
      "metadata": {
        "id": "xqBAyOnhxv9d"
      }
    },
    {
      "cell_type": "code",
      "source": [
        "vgg_base = VGG16(weights='imagenet', include_top=False, input_shape=(32, 32, 3))\n",
        "vgg_base.trainable = False\n",
        "vgg_base.summary()"
      ],
      "metadata": {
        "execution": {
          "iopub.status.busy": "2024-07-11T23:43:00.380888Z",
          "iopub.execute_input": "2024-07-11T23:43:00.381349Z",
          "iopub.status.idle": "2024-07-11T23:43:20.860084Z",
          "shell.execute_reply.started": "2024-07-11T23:43:00.381318Z",
          "shell.execute_reply": "2024-07-11T23:43:20.858204Z"
        },
        "trusted": true,
        "colab": {
          "base_uri": "https://localhost:8080/"
        },
        "collapsed": true,
        "id": "gPJ88kTsMZik",
        "outputId": "1ecc0934-6f37-4f08-ef20-a87bfdbca4f5"
      },
      "execution_count": 126,
      "outputs": [
        {
          "output_type": "stream",
          "name": "stdout",
          "text": [
            "Model: \"vgg16\"\n",
            "_________________________________________________________________\n",
            " Layer (type)                Output Shape              Param #   \n",
            "=================================================================\n",
            " input_20 (InputLayer)       [(None, 32, 32, 3)]       0         \n",
            "                                                                 \n",
            " block1_conv1 (Conv2D)       (None, 32, 32, 64)        1792      \n",
            "                                                                 \n",
            " block1_conv2 (Conv2D)       (None, 32, 32, 64)        36928     \n",
            "                                                                 \n",
            " block1_pool (MaxPooling2D)  (None, 16, 16, 64)        0         \n",
            "                                                                 \n",
            " block2_conv1 (Conv2D)       (None, 16, 16, 128)       73856     \n",
            "                                                                 \n",
            " block2_conv2 (Conv2D)       (None, 16, 16, 128)       147584    \n",
            "                                                                 \n",
            " block2_pool (MaxPooling2D)  (None, 8, 8, 128)         0         \n",
            "                                                                 \n",
            " block3_conv1 (Conv2D)       (None, 8, 8, 256)         295168    \n",
            "                                                                 \n",
            " block3_conv2 (Conv2D)       (None, 8, 8, 256)         590080    \n",
            "                                                                 \n",
            " block3_conv3 (Conv2D)       (None, 8, 8, 256)         590080    \n",
            "                                                                 \n",
            " block3_pool (MaxPooling2D)  (None, 4, 4, 256)         0         \n",
            "                                                                 \n",
            " block4_conv1 (Conv2D)       (None, 4, 4, 512)         1180160   \n",
            "                                                                 \n",
            " block4_conv2 (Conv2D)       (None, 4, 4, 512)         2359808   \n",
            "                                                                 \n",
            " block4_conv3 (Conv2D)       (None, 4, 4, 512)         2359808   \n",
            "                                                                 \n",
            " block4_pool (MaxPooling2D)  (None, 2, 2, 512)         0         \n",
            "                                                                 \n",
            " block5_conv1 (Conv2D)       (None, 2, 2, 512)         2359808   \n",
            "                                                                 \n",
            " block5_conv2 (Conv2D)       (None, 2, 2, 512)         2359808   \n",
            "                                                                 \n",
            " block5_conv3 (Conv2D)       (None, 2, 2, 512)         2359808   \n",
            "                                                                 \n",
            " block5_pool (MaxPooling2D)  (None, 1, 1, 512)         0         \n",
            "                                                                 \n",
            "=================================================================\n",
            "Total params: 14714688 (56.13 MB)\n",
            "Trainable params: 0 (0.00 Byte)\n",
            "Non-trainable params: 14714688 (56.13 MB)\n",
            "_________________________________________________________________\n"
          ]
        }
      ]
    },
    {
      "cell_type": "code",
      "source": [
        "class GrayscaleToRGB(Layer):\n",
        "    def __init__(self, **kwargs):\n",
        "        super(GrayscaleToRGB, self).__init__(**kwargs)\n",
        "\n",
        "    def call(self, inputs):\n",
        "        return tf.image.grayscale_to_rgb(inputs)"
      ],
      "metadata": {
        "id": "33QFeiYaPriV"
      },
      "execution_count": 147,
      "outputs": []
    },
    {
      "cell_type": "code",
      "source": [
        "\n",
        "model = Sequential([\n",
        "    tf.keras.Input(shape=(28, 28, 1)),\n",
        "    Resizing(width=32, height=32),\n",
        "    GrayscaleToRGB(),\n",
        "    vgg_base,\n",
        "    Flatten(),\n",
        "    # Dense(256, activation='relu'),\n",
        "    # Dropout(0.5),\n",
        "    Dense(10, activation='Softmax')\n",
        "])"
      ],
      "metadata": {
        "id": "LKwLg8jvMZil"
      },
      "execution_count": 152,
      "outputs": []
    },
    {
      "cell_type": "code",
      "source": [
        "model.summary()"
      ],
      "metadata": {
        "colab": {
          "base_uri": "https://localhost:8080/"
        },
        "collapsed": true,
        "id": "RF1x0arBQJNL",
        "outputId": "64027dd3-ad9a-46f2-c535-8acdbcfb271c"
      },
      "execution_count": 153,
      "outputs": [
        {
          "output_type": "stream",
          "name": "stdout",
          "text": [
            "Model: \"sequential_14\"\n",
            "_________________________________________________________________\n",
            " Layer (type)                Output Shape              Param #   \n",
            "=================================================================\n",
            " resizing_15 (Resizing)      (None, 32, 32, 1)         0         \n",
            "                                                                 \n",
            " grayscale_to_rgb_15 (Grays  (None, 32, 32, 3)         0         \n",
            " caleToRGB)                                                      \n",
            "                                                                 \n",
            " vgg16 (Functional)          (None, 1, 1, 512)         14714688  \n",
            "                                                                 \n",
            " flatten_15 (Flatten)        (None, 512)               0         \n",
            "                                                                 \n",
            " dense_29 (Dense)            (None, 10)                5130      \n",
            "                                                                 \n",
            "=================================================================\n",
            "Total params: 14719818 (56.15 MB)\n",
            "Trainable params: 5130 (20.04 KB)\n",
            "Non-trainable params: 14714688 (56.13 MB)\n",
            "_________________________________________________________________\n"
          ]
        }
      ]
    },
    {
      "cell_type": "code",
      "source": [
        "model.compile(optimizer='adam', loss='categorical_crossentropy', metrics=['accuracy'])"
      ],
      "metadata": {
        "id": "r4l8HoCnQ9qE"
      },
      "execution_count": 154,
      "outputs": []
    },
    {
      "cell_type": "code",
      "source": [
        "early_stopping = EarlyStopping(monitor='accuracy',min_delta=0.3, patience=1, restore_best_weights=True)\n",
        "\n",
        "history = model.fit(x_train, y_train, epochs=3, validation_data=(x_test, y_test), callbacks=[early_stopping])\n"
      ],
      "metadata": {
        "colab": {
          "base_uri": "https://localhost:8080/"
        },
        "id": "ZvykklzCRQUG",
        "outputId": "4b1c0e69-8f5c-4fc7-d136-e7c01492d693"
      },
      "execution_count": 173,
      "outputs": [
        {
          "output_type": "stream",
          "name": "stdout",
          "text": [
            "Epoch 1/3\n",
            "1875/1875 [==============================] - 924s 493ms/step - loss: 0.2994 - accuracy: 0.9211 - val_loss: 0.2435 - val_accuracy: 0.9369\n",
            "Epoch 2/3\n",
            "1875/1875 [==============================] - 930s 496ms/step - loss: 0.2313 - accuracy: 0.9381 - val_loss: 0.1987 - val_accuracy: 0.9464\n"
          ]
        }
      ]
    },
    {
      "cell_type": "code",
      "source": [
        "print(history.history.keys())\n",
        "print(history.history['loss'])\n",
        "print(history.history['accuracy'])\n",
        "print(history.history['val_loss'])\n",
        "print(history.history['val_accuracy'])"
      ],
      "metadata": {
        "colab": {
          "base_uri": "https://localhost:8080/"
        },
        "id": "JkPyzm7-iZDP",
        "outputId": "63a144a4-d2bb-4b8d-da0c-006c1a35f720"
      },
      "execution_count": 174,
      "outputs": [
        {
          "output_type": "stream",
          "name": "stdout",
          "text": [
            "dict_keys(['loss', 'accuracy', 'val_loss', 'val_accuracy'])\n",
            "[0.2993886470794678, 0.23128467798233032]\n",
            "[0.9211166501045227, 0.9380833506584167]\n",
            "[0.24352888762950897, 0.19873583316802979]\n",
            "[0.9369000196456909, 0.946399986743927]\n"
          ]
        }
      ]
    },
    {
      "cell_type": "code",
      "source": [
        "val_loss, val_accuracy = model.evaluate(x_test, y_test)\n",
        "print(\"val_loss: \", val_loss)\n",
        "print(\"val_accuracy: \", val_accuracy)"
      ],
      "metadata": {
        "colab": {
          "base_uri": "https://localhost:8080/"
        },
        "id": "bE93RL8ZEC-N",
        "outputId": "c46f5fcb-73af-4860-e13b-4c4a24fbd6ed"
      },
      "execution_count": 193,
      "outputs": [
        {
          "output_type": "stream",
          "name": "stdout",
          "text": [
            "313/313 [==============================] - 130s 414ms/step - loss: 0.2435 - accuracy: 0.9369\n",
            "val_loss:  0.24352888762950897\n",
            "val_accuracy:  0.9369000196456909\n"
          ]
        }
      ]
    },
    {
      "cell_type": "markdown",
      "source": [
        "> this model is too slow on trainig, but offer a hight accuracy"
      ],
      "metadata": {
        "id": "TqK1UYG0x5qO"
      }
    },
    {
      "cell_type": "markdown",
      "source": [
        "# IV- InceptionV3"
      ],
      "metadata": {
        "id": "1VVnGA6IyK4L"
      }
    },
    {
      "cell_type": "code",
      "source": [
        "ins3 = InceptionV3(weights='imagenet', include_top=False, input_shape=(75, 75, 3))\n",
        "ins3.trainable = False\n",
        "ins3.summary()"
      ],
      "metadata": {
        "collapsed": true,
        "colab": {
          "base_uri": "https://localhost:8080/"
        },
        "id": "Bnga8RMZh1xM",
        "outputId": "5c0f4f7e-3b49-452f-8bb1-f2e14a4274ad"
      },
      "execution_count": 177,
      "outputs": [
        {
          "output_type": "stream",
          "name": "stdout",
          "text": [
            "Model: \"inception_v3\"\n",
            "__________________________________________________________________________________________________\n",
            " Layer (type)                Output Shape                 Param #   Connected to                  \n",
            "==================================================================================================\n",
            " input_28 (InputLayer)       [(None, 75, 75, 3)]          0         []                            \n",
            "                                                                                                  \n",
            " conv2d_188 (Conv2D)         (None, 37, 37, 32)           864       ['input_28[0][0]']            \n",
            "                                                                                                  \n",
            " batch_normalization_188 (B  (None, 37, 37, 32)           96        ['conv2d_188[0][0]']          \n",
            " atchNormalization)                                                                               \n",
            "                                                                                                  \n",
            " activation_188 (Activation  (None, 37, 37, 32)           0         ['batch_normalization_188[0][0\n",
            " )                                                                  ]']                           \n",
            "                                                                                                  \n",
            " conv2d_189 (Conv2D)         (None, 35, 35, 32)           9216      ['activation_188[0][0]']      \n",
            "                                                                                                  \n",
            " batch_normalization_189 (B  (None, 35, 35, 32)           96        ['conv2d_189[0][0]']          \n",
            " atchNormalization)                                                                               \n",
            "                                                                                                  \n",
            " activation_189 (Activation  (None, 35, 35, 32)           0         ['batch_normalization_189[0][0\n",
            " )                                                                  ]']                           \n",
            "                                                                                                  \n",
            " conv2d_190 (Conv2D)         (None, 35, 35, 64)           18432     ['activation_189[0][0]']      \n",
            "                                                                                                  \n",
            " batch_normalization_190 (B  (None, 35, 35, 64)           192       ['conv2d_190[0][0]']          \n",
            " atchNormalization)                                                                               \n",
            "                                                                                                  \n",
            " activation_190 (Activation  (None, 35, 35, 64)           0         ['batch_normalization_190[0][0\n",
            " )                                                                  ]']                           \n",
            "                                                                                                  \n",
            " max_pooling2d_8 (MaxPoolin  (None, 17, 17, 64)           0         ['activation_190[0][0]']      \n",
            " g2D)                                                                                             \n",
            "                                                                                                  \n",
            " conv2d_191 (Conv2D)         (None, 17, 17, 80)           5120      ['max_pooling2d_8[0][0]']     \n",
            "                                                                                                  \n",
            " batch_normalization_191 (B  (None, 17, 17, 80)           240       ['conv2d_191[0][0]']          \n",
            " atchNormalization)                                                                               \n",
            "                                                                                                  \n",
            " activation_191 (Activation  (None, 17, 17, 80)           0         ['batch_normalization_191[0][0\n",
            " )                                                                  ]']                           \n",
            "                                                                                                  \n",
            " conv2d_192 (Conv2D)         (None, 15, 15, 192)          138240    ['activation_191[0][0]']      \n",
            "                                                                                                  \n",
            " batch_normalization_192 (B  (None, 15, 15, 192)          576       ['conv2d_192[0][0]']          \n",
            " atchNormalization)                                                                               \n",
            "                                                                                                  \n",
            " activation_192 (Activation  (None, 15, 15, 192)          0         ['batch_normalization_192[0][0\n",
            " )                                                                  ]']                           \n",
            "                                                                                                  \n",
            " max_pooling2d_9 (MaxPoolin  (None, 7, 7, 192)            0         ['activation_192[0][0]']      \n",
            " g2D)                                                                                             \n",
            "                                                                                                  \n",
            " conv2d_196 (Conv2D)         (None, 7, 7, 64)             12288     ['max_pooling2d_9[0][0]']     \n",
            "                                                                                                  \n",
            " batch_normalization_196 (B  (None, 7, 7, 64)             192       ['conv2d_196[0][0]']          \n",
            " atchNormalization)                                                                               \n",
            "                                                                                                  \n",
            " activation_196 (Activation  (None, 7, 7, 64)             0         ['batch_normalization_196[0][0\n",
            " )                                                                  ]']                           \n",
            "                                                                                                  \n",
            " conv2d_194 (Conv2D)         (None, 7, 7, 48)             9216      ['max_pooling2d_9[0][0]']     \n",
            "                                                                                                  \n",
            " conv2d_197 (Conv2D)         (None, 7, 7, 96)             55296     ['activation_196[0][0]']      \n",
            "                                                                                                  \n",
            " batch_normalization_194 (B  (None, 7, 7, 48)             144       ['conv2d_194[0][0]']          \n",
            " atchNormalization)                                                                               \n",
            "                                                                                                  \n",
            " batch_normalization_197 (B  (None, 7, 7, 96)             288       ['conv2d_197[0][0]']          \n",
            " atchNormalization)                                                                               \n",
            "                                                                                                  \n",
            " activation_194 (Activation  (None, 7, 7, 48)             0         ['batch_normalization_194[0][0\n",
            " )                                                                  ]']                           \n",
            "                                                                                                  \n",
            " activation_197 (Activation  (None, 7, 7, 96)             0         ['batch_normalization_197[0][0\n",
            " )                                                                  ]']                           \n",
            "                                                                                                  \n",
            " average_pooling2d_18 (Aver  (None, 7, 7, 192)            0         ['max_pooling2d_9[0][0]']     \n",
            " agePooling2D)                                                                                    \n",
            "                                                                                                  \n",
            " conv2d_193 (Conv2D)         (None, 7, 7, 64)             12288     ['max_pooling2d_9[0][0]']     \n",
            "                                                                                                  \n",
            " conv2d_195 (Conv2D)         (None, 7, 7, 64)             76800     ['activation_194[0][0]']      \n",
            "                                                                                                  \n",
            " conv2d_198 (Conv2D)         (None, 7, 7, 96)             82944     ['activation_197[0][0]']      \n",
            "                                                                                                  \n",
            " conv2d_199 (Conv2D)         (None, 7, 7, 32)             6144      ['average_pooling2d_18[0][0]']\n",
            "                                                                                                  \n",
            " batch_normalization_193 (B  (None, 7, 7, 64)             192       ['conv2d_193[0][0]']          \n",
            " atchNormalization)                                                                               \n",
            "                                                                                                  \n",
            " batch_normalization_195 (B  (None, 7, 7, 64)             192       ['conv2d_195[0][0]']          \n",
            " atchNormalization)                                                                               \n",
            "                                                                                                  \n",
            " batch_normalization_198 (B  (None, 7, 7, 96)             288       ['conv2d_198[0][0]']          \n",
            " atchNormalization)                                                                               \n",
            "                                                                                                  \n",
            " batch_normalization_199 (B  (None, 7, 7, 32)             96        ['conv2d_199[0][0]']          \n",
            " atchNormalization)                                                                               \n",
            "                                                                                                  \n",
            " activation_193 (Activation  (None, 7, 7, 64)             0         ['batch_normalization_193[0][0\n",
            " )                                                                  ]']                           \n",
            "                                                                                                  \n",
            " activation_195 (Activation  (None, 7, 7, 64)             0         ['batch_normalization_195[0][0\n",
            " )                                                                  ]']                           \n",
            "                                                                                                  \n",
            " activation_198 (Activation  (None, 7, 7, 96)             0         ['batch_normalization_198[0][0\n",
            " )                                                                  ]']                           \n",
            "                                                                                                  \n",
            " activation_199 (Activation  (None, 7, 7, 32)             0         ['batch_normalization_199[0][0\n",
            " )                                                                  ]']                           \n",
            "                                                                                                  \n",
            " mixed0 (Concatenate)        (None, 7, 7, 256)            0         ['activation_193[0][0]',      \n",
            "                                                                     'activation_195[0][0]',      \n",
            "                                                                     'activation_198[0][0]',      \n",
            "                                                                     'activation_199[0][0]']      \n",
            "                                                                                                  \n",
            " conv2d_203 (Conv2D)         (None, 7, 7, 64)             16384     ['mixed0[0][0]']              \n",
            "                                                                                                  \n",
            " batch_normalization_203 (B  (None, 7, 7, 64)             192       ['conv2d_203[0][0]']          \n",
            " atchNormalization)                                                                               \n",
            "                                                                                                  \n",
            " activation_203 (Activation  (None, 7, 7, 64)             0         ['batch_normalization_203[0][0\n",
            " )                                                                  ]']                           \n",
            "                                                                                                  \n",
            " conv2d_201 (Conv2D)         (None, 7, 7, 48)             12288     ['mixed0[0][0]']              \n",
            "                                                                                                  \n",
            " conv2d_204 (Conv2D)         (None, 7, 7, 96)             55296     ['activation_203[0][0]']      \n",
            "                                                                                                  \n",
            " batch_normalization_201 (B  (None, 7, 7, 48)             144       ['conv2d_201[0][0]']          \n",
            " atchNormalization)                                                                               \n",
            "                                                                                                  \n",
            " batch_normalization_204 (B  (None, 7, 7, 96)             288       ['conv2d_204[0][0]']          \n",
            " atchNormalization)                                                                               \n",
            "                                                                                                  \n",
            " activation_201 (Activation  (None, 7, 7, 48)             0         ['batch_normalization_201[0][0\n",
            " )                                                                  ]']                           \n",
            "                                                                                                  \n",
            " activation_204 (Activation  (None, 7, 7, 96)             0         ['batch_normalization_204[0][0\n",
            " )                                                                  ]']                           \n",
            "                                                                                                  \n",
            " average_pooling2d_19 (Aver  (None, 7, 7, 256)            0         ['mixed0[0][0]']              \n",
            " agePooling2D)                                                                                    \n",
            "                                                                                                  \n",
            " conv2d_200 (Conv2D)         (None, 7, 7, 64)             16384     ['mixed0[0][0]']              \n",
            "                                                                                                  \n",
            " conv2d_202 (Conv2D)         (None, 7, 7, 64)             76800     ['activation_201[0][0]']      \n",
            "                                                                                                  \n",
            " conv2d_205 (Conv2D)         (None, 7, 7, 96)             82944     ['activation_204[0][0]']      \n",
            "                                                                                                  \n",
            " conv2d_206 (Conv2D)         (None, 7, 7, 64)             16384     ['average_pooling2d_19[0][0]']\n",
            "                                                                                                  \n",
            " batch_normalization_200 (B  (None, 7, 7, 64)             192       ['conv2d_200[0][0]']          \n",
            " atchNormalization)                                                                               \n",
            "                                                                                                  \n",
            " batch_normalization_202 (B  (None, 7, 7, 64)             192       ['conv2d_202[0][0]']          \n",
            " atchNormalization)                                                                               \n",
            "                                                                                                  \n",
            " batch_normalization_205 (B  (None, 7, 7, 96)             288       ['conv2d_205[0][0]']          \n",
            " atchNormalization)                                                                               \n",
            "                                                                                                  \n",
            " batch_normalization_206 (B  (None, 7, 7, 64)             192       ['conv2d_206[0][0]']          \n",
            " atchNormalization)                                                                               \n",
            "                                                                                                  \n",
            " activation_200 (Activation  (None, 7, 7, 64)             0         ['batch_normalization_200[0][0\n",
            " )                                                                  ]']                           \n",
            "                                                                                                  \n",
            " activation_202 (Activation  (None, 7, 7, 64)             0         ['batch_normalization_202[0][0\n",
            " )                                                                  ]']                           \n",
            "                                                                                                  \n",
            " activation_205 (Activation  (None, 7, 7, 96)             0         ['batch_normalization_205[0][0\n",
            " )                                                                  ]']                           \n",
            "                                                                                                  \n",
            " activation_206 (Activation  (None, 7, 7, 64)             0         ['batch_normalization_206[0][0\n",
            " )                                                                  ]']                           \n",
            "                                                                                                  \n",
            " mixed1 (Concatenate)        (None, 7, 7, 288)            0         ['activation_200[0][0]',      \n",
            "                                                                     'activation_202[0][0]',      \n",
            "                                                                     'activation_205[0][0]',      \n",
            "                                                                     'activation_206[0][0]']      \n",
            "                                                                                                  \n",
            " conv2d_210 (Conv2D)         (None, 7, 7, 64)             18432     ['mixed1[0][0]']              \n",
            "                                                                                                  \n",
            " batch_normalization_210 (B  (None, 7, 7, 64)             192       ['conv2d_210[0][0]']          \n",
            " atchNormalization)                                                                               \n",
            "                                                                                                  \n",
            " activation_210 (Activation  (None, 7, 7, 64)             0         ['batch_normalization_210[0][0\n",
            " )                                                                  ]']                           \n",
            "                                                                                                  \n",
            " conv2d_208 (Conv2D)         (None, 7, 7, 48)             13824     ['mixed1[0][0]']              \n",
            "                                                                                                  \n",
            " conv2d_211 (Conv2D)         (None, 7, 7, 96)             55296     ['activation_210[0][0]']      \n",
            "                                                                                                  \n",
            " batch_normalization_208 (B  (None, 7, 7, 48)             144       ['conv2d_208[0][0]']          \n",
            " atchNormalization)                                                                               \n",
            "                                                                                                  \n",
            " batch_normalization_211 (B  (None, 7, 7, 96)             288       ['conv2d_211[0][0]']          \n",
            " atchNormalization)                                                                               \n",
            "                                                                                                  \n",
            " activation_208 (Activation  (None, 7, 7, 48)             0         ['batch_normalization_208[0][0\n",
            " )                                                                  ]']                           \n",
            "                                                                                                  \n",
            " activation_211 (Activation  (None, 7, 7, 96)             0         ['batch_normalization_211[0][0\n",
            " )                                                                  ]']                           \n",
            "                                                                                                  \n",
            " average_pooling2d_20 (Aver  (None, 7, 7, 288)            0         ['mixed1[0][0]']              \n",
            " agePooling2D)                                                                                    \n",
            "                                                                                                  \n",
            " conv2d_207 (Conv2D)         (None, 7, 7, 64)             18432     ['mixed1[0][0]']              \n",
            "                                                                                                  \n",
            " conv2d_209 (Conv2D)         (None, 7, 7, 64)             76800     ['activation_208[0][0]']      \n",
            "                                                                                                  \n",
            " conv2d_212 (Conv2D)         (None, 7, 7, 96)             82944     ['activation_211[0][0]']      \n",
            "                                                                                                  \n",
            " conv2d_213 (Conv2D)         (None, 7, 7, 64)             18432     ['average_pooling2d_20[0][0]']\n",
            "                                                                                                  \n",
            " batch_normalization_207 (B  (None, 7, 7, 64)             192       ['conv2d_207[0][0]']          \n",
            " atchNormalization)                                                                               \n",
            "                                                                                                  \n",
            " batch_normalization_209 (B  (None, 7, 7, 64)             192       ['conv2d_209[0][0]']          \n",
            " atchNormalization)                                                                               \n",
            "                                                                                                  \n",
            " batch_normalization_212 (B  (None, 7, 7, 96)             288       ['conv2d_212[0][0]']          \n",
            " atchNormalization)                                                                               \n",
            "                                                                                                  \n",
            " batch_normalization_213 (B  (None, 7, 7, 64)             192       ['conv2d_213[0][0]']          \n",
            " atchNormalization)                                                                               \n",
            "                                                                                                  \n",
            " activation_207 (Activation  (None, 7, 7, 64)             0         ['batch_normalization_207[0][0\n",
            " )                                                                  ]']                           \n",
            "                                                                                                  \n",
            " activation_209 (Activation  (None, 7, 7, 64)             0         ['batch_normalization_209[0][0\n",
            " )                                                                  ]']                           \n",
            "                                                                                                  \n",
            " activation_212 (Activation  (None, 7, 7, 96)             0         ['batch_normalization_212[0][0\n",
            " )                                                                  ]']                           \n",
            "                                                                                                  \n",
            " activation_213 (Activation  (None, 7, 7, 64)             0         ['batch_normalization_213[0][0\n",
            " )                                                                  ]']                           \n",
            "                                                                                                  \n",
            " mixed2 (Concatenate)        (None, 7, 7, 288)            0         ['activation_207[0][0]',      \n",
            "                                                                     'activation_209[0][0]',      \n",
            "                                                                     'activation_212[0][0]',      \n",
            "                                                                     'activation_213[0][0]']      \n",
            "                                                                                                  \n",
            " conv2d_215 (Conv2D)         (None, 7, 7, 64)             18432     ['mixed2[0][0]']              \n",
            "                                                                                                  \n",
            " batch_normalization_215 (B  (None, 7, 7, 64)             192       ['conv2d_215[0][0]']          \n",
            " atchNormalization)                                                                               \n",
            "                                                                                                  \n",
            " activation_215 (Activation  (None, 7, 7, 64)             0         ['batch_normalization_215[0][0\n",
            " )                                                                  ]']                           \n",
            "                                                                                                  \n",
            " conv2d_216 (Conv2D)         (None, 7, 7, 96)             55296     ['activation_215[0][0]']      \n",
            "                                                                                                  \n",
            " batch_normalization_216 (B  (None, 7, 7, 96)             288       ['conv2d_216[0][0]']          \n",
            " atchNormalization)                                                                               \n",
            "                                                                                                  \n",
            " activation_216 (Activation  (None, 7, 7, 96)             0         ['batch_normalization_216[0][0\n",
            " )                                                                  ]']                           \n",
            "                                                                                                  \n",
            " conv2d_214 (Conv2D)         (None, 3, 3, 384)            995328    ['mixed2[0][0]']              \n",
            "                                                                                                  \n",
            " conv2d_217 (Conv2D)         (None, 3, 3, 96)             82944     ['activation_216[0][0]']      \n",
            "                                                                                                  \n",
            " batch_normalization_214 (B  (None, 3, 3, 384)            1152      ['conv2d_214[0][0]']          \n",
            " atchNormalization)                                                                               \n",
            "                                                                                                  \n",
            " batch_normalization_217 (B  (None, 3, 3, 96)             288       ['conv2d_217[0][0]']          \n",
            " atchNormalization)                                                                               \n",
            "                                                                                                  \n",
            " activation_214 (Activation  (None, 3, 3, 384)            0         ['batch_normalization_214[0][0\n",
            " )                                                                  ]']                           \n",
            "                                                                                                  \n",
            " activation_217 (Activation  (None, 3, 3, 96)             0         ['batch_normalization_217[0][0\n",
            " )                                                                  ]']                           \n",
            "                                                                                                  \n",
            " max_pooling2d_10 (MaxPooli  (None, 3, 3, 288)            0         ['mixed2[0][0]']              \n",
            " ng2D)                                                                                            \n",
            "                                                                                                  \n",
            " mixed3 (Concatenate)        (None, 3, 3, 768)            0         ['activation_214[0][0]',      \n",
            "                                                                     'activation_217[0][0]',      \n",
            "                                                                     'max_pooling2d_10[0][0]']    \n",
            "                                                                                                  \n",
            " conv2d_222 (Conv2D)         (None, 3, 3, 128)            98304     ['mixed3[0][0]']              \n",
            "                                                                                                  \n",
            " batch_normalization_222 (B  (None, 3, 3, 128)            384       ['conv2d_222[0][0]']          \n",
            " atchNormalization)                                                                               \n",
            "                                                                                                  \n",
            " activation_222 (Activation  (None, 3, 3, 128)            0         ['batch_normalization_222[0][0\n",
            " )                                                                  ]']                           \n",
            "                                                                                                  \n",
            " conv2d_223 (Conv2D)         (None, 3, 3, 128)            114688    ['activation_222[0][0]']      \n",
            "                                                                                                  \n",
            " batch_normalization_223 (B  (None, 3, 3, 128)            384       ['conv2d_223[0][0]']          \n",
            " atchNormalization)                                                                               \n",
            "                                                                                                  \n",
            " activation_223 (Activation  (None, 3, 3, 128)            0         ['batch_normalization_223[0][0\n",
            " )                                                                  ]']                           \n",
            "                                                                                                  \n",
            " conv2d_219 (Conv2D)         (None, 3, 3, 128)            98304     ['mixed3[0][0]']              \n",
            "                                                                                                  \n",
            " conv2d_224 (Conv2D)         (None, 3, 3, 128)            114688    ['activation_223[0][0]']      \n",
            "                                                                                                  \n",
            " batch_normalization_219 (B  (None, 3, 3, 128)            384       ['conv2d_219[0][0]']          \n",
            " atchNormalization)                                                                               \n",
            "                                                                                                  \n",
            " batch_normalization_224 (B  (None, 3, 3, 128)            384       ['conv2d_224[0][0]']          \n",
            " atchNormalization)                                                                               \n",
            "                                                                                                  \n",
            " activation_219 (Activation  (None, 3, 3, 128)            0         ['batch_normalization_219[0][0\n",
            " )                                                                  ]']                           \n",
            "                                                                                                  \n",
            " activation_224 (Activation  (None, 3, 3, 128)            0         ['batch_normalization_224[0][0\n",
            " )                                                                  ]']                           \n",
            "                                                                                                  \n",
            " conv2d_220 (Conv2D)         (None, 3, 3, 128)            114688    ['activation_219[0][0]']      \n",
            "                                                                                                  \n",
            " conv2d_225 (Conv2D)         (None, 3, 3, 128)            114688    ['activation_224[0][0]']      \n",
            "                                                                                                  \n",
            " batch_normalization_220 (B  (None, 3, 3, 128)            384       ['conv2d_220[0][0]']          \n",
            " atchNormalization)                                                                               \n",
            "                                                                                                  \n",
            " batch_normalization_225 (B  (None, 3, 3, 128)            384       ['conv2d_225[0][0]']          \n",
            " atchNormalization)                                                                               \n",
            "                                                                                                  \n",
            " activation_220 (Activation  (None, 3, 3, 128)            0         ['batch_normalization_220[0][0\n",
            " )                                                                  ]']                           \n",
            "                                                                                                  \n",
            " activation_225 (Activation  (None, 3, 3, 128)            0         ['batch_normalization_225[0][0\n",
            " )                                                                  ]']                           \n",
            "                                                                                                  \n",
            " average_pooling2d_21 (Aver  (None, 3, 3, 768)            0         ['mixed3[0][0]']              \n",
            " agePooling2D)                                                                                    \n",
            "                                                                                                  \n",
            " conv2d_218 (Conv2D)         (None, 3, 3, 192)            147456    ['mixed3[0][0]']              \n",
            "                                                                                                  \n",
            " conv2d_221 (Conv2D)         (None, 3, 3, 192)            172032    ['activation_220[0][0]']      \n",
            "                                                                                                  \n",
            " conv2d_226 (Conv2D)         (None, 3, 3, 192)            172032    ['activation_225[0][0]']      \n",
            "                                                                                                  \n",
            " conv2d_227 (Conv2D)         (None, 3, 3, 192)            147456    ['average_pooling2d_21[0][0]']\n",
            "                                                                                                  \n",
            " batch_normalization_218 (B  (None, 3, 3, 192)            576       ['conv2d_218[0][0]']          \n",
            " atchNormalization)                                                                               \n",
            "                                                                                                  \n",
            " batch_normalization_221 (B  (None, 3, 3, 192)            576       ['conv2d_221[0][0]']          \n",
            " atchNormalization)                                                                               \n",
            "                                                                                                  \n",
            " batch_normalization_226 (B  (None, 3, 3, 192)            576       ['conv2d_226[0][0]']          \n",
            " atchNormalization)                                                                               \n",
            "                                                                                                  \n",
            " batch_normalization_227 (B  (None, 3, 3, 192)            576       ['conv2d_227[0][0]']          \n",
            " atchNormalization)                                                                               \n",
            "                                                                                                  \n",
            " activation_218 (Activation  (None, 3, 3, 192)            0         ['batch_normalization_218[0][0\n",
            " )                                                                  ]']                           \n",
            "                                                                                                  \n",
            " activation_221 (Activation  (None, 3, 3, 192)            0         ['batch_normalization_221[0][0\n",
            " )                                                                  ]']                           \n",
            "                                                                                                  \n",
            " activation_226 (Activation  (None, 3, 3, 192)            0         ['batch_normalization_226[0][0\n",
            " )                                                                  ]']                           \n",
            "                                                                                                  \n",
            " activation_227 (Activation  (None, 3, 3, 192)            0         ['batch_normalization_227[0][0\n",
            " )                                                                  ]']                           \n",
            "                                                                                                  \n",
            " mixed4 (Concatenate)        (None, 3, 3, 768)            0         ['activation_218[0][0]',      \n",
            "                                                                     'activation_221[0][0]',      \n",
            "                                                                     'activation_226[0][0]',      \n",
            "                                                                     'activation_227[0][0]']      \n",
            "                                                                                                  \n",
            " conv2d_232 (Conv2D)         (None, 3, 3, 160)            122880    ['mixed4[0][0]']              \n",
            "                                                                                                  \n",
            " batch_normalization_232 (B  (None, 3, 3, 160)            480       ['conv2d_232[0][0]']          \n",
            " atchNormalization)                                                                               \n",
            "                                                                                                  \n",
            " activation_232 (Activation  (None, 3, 3, 160)            0         ['batch_normalization_232[0][0\n",
            " )                                                                  ]']                           \n",
            "                                                                                                  \n",
            " conv2d_233 (Conv2D)         (None, 3, 3, 160)            179200    ['activation_232[0][0]']      \n",
            "                                                                                                  \n",
            " batch_normalization_233 (B  (None, 3, 3, 160)            480       ['conv2d_233[0][0]']          \n",
            " atchNormalization)                                                                               \n",
            "                                                                                                  \n",
            " activation_233 (Activation  (None, 3, 3, 160)            0         ['batch_normalization_233[0][0\n",
            " )                                                                  ]']                           \n",
            "                                                                                                  \n",
            " conv2d_229 (Conv2D)         (None, 3, 3, 160)            122880    ['mixed4[0][0]']              \n",
            "                                                                                                  \n",
            " conv2d_234 (Conv2D)         (None, 3, 3, 160)            179200    ['activation_233[0][0]']      \n",
            "                                                                                                  \n",
            " batch_normalization_229 (B  (None, 3, 3, 160)            480       ['conv2d_229[0][0]']          \n",
            " atchNormalization)                                                                               \n",
            "                                                                                                  \n",
            " batch_normalization_234 (B  (None, 3, 3, 160)            480       ['conv2d_234[0][0]']          \n",
            " atchNormalization)                                                                               \n",
            "                                                                                                  \n",
            " activation_229 (Activation  (None, 3, 3, 160)            0         ['batch_normalization_229[0][0\n",
            " )                                                                  ]']                           \n",
            "                                                                                                  \n",
            " activation_234 (Activation  (None, 3, 3, 160)            0         ['batch_normalization_234[0][0\n",
            " )                                                                  ]']                           \n",
            "                                                                                                  \n",
            " conv2d_230 (Conv2D)         (None, 3, 3, 160)            179200    ['activation_229[0][0]']      \n",
            "                                                                                                  \n",
            " conv2d_235 (Conv2D)         (None, 3, 3, 160)            179200    ['activation_234[0][0]']      \n",
            "                                                                                                  \n",
            " batch_normalization_230 (B  (None, 3, 3, 160)            480       ['conv2d_230[0][0]']          \n",
            " atchNormalization)                                                                               \n",
            "                                                                                                  \n",
            " batch_normalization_235 (B  (None, 3, 3, 160)            480       ['conv2d_235[0][0]']          \n",
            " atchNormalization)                                                                               \n",
            "                                                                                                  \n",
            " activation_230 (Activation  (None, 3, 3, 160)            0         ['batch_normalization_230[0][0\n",
            " )                                                                  ]']                           \n",
            "                                                                                                  \n",
            " activation_235 (Activation  (None, 3, 3, 160)            0         ['batch_normalization_235[0][0\n",
            " )                                                                  ]']                           \n",
            "                                                                                                  \n",
            " average_pooling2d_22 (Aver  (None, 3, 3, 768)            0         ['mixed4[0][0]']              \n",
            " agePooling2D)                                                                                    \n",
            "                                                                                                  \n",
            " conv2d_228 (Conv2D)         (None, 3, 3, 192)            147456    ['mixed4[0][0]']              \n",
            "                                                                                                  \n",
            " conv2d_231 (Conv2D)         (None, 3, 3, 192)            215040    ['activation_230[0][0]']      \n",
            "                                                                                                  \n",
            " conv2d_236 (Conv2D)         (None, 3, 3, 192)            215040    ['activation_235[0][0]']      \n",
            "                                                                                                  \n",
            " conv2d_237 (Conv2D)         (None, 3, 3, 192)            147456    ['average_pooling2d_22[0][0]']\n",
            "                                                                                                  \n",
            " batch_normalization_228 (B  (None, 3, 3, 192)            576       ['conv2d_228[0][0]']          \n",
            " atchNormalization)                                                                               \n",
            "                                                                                                  \n",
            " batch_normalization_231 (B  (None, 3, 3, 192)            576       ['conv2d_231[0][0]']          \n",
            " atchNormalization)                                                                               \n",
            "                                                                                                  \n",
            " batch_normalization_236 (B  (None, 3, 3, 192)            576       ['conv2d_236[0][0]']          \n",
            " atchNormalization)                                                                               \n",
            "                                                                                                  \n",
            " batch_normalization_237 (B  (None, 3, 3, 192)            576       ['conv2d_237[0][0]']          \n",
            " atchNormalization)                                                                               \n",
            "                                                                                                  \n",
            " activation_228 (Activation  (None, 3, 3, 192)            0         ['batch_normalization_228[0][0\n",
            " )                                                                  ]']                           \n",
            "                                                                                                  \n",
            " activation_231 (Activation  (None, 3, 3, 192)            0         ['batch_normalization_231[0][0\n",
            " )                                                                  ]']                           \n",
            "                                                                                                  \n",
            " activation_236 (Activation  (None, 3, 3, 192)            0         ['batch_normalization_236[0][0\n",
            " )                                                                  ]']                           \n",
            "                                                                                                  \n",
            " activation_237 (Activation  (None, 3, 3, 192)            0         ['batch_normalization_237[0][0\n",
            " )                                                                  ]']                           \n",
            "                                                                                                  \n",
            " mixed5 (Concatenate)        (None, 3, 3, 768)            0         ['activation_228[0][0]',      \n",
            "                                                                     'activation_231[0][0]',      \n",
            "                                                                     'activation_236[0][0]',      \n",
            "                                                                     'activation_237[0][0]']      \n",
            "                                                                                                  \n",
            " conv2d_242 (Conv2D)         (None, 3, 3, 160)            122880    ['mixed5[0][0]']              \n",
            "                                                                                                  \n",
            " batch_normalization_242 (B  (None, 3, 3, 160)            480       ['conv2d_242[0][0]']          \n",
            " atchNormalization)                                                                               \n",
            "                                                                                                  \n",
            " activation_242 (Activation  (None, 3, 3, 160)            0         ['batch_normalization_242[0][0\n",
            " )                                                                  ]']                           \n",
            "                                                                                                  \n",
            " conv2d_243 (Conv2D)         (None, 3, 3, 160)            179200    ['activation_242[0][0]']      \n",
            "                                                                                                  \n",
            " batch_normalization_243 (B  (None, 3, 3, 160)            480       ['conv2d_243[0][0]']          \n",
            " atchNormalization)                                                                               \n",
            "                                                                                                  \n",
            " activation_243 (Activation  (None, 3, 3, 160)            0         ['batch_normalization_243[0][0\n",
            " )                                                                  ]']                           \n",
            "                                                                                                  \n",
            " conv2d_239 (Conv2D)         (None, 3, 3, 160)            122880    ['mixed5[0][0]']              \n",
            "                                                                                                  \n",
            " conv2d_244 (Conv2D)         (None, 3, 3, 160)            179200    ['activation_243[0][0]']      \n",
            "                                                                                                  \n",
            " batch_normalization_239 (B  (None, 3, 3, 160)            480       ['conv2d_239[0][0]']          \n",
            " atchNormalization)                                                                               \n",
            "                                                                                                  \n",
            " batch_normalization_244 (B  (None, 3, 3, 160)            480       ['conv2d_244[0][0]']          \n",
            " atchNormalization)                                                                               \n",
            "                                                                                                  \n",
            " activation_239 (Activation  (None, 3, 3, 160)            0         ['batch_normalization_239[0][0\n",
            " )                                                                  ]']                           \n",
            "                                                                                                  \n",
            " activation_244 (Activation  (None, 3, 3, 160)            0         ['batch_normalization_244[0][0\n",
            " )                                                                  ]']                           \n",
            "                                                                                                  \n",
            " conv2d_240 (Conv2D)         (None, 3, 3, 160)            179200    ['activation_239[0][0]']      \n",
            "                                                                                                  \n",
            " conv2d_245 (Conv2D)         (None, 3, 3, 160)            179200    ['activation_244[0][0]']      \n",
            "                                                                                                  \n",
            " batch_normalization_240 (B  (None, 3, 3, 160)            480       ['conv2d_240[0][0]']          \n",
            " atchNormalization)                                                                               \n",
            "                                                                                                  \n",
            " batch_normalization_245 (B  (None, 3, 3, 160)            480       ['conv2d_245[0][0]']          \n",
            " atchNormalization)                                                                               \n",
            "                                                                                                  \n",
            " activation_240 (Activation  (None, 3, 3, 160)            0         ['batch_normalization_240[0][0\n",
            " )                                                                  ]']                           \n",
            "                                                                                                  \n",
            " activation_245 (Activation  (None, 3, 3, 160)            0         ['batch_normalization_245[0][0\n",
            " )                                                                  ]']                           \n",
            "                                                                                                  \n",
            " average_pooling2d_23 (Aver  (None, 3, 3, 768)            0         ['mixed5[0][0]']              \n",
            " agePooling2D)                                                                                    \n",
            "                                                                                                  \n",
            " conv2d_238 (Conv2D)         (None, 3, 3, 192)            147456    ['mixed5[0][0]']              \n",
            "                                                                                                  \n",
            " conv2d_241 (Conv2D)         (None, 3, 3, 192)            215040    ['activation_240[0][0]']      \n",
            "                                                                                                  \n",
            " conv2d_246 (Conv2D)         (None, 3, 3, 192)            215040    ['activation_245[0][0]']      \n",
            "                                                                                                  \n",
            " conv2d_247 (Conv2D)         (None, 3, 3, 192)            147456    ['average_pooling2d_23[0][0]']\n",
            "                                                                                                  \n",
            " batch_normalization_238 (B  (None, 3, 3, 192)            576       ['conv2d_238[0][0]']          \n",
            " atchNormalization)                                                                               \n",
            "                                                                                                  \n",
            " batch_normalization_241 (B  (None, 3, 3, 192)            576       ['conv2d_241[0][0]']          \n",
            " atchNormalization)                                                                               \n",
            "                                                                                                  \n",
            " batch_normalization_246 (B  (None, 3, 3, 192)            576       ['conv2d_246[0][0]']          \n",
            " atchNormalization)                                                                               \n",
            "                                                                                                  \n",
            " batch_normalization_247 (B  (None, 3, 3, 192)            576       ['conv2d_247[0][0]']          \n",
            " atchNormalization)                                                                               \n",
            "                                                                                                  \n",
            " activation_238 (Activation  (None, 3, 3, 192)            0         ['batch_normalization_238[0][0\n",
            " )                                                                  ]']                           \n",
            "                                                                                                  \n",
            " activation_241 (Activation  (None, 3, 3, 192)            0         ['batch_normalization_241[0][0\n",
            " )                                                                  ]']                           \n",
            "                                                                                                  \n",
            " activation_246 (Activation  (None, 3, 3, 192)            0         ['batch_normalization_246[0][0\n",
            " )                                                                  ]']                           \n",
            "                                                                                                  \n",
            " activation_247 (Activation  (None, 3, 3, 192)            0         ['batch_normalization_247[0][0\n",
            " )                                                                  ]']                           \n",
            "                                                                                                  \n",
            " mixed6 (Concatenate)        (None, 3, 3, 768)            0         ['activation_238[0][0]',      \n",
            "                                                                     'activation_241[0][0]',      \n",
            "                                                                     'activation_246[0][0]',      \n",
            "                                                                     'activation_247[0][0]']      \n",
            "                                                                                                  \n",
            " conv2d_252 (Conv2D)         (None, 3, 3, 192)            147456    ['mixed6[0][0]']              \n",
            "                                                                                                  \n",
            " batch_normalization_252 (B  (None, 3, 3, 192)            576       ['conv2d_252[0][0]']          \n",
            " atchNormalization)                                                                               \n",
            "                                                                                                  \n",
            " activation_252 (Activation  (None, 3, 3, 192)            0         ['batch_normalization_252[0][0\n",
            " )                                                                  ]']                           \n",
            "                                                                                                  \n",
            " conv2d_253 (Conv2D)         (None, 3, 3, 192)            258048    ['activation_252[0][0]']      \n",
            "                                                                                                  \n",
            " batch_normalization_253 (B  (None, 3, 3, 192)            576       ['conv2d_253[0][0]']          \n",
            " atchNormalization)                                                                               \n",
            "                                                                                                  \n",
            " activation_253 (Activation  (None, 3, 3, 192)            0         ['batch_normalization_253[0][0\n",
            " )                                                                  ]']                           \n",
            "                                                                                                  \n",
            " conv2d_249 (Conv2D)         (None, 3, 3, 192)            147456    ['mixed6[0][0]']              \n",
            "                                                                                                  \n",
            " conv2d_254 (Conv2D)         (None, 3, 3, 192)            258048    ['activation_253[0][0]']      \n",
            "                                                                                                  \n",
            " batch_normalization_249 (B  (None, 3, 3, 192)            576       ['conv2d_249[0][0]']          \n",
            " atchNormalization)                                                                               \n",
            "                                                                                                  \n",
            " batch_normalization_254 (B  (None, 3, 3, 192)            576       ['conv2d_254[0][0]']          \n",
            " atchNormalization)                                                                               \n",
            "                                                                                                  \n",
            " activation_249 (Activation  (None, 3, 3, 192)            0         ['batch_normalization_249[0][0\n",
            " )                                                                  ]']                           \n",
            "                                                                                                  \n",
            " activation_254 (Activation  (None, 3, 3, 192)            0         ['batch_normalization_254[0][0\n",
            " )                                                                  ]']                           \n",
            "                                                                                                  \n",
            " conv2d_250 (Conv2D)         (None, 3, 3, 192)            258048    ['activation_249[0][0]']      \n",
            "                                                                                                  \n",
            " conv2d_255 (Conv2D)         (None, 3, 3, 192)            258048    ['activation_254[0][0]']      \n",
            "                                                                                                  \n",
            " batch_normalization_250 (B  (None, 3, 3, 192)            576       ['conv2d_250[0][0]']          \n",
            " atchNormalization)                                                                               \n",
            "                                                                                                  \n",
            " batch_normalization_255 (B  (None, 3, 3, 192)            576       ['conv2d_255[0][0]']          \n",
            " atchNormalization)                                                                               \n",
            "                                                                                                  \n",
            " activation_250 (Activation  (None, 3, 3, 192)            0         ['batch_normalization_250[0][0\n",
            " )                                                                  ]']                           \n",
            "                                                                                                  \n",
            " activation_255 (Activation  (None, 3, 3, 192)            0         ['batch_normalization_255[0][0\n",
            " )                                                                  ]']                           \n",
            "                                                                                                  \n",
            " average_pooling2d_24 (Aver  (None, 3, 3, 768)            0         ['mixed6[0][0]']              \n",
            " agePooling2D)                                                                                    \n",
            "                                                                                                  \n",
            " conv2d_248 (Conv2D)         (None, 3, 3, 192)            147456    ['mixed6[0][0]']              \n",
            "                                                                                                  \n",
            " conv2d_251 (Conv2D)         (None, 3, 3, 192)            258048    ['activation_250[0][0]']      \n",
            "                                                                                                  \n",
            " conv2d_256 (Conv2D)         (None, 3, 3, 192)            258048    ['activation_255[0][0]']      \n",
            "                                                                                                  \n",
            " conv2d_257 (Conv2D)         (None, 3, 3, 192)            147456    ['average_pooling2d_24[0][0]']\n",
            "                                                                                                  \n",
            " batch_normalization_248 (B  (None, 3, 3, 192)            576       ['conv2d_248[0][0]']          \n",
            " atchNormalization)                                                                               \n",
            "                                                                                                  \n",
            " batch_normalization_251 (B  (None, 3, 3, 192)            576       ['conv2d_251[0][0]']          \n",
            " atchNormalization)                                                                               \n",
            "                                                                                                  \n",
            " batch_normalization_256 (B  (None, 3, 3, 192)            576       ['conv2d_256[0][0]']          \n",
            " atchNormalization)                                                                               \n",
            "                                                                                                  \n",
            " batch_normalization_257 (B  (None, 3, 3, 192)            576       ['conv2d_257[0][0]']          \n",
            " atchNormalization)                                                                               \n",
            "                                                                                                  \n",
            " activation_248 (Activation  (None, 3, 3, 192)            0         ['batch_normalization_248[0][0\n",
            " )                                                                  ]']                           \n",
            "                                                                                                  \n",
            " activation_251 (Activation  (None, 3, 3, 192)            0         ['batch_normalization_251[0][0\n",
            " )                                                                  ]']                           \n",
            "                                                                                                  \n",
            " activation_256 (Activation  (None, 3, 3, 192)            0         ['batch_normalization_256[0][0\n",
            " )                                                                  ]']                           \n",
            "                                                                                                  \n",
            " activation_257 (Activation  (None, 3, 3, 192)            0         ['batch_normalization_257[0][0\n",
            " )                                                                  ]']                           \n",
            "                                                                                                  \n",
            " mixed7 (Concatenate)        (None, 3, 3, 768)            0         ['activation_248[0][0]',      \n",
            "                                                                     'activation_251[0][0]',      \n",
            "                                                                     'activation_256[0][0]',      \n",
            "                                                                     'activation_257[0][0]']      \n",
            "                                                                                                  \n",
            " conv2d_260 (Conv2D)         (None, 3, 3, 192)            147456    ['mixed7[0][0]']              \n",
            "                                                                                                  \n",
            " batch_normalization_260 (B  (None, 3, 3, 192)            576       ['conv2d_260[0][0]']          \n",
            " atchNormalization)                                                                               \n",
            "                                                                                                  \n",
            " activation_260 (Activation  (None, 3, 3, 192)            0         ['batch_normalization_260[0][0\n",
            " )                                                                  ]']                           \n",
            "                                                                                                  \n",
            " conv2d_261 (Conv2D)         (None, 3, 3, 192)            258048    ['activation_260[0][0]']      \n",
            "                                                                                                  \n",
            " batch_normalization_261 (B  (None, 3, 3, 192)            576       ['conv2d_261[0][0]']          \n",
            " atchNormalization)                                                                               \n",
            "                                                                                                  \n",
            " activation_261 (Activation  (None, 3, 3, 192)            0         ['batch_normalization_261[0][0\n",
            " )                                                                  ]']                           \n",
            "                                                                                                  \n",
            " conv2d_258 (Conv2D)         (None, 3, 3, 192)            147456    ['mixed7[0][0]']              \n",
            "                                                                                                  \n",
            " conv2d_262 (Conv2D)         (None, 3, 3, 192)            258048    ['activation_261[0][0]']      \n",
            "                                                                                                  \n",
            " batch_normalization_258 (B  (None, 3, 3, 192)            576       ['conv2d_258[0][0]']          \n",
            " atchNormalization)                                                                               \n",
            "                                                                                                  \n",
            " batch_normalization_262 (B  (None, 3, 3, 192)            576       ['conv2d_262[0][0]']          \n",
            " atchNormalization)                                                                               \n",
            "                                                                                                  \n",
            " activation_258 (Activation  (None, 3, 3, 192)            0         ['batch_normalization_258[0][0\n",
            " )                                                                  ]']                           \n",
            "                                                                                                  \n",
            " activation_262 (Activation  (None, 3, 3, 192)            0         ['batch_normalization_262[0][0\n",
            " )                                                                  ]']                           \n",
            "                                                                                                  \n",
            " conv2d_259 (Conv2D)         (None, 1, 1, 320)            552960    ['activation_258[0][0]']      \n",
            "                                                                                                  \n",
            " conv2d_263 (Conv2D)         (None, 1, 1, 192)            331776    ['activation_262[0][0]']      \n",
            "                                                                                                  \n",
            " batch_normalization_259 (B  (None, 1, 1, 320)            960       ['conv2d_259[0][0]']          \n",
            " atchNormalization)                                                                               \n",
            "                                                                                                  \n",
            " batch_normalization_263 (B  (None, 1, 1, 192)            576       ['conv2d_263[0][0]']          \n",
            " atchNormalization)                                                                               \n",
            "                                                                                                  \n",
            " activation_259 (Activation  (None, 1, 1, 320)            0         ['batch_normalization_259[0][0\n",
            " )                                                                  ]']                           \n",
            "                                                                                                  \n",
            " activation_263 (Activation  (None, 1, 1, 192)            0         ['batch_normalization_263[0][0\n",
            " )                                                                  ]']                           \n",
            "                                                                                                  \n",
            " max_pooling2d_11 (MaxPooli  (None, 1, 1, 768)            0         ['mixed7[0][0]']              \n",
            " ng2D)                                                                                            \n",
            "                                                                                                  \n",
            " mixed8 (Concatenate)        (None, 1, 1, 1280)           0         ['activation_259[0][0]',      \n",
            "                                                                     'activation_263[0][0]',      \n",
            "                                                                     'max_pooling2d_11[0][0]']    \n",
            "                                                                                                  \n",
            " conv2d_268 (Conv2D)         (None, 1, 1, 448)            573440    ['mixed8[0][0]']              \n",
            "                                                                                                  \n",
            " batch_normalization_268 (B  (None, 1, 1, 448)            1344      ['conv2d_268[0][0]']          \n",
            " atchNormalization)                                                                               \n",
            "                                                                                                  \n",
            " activation_268 (Activation  (None, 1, 1, 448)            0         ['batch_normalization_268[0][0\n",
            " )                                                                  ]']                           \n",
            "                                                                                                  \n",
            " conv2d_265 (Conv2D)         (None, 1, 1, 384)            491520    ['mixed8[0][0]']              \n",
            "                                                                                                  \n",
            " conv2d_269 (Conv2D)         (None, 1, 1, 384)            1548288   ['activation_268[0][0]']      \n",
            "                                                                                                  \n",
            " batch_normalization_265 (B  (None, 1, 1, 384)            1152      ['conv2d_265[0][0]']          \n",
            " atchNormalization)                                                                               \n",
            "                                                                                                  \n",
            " batch_normalization_269 (B  (None, 1, 1, 384)            1152      ['conv2d_269[0][0]']          \n",
            " atchNormalization)                                                                               \n",
            "                                                                                                  \n",
            " activation_265 (Activation  (None, 1, 1, 384)            0         ['batch_normalization_265[0][0\n",
            " )                                                                  ]']                           \n",
            "                                                                                                  \n",
            " activation_269 (Activation  (None, 1, 1, 384)            0         ['batch_normalization_269[0][0\n",
            " )                                                                  ]']                           \n",
            "                                                                                                  \n",
            " conv2d_266 (Conv2D)         (None, 1, 1, 384)            442368    ['activation_265[0][0]']      \n",
            "                                                                                                  \n",
            " conv2d_267 (Conv2D)         (None, 1, 1, 384)            442368    ['activation_265[0][0]']      \n",
            "                                                                                                  \n",
            " conv2d_270 (Conv2D)         (None, 1, 1, 384)            442368    ['activation_269[0][0]']      \n",
            "                                                                                                  \n",
            " conv2d_271 (Conv2D)         (None, 1, 1, 384)            442368    ['activation_269[0][0]']      \n",
            "                                                                                                  \n",
            " average_pooling2d_25 (Aver  (None, 1, 1, 1280)           0         ['mixed8[0][0]']              \n",
            " agePooling2D)                                                                                    \n",
            "                                                                                                  \n",
            " conv2d_264 (Conv2D)         (None, 1, 1, 320)            409600    ['mixed8[0][0]']              \n",
            "                                                                                                  \n",
            " batch_normalization_266 (B  (None, 1, 1, 384)            1152      ['conv2d_266[0][0]']          \n",
            " atchNormalization)                                                                               \n",
            "                                                                                                  \n",
            " batch_normalization_267 (B  (None, 1, 1, 384)            1152      ['conv2d_267[0][0]']          \n",
            " atchNormalization)                                                                               \n",
            "                                                                                                  \n",
            " batch_normalization_270 (B  (None, 1, 1, 384)            1152      ['conv2d_270[0][0]']          \n",
            " atchNormalization)                                                                               \n",
            "                                                                                                  \n",
            " batch_normalization_271 (B  (None, 1, 1, 384)            1152      ['conv2d_271[0][0]']          \n",
            " atchNormalization)                                                                               \n",
            "                                                                                                  \n",
            " conv2d_272 (Conv2D)         (None, 1, 1, 192)            245760    ['average_pooling2d_25[0][0]']\n",
            "                                                                                                  \n",
            " batch_normalization_264 (B  (None, 1, 1, 320)            960       ['conv2d_264[0][0]']          \n",
            " atchNormalization)                                                                               \n",
            "                                                                                                  \n",
            " activation_266 (Activation  (None, 1, 1, 384)            0         ['batch_normalization_266[0][0\n",
            " )                                                                  ]']                           \n",
            "                                                                                                  \n",
            " activation_267 (Activation  (None, 1, 1, 384)            0         ['batch_normalization_267[0][0\n",
            " )                                                                  ]']                           \n",
            "                                                                                                  \n",
            " activation_270 (Activation  (None, 1, 1, 384)            0         ['batch_normalization_270[0][0\n",
            " )                                                                  ]']                           \n",
            "                                                                                                  \n",
            " activation_271 (Activation  (None, 1, 1, 384)            0         ['batch_normalization_271[0][0\n",
            " )                                                                  ]']                           \n",
            "                                                                                                  \n",
            " batch_normalization_272 (B  (None, 1, 1, 192)            576       ['conv2d_272[0][0]']          \n",
            " atchNormalization)                                                                               \n",
            "                                                                                                  \n",
            " activation_264 (Activation  (None, 1, 1, 320)            0         ['batch_normalization_264[0][0\n",
            " )                                                                  ]']                           \n",
            "                                                                                                  \n",
            " mixed9_0 (Concatenate)      (None, 1, 1, 768)            0         ['activation_266[0][0]',      \n",
            "                                                                     'activation_267[0][0]']      \n",
            "                                                                                                  \n",
            " concatenate_4 (Concatenate  (None, 1, 1, 768)            0         ['activation_270[0][0]',      \n",
            " )                                                                   'activation_271[0][0]']      \n",
            "                                                                                                  \n",
            " activation_272 (Activation  (None, 1, 1, 192)            0         ['batch_normalization_272[0][0\n",
            " )                                                                  ]']                           \n",
            "                                                                                                  \n",
            " mixed9 (Concatenate)        (None, 1, 1, 2048)           0         ['activation_264[0][0]',      \n",
            "                                                                     'mixed9_0[0][0]',            \n",
            "                                                                     'concatenate_4[0][0]',       \n",
            "                                                                     'activation_272[0][0]']      \n",
            "                                                                                                  \n",
            " conv2d_277 (Conv2D)         (None, 1, 1, 448)            917504    ['mixed9[0][0]']              \n",
            "                                                                                                  \n",
            " batch_normalization_277 (B  (None, 1, 1, 448)            1344      ['conv2d_277[0][0]']          \n",
            " atchNormalization)                                                                               \n",
            "                                                                                                  \n",
            " activation_277 (Activation  (None, 1, 1, 448)            0         ['batch_normalization_277[0][0\n",
            " )                                                                  ]']                           \n",
            "                                                                                                  \n",
            " conv2d_274 (Conv2D)         (None, 1, 1, 384)            786432    ['mixed9[0][0]']              \n",
            "                                                                                                  \n",
            " conv2d_278 (Conv2D)         (None, 1, 1, 384)            1548288   ['activation_277[0][0]']      \n",
            "                                                                                                  \n",
            " batch_normalization_274 (B  (None, 1, 1, 384)            1152      ['conv2d_274[0][0]']          \n",
            " atchNormalization)                                                                               \n",
            "                                                                                                  \n",
            " batch_normalization_278 (B  (None, 1, 1, 384)            1152      ['conv2d_278[0][0]']          \n",
            " atchNormalization)                                                                               \n",
            "                                                                                                  \n",
            " activation_274 (Activation  (None, 1, 1, 384)            0         ['batch_normalization_274[0][0\n",
            " )                                                                  ]']                           \n",
            "                                                                                                  \n",
            " activation_278 (Activation  (None, 1, 1, 384)            0         ['batch_normalization_278[0][0\n",
            " )                                                                  ]']                           \n",
            "                                                                                                  \n",
            " conv2d_275 (Conv2D)         (None, 1, 1, 384)            442368    ['activation_274[0][0]']      \n",
            "                                                                                                  \n",
            " conv2d_276 (Conv2D)         (None, 1, 1, 384)            442368    ['activation_274[0][0]']      \n",
            "                                                                                                  \n",
            " conv2d_279 (Conv2D)         (None, 1, 1, 384)            442368    ['activation_278[0][0]']      \n",
            "                                                                                                  \n",
            " conv2d_280 (Conv2D)         (None, 1, 1, 384)            442368    ['activation_278[0][0]']      \n",
            "                                                                                                  \n",
            " average_pooling2d_26 (Aver  (None, 1, 1, 2048)           0         ['mixed9[0][0]']              \n",
            " agePooling2D)                                                                                    \n",
            "                                                                                                  \n",
            " conv2d_273 (Conv2D)         (None, 1, 1, 320)            655360    ['mixed9[0][0]']              \n",
            "                                                                                                  \n",
            " batch_normalization_275 (B  (None, 1, 1, 384)            1152      ['conv2d_275[0][0]']          \n",
            " atchNormalization)                                                                               \n",
            "                                                                                                  \n",
            " batch_normalization_276 (B  (None, 1, 1, 384)            1152      ['conv2d_276[0][0]']          \n",
            " atchNormalization)                                                                               \n",
            "                                                                                                  \n",
            " batch_normalization_279 (B  (None, 1, 1, 384)            1152      ['conv2d_279[0][0]']          \n",
            " atchNormalization)                                                                               \n",
            "                                                                                                  \n",
            " batch_normalization_280 (B  (None, 1, 1, 384)            1152      ['conv2d_280[0][0]']          \n",
            " atchNormalization)                                                                               \n",
            "                                                                                                  \n",
            " conv2d_281 (Conv2D)         (None, 1, 1, 192)            393216    ['average_pooling2d_26[0][0]']\n",
            "                                                                                                  \n",
            " batch_normalization_273 (B  (None, 1, 1, 320)            960       ['conv2d_273[0][0]']          \n",
            " atchNormalization)                                                                               \n",
            "                                                                                                  \n",
            " activation_275 (Activation  (None, 1, 1, 384)            0         ['batch_normalization_275[0][0\n",
            " )                                                                  ]']                           \n",
            "                                                                                                  \n",
            " activation_276 (Activation  (None, 1, 1, 384)            0         ['batch_normalization_276[0][0\n",
            " )                                                                  ]']                           \n",
            "                                                                                                  \n",
            " activation_279 (Activation  (None, 1, 1, 384)            0         ['batch_normalization_279[0][0\n",
            " )                                                                  ]']                           \n",
            "                                                                                                  \n",
            " activation_280 (Activation  (None, 1, 1, 384)            0         ['batch_normalization_280[0][0\n",
            " )                                                                  ]']                           \n",
            "                                                                                                  \n",
            " batch_normalization_281 (B  (None, 1, 1, 192)            576       ['conv2d_281[0][0]']          \n",
            " atchNormalization)                                                                               \n",
            "                                                                                                  \n",
            " activation_273 (Activation  (None, 1, 1, 320)            0         ['batch_normalization_273[0][0\n",
            " )                                                                  ]']                           \n",
            "                                                                                                  \n",
            " mixed9_1 (Concatenate)      (None, 1, 1, 768)            0         ['activation_275[0][0]',      \n",
            "                                                                     'activation_276[0][0]']      \n",
            "                                                                                                  \n",
            " concatenate_5 (Concatenate  (None, 1, 1, 768)            0         ['activation_279[0][0]',      \n",
            " )                                                                   'activation_280[0][0]']      \n",
            "                                                                                                  \n",
            " activation_281 (Activation  (None, 1, 1, 192)            0         ['batch_normalization_281[0][0\n",
            " )                                                                  ]']                           \n",
            "                                                                                                  \n",
            " mixed10 (Concatenate)       (None, 1, 1, 2048)           0         ['activation_273[0][0]',      \n",
            "                                                                     'mixed9_1[0][0]',            \n",
            "                                                                     'concatenate_5[0][0]',       \n",
            "                                                                     'activation_281[0][0]']      \n",
            "                                                                                                  \n",
            "==================================================================================================\n",
            "Total params: 21802784 (83.17 MB)\n",
            "Trainable params: 0 (0.00 Byte)\n",
            "Non-trainable params: 21802784 (83.17 MB)\n",
            "__________________________________________________________________________________________________\n"
          ]
        }
      ]
    },
    {
      "cell_type": "code",
      "source": [
        "\n",
        "model_ins3 = Sequential([\n",
        "    tf.keras.Input(shape=(28, 28, 1)),\n",
        "    Resizing(width=75, height=75),\n",
        "    GrayscaleToRGB(),\n",
        "    ins3,\n",
        "    Flatten(),\n",
        "    # Dense(256, activation='relu'),\n",
        "    # Dropout(0.5),\n",
        "    Dense(10, activation='Softmax')\n",
        "])"
      ],
      "metadata": {
        "id": "U47b_M2bdJSI"
      },
      "execution_count": 182,
      "outputs": []
    },
    {
      "cell_type": "code",
      "source": [
        "model_ins3.summary()"
      ],
      "metadata": {
        "colab": {
          "base_uri": "https://localhost:8080/"
        },
        "id": "Z7FLUOMezUKn",
        "outputId": "6ce3d0ad-9ae7-4b3b-9991-b9e38f29477d"
      },
      "execution_count": 184,
      "outputs": [
        {
          "output_type": "stream",
          "name": "stdout",
          "text": [
            "Model: \"sequential_16\"\n",
            "_________________________________________________________________\n",
            " Layer (type)                Output Shape              Param #   \n",
            "=================================================================\n",
            " resizing_17 (Resizing)      (None, 75, 75, 1)         0         \n",
            "                                                                 \n",
            " grayscale_to_rgb_17 (Grays  (None, 75, 75, 3)         0         \n",
            " caleToRGB)                                                      \n",
            "                                                                 \n",
            " inception_v3 (Functional)   (None, 1, 1, 2048)        21802784  \n",
            "                                                                 \n",
            " flatten_17 (Flatten)        (None, 2048)              0         \n",
            "                                                                 \n",
            " dense_31 (Dense)            (None, 10)                20490     \n",
            "                                                                 \n",
            "=================================================================\n",
            "Total params: 21823274 (83.25 MB)\n",
            "Trainable params: 20490 (80.04 KB)\n",
            "Non-trainable params: 21802784 (83.17 MB)\n",
            "_________________________________________________________________\n"
          ]
        }
      ]
    },
    {
      "cell_type": "code",
      "source": [
        "model_ins3.compile(optimizer='adam', loss='categorical_crossentropy', metrics=['accuracy'])"
      ],
      "metadata": {
        "id": "4qspeYZqyljK"
      },
      "execution_count": 185,
      "outputs": []
    },
    {
      "cell_type": "code",
      "source": [
        "early_stopping = EarlyStopping(monitor='accuracy',min_delta=0.1, patience=2, restore_best_weights=True)\n",
        "\n",
        "history_2 = model_ins3.fit(x_train, y_train, epochs=1, validation_data=(x_test, y_test), callbacks=[early_stopping])"
      ],
      "metadata": {
        "id": "g0a90-3Oyp9L"
      },
      "execution_count": 198,
      "outputs": []
    },
    {
      "cell_type": "code",
      "source": [
        "fig, ax = plt.subplots(nrows=3, ncols=3)\n",
        "cnt = 0\n",
        "for i in range(0,3):\n",
        "    for j in range(0,3):\n",
        "        ax[i,j].imshow(1-x_train[np.random.randint(0, 60000)].reshape(28,28),cmap='Greys')"
      ],
      "metadata": {
        "colab": {
          "base_uri": "https://localhost:8080/",
          "height": 433
        },
        "id": "y9fOKBMjy-ME",
        "outputId": "580777bc-b4fa-4a1a-a62d-5a8a77cc85f0"
      },
      "execution_count": 190,
      "outputs": [
        {
          "output_type": "display_data",
          "data": {
            "text/plain": [
              "<Figure size 640x480 with 9 Axes>"
            ],
            "image/png": "[encoded data removed]"
          },
          "metadata": {}
        }
      ]
    },
    {
      "cell_type": "code",
      "source": [
        "x_inv = 1-x_train"
      ],
      "metadata": {
        "id": "u7tO5t50BBIB"
      },
      "execution_count": 191,
      "outputs": []
    },
    {
      "cell_type": "code",
      "source": [
        "history_3 = model_ins3.fit(x_inv, y_train, epochs=1, validation_data=(x_test, y_test), callbacks=[early_stopping])"
      ],
      "metadata": {
        "colab": {
          "base_uri": "https://localhost:8080/"
        },
        "id": "IB7jOxP1Bng_",
        "outputId": "fd3ef27e-d41b-483e-f072-020d84a36d43"
      },
      "execution_count": 192,
      "outputs": [
        {
          "output_type": "stream",
          "name": "stdout",
          "text": [
            "1875/1875 [==============================] - 685s 365ms/step - loss: 0.3389 - accuracy: 0.8931 - val_loss: 0.7623 - val_accuracy: 0.7514\n"
          ]
        }
      ]
    },
    {
      "cell_type": "code",
      "source": [
        "val_loss, val_accuracy = model_ins3.evaluate(x_test, y_test)\n",
        "print(\"val_loss: \", val_loss)\n",
        "print(\"val_accuracy: \", val_accuracy)"
      ],
      "metadata": {
        "colab": {
          "base_uri": "https://localhost:8080/"
        },
        "id": "k2Poj5J-BxV3",
        "outputId": "4d123ac1-f4a8-4438-e1aa-bd6d9b6e98f2"
      },
      "execution_count": 194,
      "outputs": [
        {
          "output_type": "stream",
          "name": "stdout",
          "text": [
            "313/313 [==============================] - 96s 307ms/step - loss: 0.7623 - accuracy: 0.7514\n",
            "val_loss:  0.7622536420822144\n",
            "val_accuracy:  0.7513999938964844\n"
          ]
        }
      ]
    },
    {
      "cell_type": "code",
      "source": [
        "x_all = np.concatenate((x_train, x_inv))\n",
        "y_all = np.concatenate((y_train, y_train))"
      ],
      "metadata": {
        "id": "6_8SBQUrEpZX"
      },
      "execution_count": 195,
      "outputs": []
    },
    {
      "cell_type": "code",
      "source": [
        "history_3 = model_ins3.fit(x_all, y_all, epochs=1, validation_data=(x_test, y_test), callbacks=[early_stopping])"
      ],
      "metadata": {
        "colab": {
          "base_uri": "https://localhost:8080/"
        },
        "id": "ILCgFKGVFwD0",
        "outputId": "2447b469-46ae-4bd9-a815-364a54d4fb02"
      },
      "execution_count": 199,
      "outputs": [
        {
          "output_type": "stream",
          "name": "stdout",
          "text": [
            "3750/3750 [==============================] - 1272s 339ms/step - loss: 0.2393 - accuracy: 0.9227 - val_loss: 0.2544 - val_accuracy: 0.9178\n"
          ]
        }
      ]
    },
    {
      "cell_type": "code",
      "source": [
        "print(history_3.history.keys())\n",
        "print(history_3.history['loss'])\n",
        "print(history_3.history['accuracy'])\n",
        "print(history_3.history['val_loss'])\n",
        "print(history_3.history['val_accuracy'])"
      ],
      "metadata": {
        "colab": {
          "base_uri": "https://localhost:8080/"
        },
        "id": "ThUH-SP9HiDX",
        "outputId": "f35194aa-0742-4b58-f562-f2beab45832e"
      },
      "execution_count": 200,
      "outputs": [
        {
          "output_type": "stream",
          "name": "stdout",
          "text": [
            "dict_keys(['loss', 'accuracy', 'val_loss', 'val_accuracy'])\n",
            "[0.23927974700927734]\n",
            "[0.9227416515350342]\n",
            "[0.25440892577171326]\n",
            "[0.9178000092506409]\n"
          ]
        }
      ]
    },
    {
      "cell_type": "code",
      "source": [
        "!pip install kaggle"
      ],
      "metadata": {
        "colab": {
          "base_uri": "https://localhost:8080/"
        },
        "id": "imdeuG6kMiVc",
        "outputId": "21f30673-5203-4f9a-a890-03f62cabe50c"
      },
      "execution_count": 202,
      "outputs": [
        {
          "output_type": "stream",
          "name": "stdout",
          "text": [
            "Requirement already satisfied: kaggle in /usr/local/lib/python3.10/dist-packages (1.6.14)\n",
            "Requirement already satisfied: six>=1.10 in /usr/local/lib/python3.10/dist-packages (from kaggle) (1.16.0)\n",
            "Requirement already satisfied: certifi>=2023.7.22 in /usr/local/lib/python3.10/dist-packages (from kaggle) (2024.6.2)\n",
            "Requirement already satisfied: python-dateutil in /usr/local/lib/python3.10/dist-packages (from kaggle) (2.8.2)\n",
            "Requirement already satisfied: requests in /usr/local/lib/python3.10/dist-packages (from kaggle) (2.31.0)\n",
            "Requirement already satisfied: tqdm in /usr/local/lib/python3.10/dist-packages (from kaggle) (4.66.4)\n",
            "Requirement already satisfied: python-slugify in /usr/local/lib/python3.10/dist-packages (from kaggle) (8.0.4)\n",
            "Requirement already satisfied: urllib3 in /usr/local/lib/python3.10/dist-packages (from kaggle) (2.0.7)\n",
            "Requirement already satisfied: bleach in /usr/local/lib/python3.10/dist-packages (from kaggle) (6.1.0)\n",
            "Requirement already satisfied: webencodings in /usr/local/lib/python3.10/dist-packages (from bleach->kaggle) (0.5.1)\n",
            "Requirement already satisfied: text-unidecode>=1.3 in /usr/local/lib/python3.10/dist-packages (from python-slugify->kaggle) (1.3)\n",
            "Requirement already satisfied: charset-normalizer<4,>=2 in /usr/local/lib/python3.10/dist-packages (from requests->kaggle) (3.3.2)\n",
            "Requirement already satisfied: idna<4,>=2.5 in /usr/local/lib/python3.10/dist-packages (from requests->kaggle) (3.7)\n"
          ]
        }
      ]
    },
    {
      "cell_type": "code",
      "source": [
        "from google.colab import files\n",
        "\n",
        "uploaded = files.upload()\n",
        "\n",
        "# Make sure the kaggle.json file is in the current directory\n",
        "!mkdir -p ~/.kaggle\n",
        "!mv kaggle.json ~/.kaggle/\n",
        "!chmod 600 ~/.kaggle/kaggle.json\n"
      ],
      "metadata": {
        "colab": {
          "base_uri": "https://localhost:8080/",
          "height": 71
        },
        "id": "7D4vFstOM6BK",
        "outputId": "d44ace6f-c502-49da-e470-f4bf6297bb69"
      },
      "execution_count": 203,
      "outputs": [
        {
          "output_type": "display_data",
          "data": {
            "text/plain": [
              "<IPython.core.display.HTML object>"
            ],
            "text/html": [
              "\n",
              "     <input type=\"file\" id=\"files-fe9e5ae7-fc69-41b6-be8a-8d65860b7d28\" name=\"files[]\" multiple disabled\n",
              "        style=\"border:none\" />\n",
              "     <output id=\"result-fe9e5ae7-fc69-41b6-be8a-8d65860b7d28\">\n",
              "      Upload widget is only available when the cell has been executed in the\n",
              "      current browser session. Please rerun this cell to enable.\n",
              "      </output>\n",
              "      <script>// Copyright 2017 Google LLC\n",
              "//\n",
              "// Licensed under the Apache License, Version 2.0 (the \"License\");\n",
              "// you may not use this file except in compliance with the License.\n",
              "// You may obtain a copy of the License at\n",
              "//\n",
              "//      http://www.apache.org/licenses/LICENSE-2.0\n",
              "//\n",
              "// Unless required by applicable law or agreed to in writing, software\n",
              "// distributed under the License is distributed on an \"AS IS\" BASIS,\n",
              "// WITHOUT WARRANTIES OR CONDITIONS OF ANY KIND, either express or implied.\n",
              "// See the License for the specific language governing permissions and\n",
              "// limitations under the License.\n",
              "\n",
              "/**\n",
              " * @fileoverview Helpers for google.colab Python module.\n",
              " */\n",
              "(function(scope) {\n",
              "function span(text, styleAttributes = {}) {\n",
              "  const element = document.createElement('span');\n",
              "  element.textContent = text;\n",
              "  for (const key of Object.keys(styleAttributes)) {\n",
              "    element.style[key] = styleAttributes[key];\n",
              "  }\n",
              "  return element;\n",
              "}\n",
              "\n",
              "// Max number of bytes which will be uploaded at a time.\n",
              "const MAX_PAYLOAD_SIZE = 100 * 1024;\n",
              "\n",
              "function _uploadFiles(inputId, outputId) {\n",
              "  const steps = uploadFilesStep(inputId, outputId);\n",
              "  const outputElement = document.getElementById(outputId);\n",
              "  // Cache steps on the outputElement to make it available for the next call\n",
              "  // to uploadFilesContinue from Python.\n",
              "  outputElement.steps = steps;\n",
              "\n",
              "  return _uploadFilesContinue(outputId);\n",
              "}\n",
              "\n",
              "// This is roughly an async generator (not supported in the browser yet),\n",
              "// where there are multiple asynchronous steps and the Python side is going\n",
              "// to poll for completion of each step.\n",
              "// This uses a Promise to block the python side on completion of each step,\n",
              "// then passes the result of the previous step as the input to the next step.\n",
              "function _uploadFilesContinue(outputId) {\n",
              "  const outputElement = document.getElementById(outputId);\n",
              "  const steps = outputElement.steps;\n",
              "\n",
              "  const next = steps.next(outputElement.lastPromiseValue);\n",
              "  return Promise.resolve(next.value.promise).then((value) => {\n",
              "    // Cache the last promise value to make it available to the next\n",
              "    // step of the generator.\n",
              "    outputElement.lastPromiseValue = value;\n",
              "    return next.value.response;\n",
              "  });\n",
              "}\n",
              "\n",
              "/**\n",
              " * Generator function which is called between each async step of the upload\n",
              " * process.\n",
              " * @param {string} inputId Element ID of the input file picker element.\n",
              " * @param {string} outputId Element ID of the output display.\n",
              " * @return {!Iterable<!Object>} Iterable of next steps.\n",
              " */\n",
              "function* uploadFilesStep(inputId, outputId) {\n",
              "  const inputElement = document.getElementById(inputId);\n",
              "  inputElement.disabled = false;\n",
              "\n",
              "  const outputElement = document.getElementById(outputId);\n",
              "  outputElement.innerHTML = '';\n",
              "\n",
              "  const pickedPromise = new Promise((resolve) => {\n",
              "    inputElement.addEventListener('change', (e) => {\n",
              "      resolve(e.target.files);\n",
              "    });\n",
              "  });\n",
              "\n",
              "  const cancel = document.createElement('button');\n",
              "  inputElement.parentElement.appendChild(cancel);\n",
              "  cancel.textContent = 'Cancel upload';\n",
              "  const cancelPromise = new Promise((resolve) => {\n",
              "    cancel.onclick = () => {\n",
              "      resolve(null);\n",
              "    };\n",
              "  });\n",
              "\n",
              "  // Wait for the user to pick the files.\n",
              "  const files = yield {\n",
              "    promise: Promise.race([pickedPromise, cancelPromise]),\n",
              "    response: {\n",
              "      action: 'starting',\n",
              "    }\n",
              "  };\n",
              "\n",
              "  cancel.remove();\n",
              "\n",
              "  // Disable the input element since further picks are not allowed.\n",
              "  inputElement.disabled = true;\n",
              "\n",
              "  if (!files) {\n",
              "    return {\n",
              "      response: {\n",
              "        action: 'complete',\n",
              "      }\n",
              "    };\n",
              "  }\n",
              "\n",
              "  for (const file of files) {\n",
              "    const li = document.createElement('li');\n",
              "    li.append(span(file.name, {fontWeight: 'bold'}));\n",
              "    li.append(span(\n",
              "        `(${file.type || 'n/a'}) - ${file.size} bytes, ` +\n",
              "        `last modified: ${\n",
              "            file.lastModifiedDate ? file.lastModifiedDate.toLocaleDateString() :\n",
              "                                    'n/a'} - `));\n",
              "    const percent = span('0% done');\n",
              "    li.appendChild(percent);\n",
              "\n",
              "    outputElement.appendChild(li);\n",
              "\n",
              "    const fileDataPromise = new Promise((resolve) => {\n",
              "      const reader = new FileReader();\n",
              "      reader.onload = (e) => {\n",
              "        resolve(e.target.result);\n",
              "      };\n",
              "      reader.readAsArrayBuffer(file);\n",
              "    });\n",
              "    // Wait for the data to be ready.\n",
              "    let fileData = yield {\n",
              "      promise: fileDataPromise,\n",
              "      response: {\n",
              "        action: 'continue',\n",
              "      }\n",
              "    };\n",
              "\n",
              "    // Use a chunked sending to avoid message size limits. See b/62115660.\n",
              "    let position = 0;\n",
              "    do {\n",
              "      const length = Math.min(fileData.byteLength - position, MAX_PAYLOAD_SIZE);\n",
              "      const chunk = new Uint8Array(fileData, position, length);\n",
              "      position += length;\n",
              "\n",
              "      const base64 = btoa(String.fromCharCode.apply(null, chunk));\n",
              "      yield {\n",
              "        response: {\n",
              "          action: 'append',\n",
              "          file: file.name,\n",
              "          data: base64,\n",
              "        },\n",
              "      };\n",
              "\n",
              "      let percentDone = fileData.byteLength === 0 ?\n",
              "          100 :\n",
              "          Math.round((position / fileData.byteLength) * 100);\n",
              "      percent.textContent = `${percentDone}% done`;\n",
              "\n",
              "    } while (position < fileData.byteLength);\n",
              "  }\n",
              "\n",
              "  // All done.\n",
              "  yield {\n",
              "    response: {\n",
              "      action: 'complete',\n",
              "    }\n",
              "  };\n",
              "}\n",
              "\n",
              "scope.google = scope.google || {};\n",
              "scope.google.colab = scope.google.colab || {};\n",
              "scope.google.colab._files = {\n",
              "  _uploadFiles,\n",
              "  _uploadFilesContinue,\n",
              "};\n",
              "})(self);\n",
              "</script> "
            ]
          },
          "metadata": {}
        },
        {
          "output_type": "stream",
          "name": "stdout",
          "text": [
            "mv: cannot stat 'kaggle.json': No such file or directory\n",
            "chmod: cannot access '/root/.kaggle/kaggle.json': No such file or directory\n"
          ]
        }
      ]
    },
    {
      "cell_type": "code",
      "source": [
        "!kaggle datasets download -d nimishmagre/tmnist-typeface-mnist"
      ],
      "metadata": {
        "colab": {
          "base_uri": "https://localhost:8080/"
        },
        "id": "PwOkqunWNdlv",
        "outputId": "4e7792d0-c79d-4dee-8bbd-be26b3ef25e4"
      },
      "execution_count": 204,
      "outputs": [
        {
          "output_type": "stream",
          "name": "stdout",
          "text": [
            "Dataset URL: https://www.kaggle.com/datasets/nimishmagre/tmnist-typeface-mnist\n",
            "License(s): unknown\n",
            "Downloading tmnist-typeface-mnist.zip to /content\n",
            " 62% 5.00M/8.07M [00:00<00:00, 25.2MB/s]\n",
            "100% 8.07M/8.07M [00:00<00:00, 34.6MB/s]\n"
          ]
        }
      ]
    },
    {
      "cell_type": "code",
      "source": [
        "!unzip tmnist-typeface-mnist.zip"
      ],
      "metadata": {
        "colab": {
          "base_uri": "https://localhost:8080/"
        },
        "id": "b-C6rzarN5uM",
        "outputId": "94f25e37-49ac-4e62-a202-fce5a900ab89"
      },
      "execution_count": 205,
      "outputs": [
        {
          "output_type": "stream",
          "name": "stdout",
          "text": [
            "Archive:  tmnist-typeface-mnist.zip\n",
            "  inflating: TMNIST_Data.csv         \n"
          ]
        }
      ]
    },
    {
      "cell_type": "code",
      "source": [
        "data = pd.read_csv('./TMNIST_Data.csv')\n",
        "data.head()"
      ],
      "metadata": {
        "colab": {
          "base_uri": "https://localhost:8080/",
          "height": 236
        },
        "id": "PzEL5mCTOMTX",
        "outputId": "d5b11a9f-bf0a-4b2a-8bba-2a16b004e28b"
      },
      "execution_count": 214,
      "outputs": [
        {
          "output_type": "execute_result",
          "data": {
            "text/plain": [
              "                        names  labels  1  2  3  4  5  6  7  8  ...  775  776  \\\n",
              "0          GrandHotel-Regular       2  0  0  0  0  0  0  0  0  ...    0    0   \n",
              "1  EncodeSansCondensed-Medium       8  0  0  0  0  0  0  0  0  ...    0    0   \n",
              "2              Varela-Regular       4  0  0  0  0  0  0  0  0  ...    0    0   \n",
              "3              ArefRuqaa-Bold       3  0  0  0  0  0  0  0  0  ...    0    0   \n",
              "4           KulimPark-Regular       1  0  0  0  0  0  0  0  0  ...    0    0   \n",
              "\n",
              "   777  778  779  780  781  782  783  784  \n",
              "0    0    0    0    0    0    0    0    0  \n",
              "1    0    0    0    0    0    0    0    0  \n",
              "2    0    0    0    0    0    0    0    0  \n",
              "3    0    0    0    0    0    0    0    0  \n",
              "4    0    0    0    0    0    0    0    0  \n",
              "\n",
              "[5 rows x 786 columns]"
            ],
            "text/html": [
              "\n",
              "  <div id=\"df-90b77c29-91b3-4433-921a-fa8be9f1cd37\" class=\"colab-df-container\">\n",
              "    <div>\n",
              "<style scoped>\n",
              "    .dataframe tbody tr th:only-of-type {\n",
              "        vertical-align: middle;\n",
              "    }\n",
              "\n",
              "    .dataframe tbody tr th {\n",
              "        vertical-align: top;\n",
              "    }\n",
              "\n",
              "    .dataframe thead th {\n",
              "        text-align: right;\n",
              "    }\n",
              "</style>\n",
              "<table border=\"1\" class=\"dataframe\">\n",
              "  <thead>\n",
              "    <tr style=\"text-align: right;\">\n",
              "      <th></th>\n",
              "      <th>names</th>\n",
              "      <th>labels</th>\n",
              "      <th>1</th>\n",
              "      <th>2</th>\n",
              "      <th>3</th>\n",
              "      <th>4</th>\n",
              "      <th>5</th>\n",
              "      <th>6</th>\n",
              "      <th>7</th>\n",
              "      <th>8</th>\n",
              "      <th>...</th>\n",
              "      <th>775</th>\n",
              "      <th>776</th>\n",
              "      <th>777</th>\n",
              "      <th>778</th>\n",
              "      <th>779</th>\n",
              "      <th>780</th>\n",
              "      <th>781</th>\n",
              "      <th>782</th>\n",
              "      <th>783</th>\n",
              "      <th>784</th>\n",
              "    </tr>\n",
              "  </thead>\n",
              "  <tbody>\n",
              "    <tr>\n",
              "      <th>0</th>\n",
              "      <td>GrandHotel-Regular</td>\n",
              "      <td>2</td>\n",
              "      <td>0</td>\n",
              "      <td>0</td>\n",
              "      <td>0</td>\n",
              "      <td>0</td>\n",
              "      <td>0</td>\n",
              "      <td>0</td>\n",
              "      <td>0</td>\n",
              "      <td>0</td>\n",
              "      <td>...</td>\n",
              "      <td>0</td>\n",
              "      <td>0</td>\n",
              "      <td>0</td>\n",
              "      <td>0</td>\n",
              "      <td>0</td>\n",
              "      <td>0</td>\n",
              "      <td>0</td>\n",
              "      <td>0</td>\n",
              "      <td>0</td>\n",
              "      <td>0</td>\n",
              "    </tr>\n",
              "    <tr>\n",
              "      <th>1</th>\n",
              "      <td>EncodeSansCondensed-Medium</td>\n",
              "      <td>8</td>\n",
              "      <td>0</td>\n",
              "      <td>0</td>\n",
              "      <td>0</td>\n",
              "      <td>0</td>\n",
              "      <td>0</td>\n",
              "      <td>0</td>\n",
              "      <td>0</td>\n",
              "      <td>0</td>\n",
              "      <td>...</td>\n",
              "      <td>0</td>\n",
              "      <td>0</td>\n",
              "      <td>0</td>\n",
              "      <td>0</td>\n",
              "      <td>0</td>\n",
              "      <td>0</td>\n",
              "      <td>0</td>\n",
              "      <td>0</td>\n",
              "      <td>0</td>\n",
              "      <td>0</td>\n",
              "    </tr>\n",
              "    <tr>\n",
              "      <th>2</th>\n",
              "      <td>Varela-Regular</td>\n",
              "      <td>4</td>\n",
              "      <td>0</td>\n",
              "      <td>0</td>\n",
              "      <td>0</td>\n",
              "      <td>0</td>\n",
              "      <td>0</td>\n",
              "      <td>0</td>\n",
              "      <td>0</td>\n",
              "      <td>0</td>\n",
              "      <td>...</td>\n",
              "      <td>0</td>\n",
              "      <td>0</td>\n",
              "      <td>0</td>\n",
              "      <td>0</td>\n",
              "      <td>0</td>\n",
              "      <td>0</td>\n",
              "      <td>0</td>\n",
              "      <td>0</td>\n",
              "      <td>0</td>\n",
              "      <td>0</td>\n",
              "    </tr>\n",
              "    <tr>\n",
              "      <th>3</th>\n",
              "      <td>ArefRuqaa-Bold</td>\n",
              "      <td>3</td>\n",
              "      <td>0</td>\n",
              "      <td>0</td>\n",
              "      <td>0</td>\n",
              "      <td>0</td>\n",
              "      <td>0</td>\n",
              "      <td>0</td>\n",
              "      <td>0</td>\n",
              "      <td>0</td>\n",
              "      <td>...</td>\n",
              "      <td>0</td>\n",
              "      <td>0</td>\n",
              "      <td>0</td>\n",
              "      <td>0</td>\n",
              "      <td>0</td>\n",
              "      <td>0</td>\n",
              "      <td>0</td>\n",
              "      <td>0</td>\n",
              "      <td>0</td>\n",
              "      <td>0</td>\n",
              "    </tr>\n",
              "    <tr>\n",
              "      <th>4</th>\n",
              "      <td>KulimPark-Regular</td>\n",
              "      <td>1</td>\n",
              "      <td>0</td>\n",
              "      <td>0</td>\n",
              "      <td>0</td>\n",
              "      <td>0</td>\n",
              "      <td>0</td>\n",
              "      <td>0</td>\n",
              "      <td>0</td>\n",
              "      <td>0</td>\n",
              "      <td>...</td>\n",
              "      <td>0</td>\n",
              "      <td>0</td>\n",
              "      <td>0</td>\n",
              "      <td>0</td>\n",
              "      <td>0</td>\n",
              "      <td>0</td>\n",
              "      <td>0</td>\n",
              "      <td>0</td>\n",
              "      <td>0</td>\n",
              "      <td>0</td>\n",
              "    </tr>\n",
              "  </tbody>\n",
              "</table>\n",
              "<p>5 rows × 786 columns</p>\n",
              "</div>\n",
              "    <div class=\"colab-df-buttons\">\n",
              "\n",
              "  <div class=\"colab-df-container\">\n",
              "    <button class=\"colab-df-convert\" onclick=\"convertToInteractive('df-90b77c29-91b3-4433-921a-fa8be9f1cd37')\"\n",
              "            title=\"Convert this dataframe to an interactive table.\"\n",
              "            style=\"display:none;\">\n",
              "\n",
              "  <svg xmlns=\"http://www.w3.org/2000/svg\" height=\"24px\" viewBox=\"0 -960 960 960\">\n",
              "    <path d=\"M120-120v-720h720v720H120Zm60-500h600v-160H180v160Zm220 220h160v-160H400v160Zm0 220h160v-160H400v160ZM180-400h160v-160H180v160Zm440 0h160v-160H620v160ZM180-180h160v-160H180v160Zm440 0h160v-160H620v160Z\"/>\n",
              "  </svg>\n",
              "    </button>\n",
              "\n",
              "  <style>\n",
              "    .colab-df-container {\n",
              "      display:flex;\n",
              "      gap: 12px;\n",
              "    }\n",
              "\n",
              "    .colab-df-convert {\n",
              "      background-color: #E8F0FE;\n",
              "      border: none;\n",
              "      border-radius: 50%;\n",
              "      cursor: pointer;\n",
              "      display: none;\n",
              "      fill: #1967D2;\n",
              "      height: 32px;\n",
              "      padding: 0 0 0 0;\n",
              "      width: 32px;\n",
              "    }\n",
              "\n",
              "    .colab-df-convert:hover {\n",
              "      background-color: #E2EBFA;\n",
              "      box-shadow: 0px 1px 2px rgba(60, 64, 67, 0.3), 0px 1px 3px 1px rgba(60, 64, 67, 0.15);\n",
              "      fill: #174EA6;\n",
              "    }\n",
              "\n",
              "    .colab-df-buttons div {\n",
              "      margin-bottom: 4px;\n",
              "    }\n",
              "\n",
              "    [theme=dark] .colab-df-convert {\n",
              "      background-color: #3B4455;\n",
              "      fill: #D2E3FC;\n",
              "    }\n",
              "\n",
              "    [theme=dark] .colab-df-convert:hover {\n",
              "      background-color: #434B5C;\n",
              "      box-shadow: 0px 1px 3px 1px rgba(0, 0, 0, 0.15);\n",
              "      filter: drop-shadow(0px 1px 2px rgba(0, 0, 0, 0.3));\n",
              "      fill: #FFFFFF;\n",
              "    }\n",
              "  </style>\n",
              "\n",
              "    <script>\n",
              "      const buttonEl =\n",
              "        document.querySelector('#df-90b77c29-91b3-4433-921a-fa8be9f1cd37 button.colab-df-convert');\n",
              "      buttonEl.style.display =\n",
              "        google.colab.kernel.accessAllowed ? 'block' : 'none';\n",
              "\n",
              "      async function convertToInteractive(key) {\n",
              "        const element = document.querySelector('#df-90b77c29-91b3-4433-921a-fa8be9f1cd37');\n",
              "        const dataTable =\n",
              "          await google.colab.kernel.invokeFunction('convertToInteractive',\n",
              "                                                    [key], {});\n",
              "        if (!dataTable) return;\n",
              "\n",
              "        const docLinkHtml = 'Like what you see? Visit the ' +\n",
              "          '<a target=\"_blank\" href=https://colab.research.google.com/notebooks/data_table.ipynb>data table notebook</a>'\n",
              "          + ' to learn more about interactive tables.';\n",
              "        element.innerHTML = '';\n",
              "        dataTable['output_type'] = 'display_data';\n",
              "        await google.colab.output.renderOutput(dataTable, element);\n",
              "        const docLink = document.createElement('div');\n",
              "        docLink.innerHTML = docLinkHtml;\n",
              "        element.appendChild(docLink);\n",
              "      }\n",
              "    </script>\n",
              "  </div>\n",
              "\n",
              "\n",
              "<div id=\"df-0d805d2f-1dd8-4b82-b659-110347153f72\">\n",
              "  <button class=\"colab-df-quickchart\" onclick=\"quickchart('df-0d805d2f-1dd8-4b82-b659-110347153f72')\"\n",
              "            title=\"Suggest charts\"\n",
              "            style=\"display:none;\">\n",
              "\n",
              "<svg xmlns=\"http://www.w3.org/2000/svg\" height=\"24px\"viewBox=\"0 0 24 24\"\n",
              "     width=\"24px\">\n",
              "    <g>\n",
              "        <path d=\"M19 3H5c-1.1 0-2 .9-2 2v14c0 1.1.9 2 2 2h14c1.1 0 2-.9 2-2V5c0-1.1-.9-2-2-2zM9 17H7v-7h2v7zm4 0h-2V7h2v10zm4 0h-2v-4h2v4z\"/>\n",
              "    </g>\n",
              "</svg>\n",
              "  </button>\n",
              "\n",
              "<style>\n",
              "  .colab-df-quickchart {\n",
              "      --bg-color: #E8F0FE;\n",
              "      --fill-color: #1967D2;\n",
              "      --hover-bg-color: #E2EBFA;\n",
              "      --hover-fill-color: #174EA6;\n",
              "      --disabled-fill-color: #AAA;\n",
              "      --disabled-bg-color: #DDD;\n",
              "  }\n",
              "\n",
              "  [theme=dark] .colab-df-quickchart {\n",
              "      --bg-color: #3B4455;\n",
              "      --fill-color: #D2E3FC;\n",
              "      --hover-bg-color: #434B5C;\n",
              "      --hover-fill-color: #FFFFFF;\n",
              "      --disabled-bg-color: #3B4455;\n",
              "      --disabled-fill-color: #666;\n",
              "  }\n",
              "\n",
              "  .colab-df-quickchart {\n",
              "    background-color: var(--bg-color);\n",
              "    border: none;\n",
              "    border-radius: 50%;\n",
              "    cursor: pointer;\n",
              "    display: none;\n",
              "    fill: var(--fill-color);\n",
              "    height: 32px;\n",
              "    padding: 0;\n",
              "    width: 32px;\n",
              "  }\n",
              "\n",
              "  .colab-df-quickchart:hover {\n",
              "    background-color: var(--hover-bg-color);\n",
              "    box-shadow: 0 1px 2px rgba(60, 64, 67, 0.3), 0 1px 3px 1px rgba(60, 64, 67, 0.15);\n",
              "    fill: var(--button-hover-fill-color);\n",
              "  }\n",
              "\n",
              "  .colab-df-quickchart-complete:disabled,\n",
              "  .colab-df-quickchart-complete:disabled:hover {\n",
              "    background-color: var(--disabled-bg-color);\n",
              "    fill: var(--disabled-fill-color);\n",
              "    box-shadow: none;\n",
              "  }\n",
              "\n",
              "  .colab-df-spinner {\n",
              "    border: 2px solid var(--fill-color);\n",
              "    border-color: transparent;\n",
              "    border-bottom-color: var(--fill-color);\n",
              "    animation:\n",
              "      spin 1s steps(1) infinite;\n",
              "  }\n",
              "\n",
              "  @keyframes spin {\n",
              "    0% {\n",
              "      border-color: transparent;\n",
              "      border-bottom-color: var(--fill-color);\n",
              "      border-left-color: var(--fill-color);\n",
              "    }\n",
              "    20% {\n",
              "      border-color: transparent;\n",
              "      border-left-color: var(--fill-color);\n",
              "      border-top-color: var(--fill-color);\n",
              "    }\n",
              "    30% {\n",
              "      border-color: transparent;\n",
              "      border-left-color: var(--fill-color);\n",
              "      border-top-color: var(--fill-color);\n",
              "      border-right-color: var(--fill-color);\n",
              "    }\n",
              "    40% {\n",
              "      border-color: transparent;\n",
              "      border-right-color: var(--fill-color);\n",
              "      border-top-color: var(--fill-color);\n",
              "    }\n",
              "    60% {\n",
              "      border-color: transparent;\n",
              "      border-right-color: var(--fill-color);\n",
              "    }\n",
              "    80% {\n",
              "      border-color: transparent;\n",
              "      border-right-color: var(--fill-color);\n",
              "      border-bottom-color: var(--fill-color);\n",
              "    }\n",
              "    90% {\n",
              "      border-color: transparent;\n",
              "      border-bottom-color: var(--fill-color);\n",
              "    }\n",
              "  }\n",
              "</style>\n",
              "\n",
              "  <script>\n",
              "    async function quickchart(key) {\n",
              "      const quickchartButtonEl =\n",
              "        document.querySelector('#' + key + ' button');\n",
              "      quickchartButtonEl.disabled = true;  // To prevent multiple clicks.\n",
              "      quickchartButtonEl.classList.add('colab-df-spinner');\n",
              "      try {\n",
              "        const charts = await google.colab.kernel.invokeFunction(\n",
              "            'suggestCharts', [key], {});\n",
              "      } catch (error) {\n",
              "        console.error('Error during call to suggestCharts:', error);\n",
              "      }\n",
              "      quickchartButtonEl.classList.remove('colab-df-spinner');\n",
              "      quickchartButtonEl.classList.add('colab-df-quickchart-complete');\n",
              "    }\n",
              "    (() => {\n",
              "      let quickchartButtonEl =\n",
              "        document.querySelector('#df-0d805d2f-1dd8-4b82-b659-110347153f72 button');\n",
              "      quickchartButtonEl.style.display =\n",
              "        google.colab.kernel.accessAllowed ? 'block' : 'none';\n",
              "    })();\n",
              "  </script>\n",
              "</div>\n",
              "\n",
              "    </div>\n",
              "  </div>\n"
            ],
            "application/vnd.google.colaboratory.intrinsic+json": {
              "type": "dataframe",
              "variable_name": "data"
            }
          },
          "metadata": {},
          "execution_count": 214
        }
      ]
    },
    {
      "cell_type": "code",
      "source": [
        "data.drop(['names'], axis=1, inplace=True)"
      ],
      "metadata": {
        "id": "gOk_lXBLOZSm"
      },
      "execution_count": 215,
      "outputs": []
    },
    {
      "cell_type": "code",
      "source": [
        "x_data = data.iloc[:,1:]\n",
        "y_data = data[\"labels\"]\n",
        "x_data = np.array(x_data).reshape(-1,28,28,1).astype('float32') / 255.0\n",
        "y_data = tf.keras.utils.to_categorical(np.array(y_data),10 )\n",
        "print(x_data.shape)\n",
        "print(y_data.shape)"
      ],
      "metadata": {
        "colab": {
          "base_uri": "https://localhost:8080/"
        },
        "id": "JauYlU8ZOcUW",
        "outputId": "4a81ef41-63d9-4261-9e50-4395eb231504"
      },
      "execution_count": 221,
      "outputs": [
        {
          "output_type": "stream",
          "name": "stdout",
          "text": [
            "(29900, 28, 28, 1)\n",
            "(29900, 10)\n"
          ]
        }
      ]
    },
    {
      "cell_type": "code",
      "source": [
        "fig, ax = plt.subplots(nrows=3, ncols=3)\n",
        "cnt = 0\n",
        "for i in range(0,3):\n",
        "    for j in range(0,3):\n",
        "        ax[i,j].imshow(1-x_data[np.random.randint(0, 29900)].reshape(28,28),cmap='Greys')"
      ],
      "metadata": {
        "colab": {
          "base_uri": "https://localhost:8080/",
          "height": 433
        },
        "id": "Y6OM18m-PCyp",
        "outputId": "6021b0f5-51c0-44bc-d8a0-2de483728ac6"
      },
      "execution_count": 230,
      "outputs": [
        {
          "output_type": "display_data",
          "data": {
            "text/plain": [
              "<Figure size 640x480 with 9 Axes>"
            ],
            "image/png": "[encoded data removed]"
          },
          "metadata": {}
        }
      ]
    },
    {
      "cell_type": "code",
      "source": [
        "x_data_all = np.concatenate((x_data, 1-x_data))\n",
        "y_data_all = np.concatenate((y_data, y_data))"
      ],
      "metadata": {
        "id": "kh5lQlU8PefT"
      },
      "execution_count": 226,
      "outputs": []
    },
    {
      "cell_type": "code",
      "source": [
        "x_data_all.shape,y_data_all.shape"
      ],
      "metadata": {
        "colab": {
          "base_uri": "https://localhost:8080/"
        },
        "id": "mxL-y6j7Qno9",
        "outputId": "0b58fb2e-ff2b-4035-d32d-8d463eb4983f"
      },
      "execution_count": 228,
      "outputs": [
        {
          "output_type": "execute_result",
          "data": {
            "text/plain": [
              "((59800, 28, 28, 1), (59800, 10))"
            ]
          },
          "metadata": {},
          "execution_count": 228
        }
      ]
    },
    {
      "cell_type": "code",
      "source": [
        "X_train_t, X_test_t, y_train_t, y_test_t= train_test_split(x_data_all,y_data_all,test_size=0.1)\n",
        "X_train_t.shape, X_test_t.shape, y_train_t.shape, y_test_t.shape"
      ],
      "metadata": {
        "colab": {
          "base_uri": "https://localhost:8080/"
        },
        "id": "zt58EZJ4R9TX",
        "outputId": "791cee7c-9c6f-45f9-8581-437b5a0b66a1"
      },
      "execution_count": 237,
      "outputs": [
        {
          "output_type": "execute_result",
          "data": {
            "text/plain": [
              "((53820, 28, 28, 1), (5980, 28, 28, 1), (53820, 10), (5980, 10))"
            ]
          },
          "metadata": {},
          "execution_count": 237
        }
      ]
    },
    {
      "cell_type": "code",
      "source": [
        "fig, ax = plt.subplots(nrows=3, ncols=3)\n",
        "cnt = 0\n",
        "for i in range(0,3):\n",
        "    for j in range(0,3):\n",
        "        ax[i,j].imshow(1-X_train_t[np.random.randint(0, 1000)].reshape(28,28),cmap='Greys')"
      ],
      "metadata": {
        "colab": {
          "base_uri": "https://localhost:8080/",
          "height": 433
        },
        "id": "dYzrQO8CShKs",
        "outputId": "e114cf86-b764-48df-f4ed-9fa6768d60da"
      },
      "execution_count": 236,
      "outputs": [
        {
          "output_type": "display_data",
          "data": {
            "text/plain": [
              "<Figure size 640x480 with 9 Axes>"
            ],
            "image/png": "[encoded data removed]"
          },
          "metadata": {}
        }
      ]
    },
    {
      "cell_type": "code",
      "source": [
        "early_stopping = EarlyStopping(monitor='accuracy',min_delta=0.01, patience=2, restore_best_weights=True)\n",
        "\n",
        "history_4 = model_ins3.fit(X_train_t, y_train_t, epochs=10, validation_data=(X_test_t, y_test_t), callbacks=[early_stopping])"
      ],
      "metadata": {
        "colab": {
          "base_uri": "https://localhost:8080/"
        },
        "id": "1kT62jWsQuSA",
        "outputId": "b5b9f7d1-b441-4d97-96c7-8cc551583bb2"
      },
      "execution_count": 238,
      "outputs": [
        {
          "output_type": "stream",
          "name": "stdout",
          "text": [
            "Epoch 1/10\n",
            "1682/1682 [==============================] - 579s 342ms/step - loss: 0.2116 - accuracy: 0.9412 - val_loss: 0.1577 - val_accuracy: 0.9564\n",
            "Epoch 2/10\n",
            "1682/1682 [==============================] - 596s 354ms/step - loss: 0.1226 - accuracy: 0.9643 - val_loss: 0.1341 - val_accuracy: 0.9609\n",
            "Epoch 3/10\n",
            "1682/1682 [==============================] - 573s 341ms/step - loss: 0.0972 - accuracy: 0.9713 - val_loss: 0.1208 - val_accuracy: 0.9671\n",
            "Epoch 4/10\n",
            "1682/1682 [==============================] - 601s 357ms/step - loss: 0.0820 - accuracy: 0.9758 - val_loss: 0.1138 - val_accuracy: 0.9676\n",
            "Epoch 5/10\n",
            "1682/1682 [==============================] - 598s 356ms/step - loss: 0.0703 - accuracy: 0.9797 - val_loss: 0.1040 - val_accuracy: 0.9714\n",
            "Epoch 6/10\n",
            "1682/1682 [==============================] - 595s 354ms/step - loss: 0.0633 - accuracy: 0.9813 - val_loss: 0.1074 - val_accuracy: 0.9692\n"
          ]
        }
      ]
    },
    {
      "cell_type": "code",
      "source": [
        "print(history_4.history.keys())\n",
        "print(history_4.history['loss'])\n",
        "print(history_4.history['accuracy'])\n",
        "print(history_4.history['val_loss'])\n",
        "print(history_4.history['val_accuracy'])"
      ],
      "metadata": {
        "colab": {
          "base_uri": "https://localhost:8080/"
        },
        "id": "6R4RTX7nTkyB",
        "outputId": "46b96a3b-dfe9-46a1-d534-60dc2c28c491"
      },
      "execution_count": 239,
      "outputs": [
        {
          "output_type": "stream",
          "name": "stdout",
          "text": [
            "dict_keys(['loss', 'accuracy', 'val_loss', 'val_accuracy'])\n",
            "[0.21157729625701904, 0.12259194999933243, 0.09723223000764847, 0.08200860768556595, 0.07032611966133118, 0.06329098343849182]\n",
            "[0.941155731678009, 0.9642883539199829, 0.9713303446769714, 0.9757710695266724, 0.9796729683876038, 0.9812523126602173]\n",
            "[0.157708540558815, 0.13414190709590912, 0.12084140628576279, 0.11380700021982193, 0.10396244376897812, 0.10743235051631927]\n",
            "[0.9563544988632202, 0.960869550704956, 0.9670568704605103, 0.9675585031509399, 0.9714046716690063, 0.9692307710647583]\n"
          ]
        }
      ]
    },
    {
      "cell_type": "code",
      "source": [
        "fig, ax = plt.subplots(nrows=1, ncols=2, figsize=(10, 4))\n",
        "\n",
        "ax[0].plot(history_4.history['accuracy'])\n",
        "ax[0].plot(history_4.history['val_accuracy'])\n",
        "ax[0].legend(['accuracy', 'val'], loc='upper left')\n",
        "\n",
        "ax[1].plot(history_4.history['loss'])\n",
        "ax[1].plot(history_4.history['val_loss'])\n",
        "ax[1].legend(['loss', 'val_loss'], loc='upper left')\n",
        "\n",
        "plt.show()"
      ],
      "metadata": {
        "colab": {
          "base_uri": "https://localhost:8080/",
          "height": 368
        },
        "id": "hNIeCGUwjAj7",
        "outputId": "0b0d2d3d-94fc-4ee9-d4ec-79a67e657289"
      },
      "execution_count": 248,
      "outputs": [
        {
          "output_type": "display_data",
          "data": {
            "text/plain": [
              "<Figure size 1000x400 with 2 Axes>"
            ],
            "image/png": "[encoded data removed]"
          },
          "metadata": {}
        }
      ]
    },
    {
      "cell_type": "code",
      "source": [],
      "metadata": {
        "id": "HoYHwcAKjNBS"
      },
      "execution_count": null,
      "outputs": []
    }
  ]
}